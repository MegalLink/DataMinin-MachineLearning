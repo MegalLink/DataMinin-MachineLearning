{
 "cells": [
  {
   "cell_type": "raw",
   "id": "c92e6baf",
   "metadata": {
    "_execution_state": "idle",
    "_uuid": "051d70d956493feee0c6d64651c6a088724dca2a",
    "papermill": {
     "duration": 0.012476,
     "end_time": "2023-06-09T23:33:27.331704",
     "exception": false,
     "start_time": "2023-06-09T23:33:27.319228",
     "status": "completed"
    },
    "tags": []
   },
   "source": [
    "# This R environment comes with many helpful analytics packages installed\n",
    "# It is defined by the kaggle/rstats Docker image: https://github.com/kaggle/docker-rstats\n",
    "# For example, here's a helpful package to load\n",
    "\n",
    "library(tidyverse) # metapackage of all tidyverse packages\n",
    "\n",
    "# Input data files are available in the read-only \"../input/\" directory\n",
    "# For example, running this (by clicking run or pressing Shift+Enter) will list all files under the input directory\n",
    "\n",
    "list.files(path = \"../input\")\n",
    "\n",
    "# You can write up to 20GB to the current directory (/kaggle/working/) that gets preserved as output when you create a version using \"Save & Run All\" \n",
    "# You can also write temporary files to /kaggle/temp/, but they won't be saved outside of the current session"
   ]
  },
  {
   "cell_type": "markdown",
   "id": "e59df38b",
   "metadata": {
    "papermill": {
     "duration": 0.010355,
     "end_time": "2023-06-09T23:33:27.352932",
     "exception": false,
     "start_time": "2023-06-09T23:33:27.342577",
     "status": "completed"
    },
    "tags": []
   },
   "source": [
    "# Hands On: Data Quality and Pre-Processing\n",
    "\n",
    "### 1. Assessing Data Quality\n",
    "\n",
    "Load the following packages: dplyr, na.tools, tidyimpute (version from github\n",
    "decisionpatterns/tidyimpute”)\n",
    "Load the carInsurance data set about the insurance risk rating of cars based on several characteristics of\n",
    "each car"
   ]
  },
  {
   "cell_type": "code",
   "execution_count": 1,
   "id": "95b8f6f8",
   "metadata": {
    "execution": {
     "iopub.execute_input": "2023-06-09T23:33:27.378333Z",
     "iopub.status.busy": "2023-06-09T23:33:27.375994Z",
     "iopub.status.idle": "2023-06-09T23:35:13.996572Z",
     "shell.execute_reply": "2023-06-09T23:35:13.994564Z"
    },
    "papermill": {
     "duration": 106.636765,
     "end_time": "2023-06-09T23:35:14.000150",
     "exception": false,
     "start_time": "2023-06-09T23:33:27.363385",
     "status": "completed"
    },
    "tags": []
   },
   "outputs": [
    {
     "name": "stderr",
     "output_type": "stream",
     "text": [
      "Loading required package: devtools\n",
      "\n",
      "Loading required package: usethis\n",
      "\n",
      "Installing package into ‘/usr/local/lib/R/site-library’\n",
      "(as ‘lib’ is unspecified)\n",
      "\n",
      "Downloading GitHub repo decisionpatterns/tidyimpute@HEAD\n",
      "\n"
     ]
    },
    {
     "name": "stdout",
     "output_type": "stream",
     "text": [
      "na.tools (NA -> 0.3.1) [CRAN]\n"
     ]
    },
    {
     "name": "stderr",
     "output_type": "stream",
     "text": [
      "Installing 1 packages: na.tools\n",
      "\n",
      "Installing package into ‘/usr/local/lib/R/site-library’\n",
      "(as ‘lib’ is unspecified)\n",
      "\n"
     ]
    },
    {
     "name": "stdout",
     "output_type": "stream",
     "text": [
      "\u001b[32m✔\u001b[39m  \u001b[90mchecking for file ‘/tmp/RtmpOBAJve/remotese666170f8/decisionpatterns-tidyimpute-9e07748/DESCRIPTION’\u001b[39m\u001b[36m\u001b[39m\n",
      "\u001b[90m─\u001b[39m\u001b[90m  \u001b[39m\u001b[90mpreparing ‘tidyimpute’:\u001b[39m\u001b[36m\u001b[39m\n",
      "\u001b[32m✔\u001b[39m  \u001b[90mchecking DESCRIPTION meta-information\u001b[39m\u001b[36m\u001b[39m\n",
      "\u001b[90m─\u001b[39m\u001b[90m  \u001b[39m\u001b[90mchecking for LF line-endings in source and make files and shell scripts\u001b[39m\u001b[36m\u001b[39m\n",
      "\u001b[90m─\u001b[39m\u001b[90m  \u001b[39m\u001b[90mchecking for empty or unneeded directories\u001b[39m\u001b[36m\u001b[39m\n",
      "\u001b[90m─\u001b[39m\u001b[90m  \u001b[39m\u001b[90mbuilding ‘tidyimpute_0.2.0.tar.gz’\u001b[39m\u001b[36m\u001b[39m\n",
      "   \n",
      "\r"
     ]
    },
    {
     "name": "stderr",
     "output_type": "stream",
     "text": [
      "Installing package into ‘/usr/local/lib/R/site-library’\n",
      "(as ‘lib’ is unspecified)\n",
      "\n",
      "\n",
      "Attaching package: ‘dplyr’\n",
      "\n",
      "\n",
      "The following objects are masked from ‘package:stats’:\n",
      "\n",
      "    filter, lag\n",
      "\n",
      "\n",
      "The following objects are masked from ‘package:base’:\n",
      "\n",
      "    intersect, setdiff, setequal, union\n",
      "\n",
      "\n"
     ]
    }
   ],
   "source": [
    "# Install and load the devtools package (if not already installed)\n",
    "if (!require(devtools)) {\n",
    "  install.packages(\"devtools\")\n",
    "}\n",
    "library(devtools)\n",
    "install.packages(\"DescTools\")\n",
    "\n",
    "# Install the tidyimpute package from GitHub\n",
    "install_github(\"decisionpatterns/tidyimpute\")\n",
    "\n",
    "# Load the required packages\n",
    "library(dplyr)\n",
    "library(na.tools)\n",
    "library(tidyimpute)\n",
    "library(DescTools)"
   ]
  },
  {
   "cell_type": "markdown",
   "id": "d46d64bd",
   "metadata": {
    "papermill": {
     "duration": 0.012334,
     "end_time": "2023-06-09T23:35:14.027388",
     "exception": false,
     "start_time": "2023-06-09T23:35:14.015054",
     "status": "completed"
    },
    "tags": []
   },
   "source": [
    "Load the carInsurance data set about the insurance risk rating of cars based on several characteristics of\n",
    "each car"
   ]
  },
  {
   "cell_type": "code",
   "execution_count": 2,
   "id": "062c5d65",
   "metadata": {
    "execution": {
     "iopub.execute_input": "2023-06-09T23:35:14.087837Z",
     "iopub.status.busy": "2023-06-09T23:35:14.053959Z",
     "iopub.status.idle": "2023-06-09T23:35:14.151591Z",
     "shell.execute_reply": "2023-06-09T23:35:14.149553Z"
    },
    "papermill": {
     "duration": 0.114769,
     "end_time": "2023-06-09T23:35:14.154232",
     "exception": false,
     "start_time": "2023-06-09T23:35:14.039463",
     "status": "completed"
    },
    "tags": []
   },
   "outputs": [
    {
     "data": {
      "text/html": [
       "<table class=\"dataframe\">\n",
       "<caption>A tibble: 6 × 26</caption>\n",
       "<thead>\n",
       "\t<tr><th scope=col>symb</th><th scope=col>normLoss</th><th scope=col>make</th><th scope=col>fuelType</th><th scope=col>aspiration</th><th scope=col>nDoors</th><th scope=col>bodyStyle</th><th scope=col>driveWheels</th><th scope=col>engineLocation</th><th scope=col>wheelBase</th><th scope=col>⋯</th><th scope=col>engineSize</th><th scope=col>fuelSystem</th><th scope=col>bore</th><th scope=col>stroke</th><th scope=col>compressionRatio</th><th scope=col>horsePower</th><th scope=col>peakRpm</th><th scope=col>cityMpg</th><th scope=col>highwayMpg</th><th scope=col>price</th></tr>\n",
       "\t<tr><th scope=col>&lt;int&gt;</th><th scope=col>&lt;int&gt;</th><th scope=col>&lt;fct&gt;</th><th scope=col>&lt;fct&gt;</th><th scope=col>&lt;fct&gt;</th><th scope=col>&lt;fct&gt;</th><th scope=col>&lt;fct&gt;</th><th scope=col>&lt;fct&gt;</th><th scope=col>&lt;fct&gt;</th><th scope=col>&lt;dbl&gt;</th><th scope=col>⋯</th><th scope=col>&lt;int&gt;</th><th scope=col>&lt;fct&gt;</th><th scope=col>&lt;dbl&gt;</th><th scope=col>&lt;dbl&gt;</th><th scope=col>&lt;dbl&gt;</th><th scope=col>&lt;int&gt;</th><th scope=col>&lt;int&gt;</th><th scope=col>&lt;int&gt;</th><th scope=col>&lt;int&gt;</th><th scope=col>&lt;int&gt;</th></tr>\n",
       "</thead>\n",
       "<tbody>\n",
       "\t<tr><td>3</td><td> NA</td><td>alfa-romero</td><td>gas</td><td>std</td><td>two </td><td>convertible</td><td>rwd</td><td>front</td><td>88.6</td><td>⋯</td><td>130</td><td>mpfi</td><td>3.47</td><td>2.68</td><td> 9.0</td><td>111</td><td>5000</td><td>21</td><td>27</td><td>13495</td></tr>\n",
       "\t<tr><td>3</td><td> NA</td><td>alfa-romero</td><td>gas</td><td>std</td><td>two </td><td>convertible</td><td>rwd</td><td>front</td><td>88.6</td><td>⋯</td><td>130</td><td>mpfi</td><td>3.47</td><td>2.68</td><td> 9.0</td><td>111</td><td>5000</td><td>21</td><td>27</td><td>16500</td></tr>\n",
       "\t<tr><td>1</td><td> NA</td><td>alfa-romero</td><td>gas</td><td>std</td><td>two </td><td>hatchback  </td><td>rwd</td><td>front</td><td>94.5</td><td>⋯</td><td>152</td><td>mpfi</td><td>2.68</td><td>3.47</td><td> 9.0</td><td>154</td><td>5000</td><td>19</td><td>26</td><td>16500</td></tr>\n",
       "\t<tr><td>2</td><td>164</td><td>audi       </td><td>gas</td><td>std</td><td>four</td><td>sedan      </td><td>fwd</td><td>front</td><td>99.8</td><td>⋯</td><td>109</td><td>mpfi</td><td>3.19</td><td>3.40</td><td>10.0</td><td>102</td><td>5500</td><td>24</td><td>30</td><td>13950</td></tr>\n",
       "\t<tr><td>2</td><td>164</td><td>audi       </td><td>gas</td><td>std</td><td>four</td><td>sedan      </td><td>4wd</td><td>front</td><td>99.4</td><td>⋯</td><td>136</td><td>mpfi</td><td>3.19</td><td>3.40</td><td> 8.0</td><td>115</td><td>5500</td><td>18</td><td>22</td><td>17450</td></tr>\n",
       "\t<tr><td>2</td><td> NA</td><td>audi       </td><td>gas</td><td>std</td><td>two </td><td>sedan      </td><td>fwd</td><td>front</td><td>99.8</td><td>⋯</td><td>136</td><td>mpfi</td><td>3.19</td><td>3.40</td><td> 8.5</td><td>110</td><td>5500</td><td>19</td><td>25</td><td>15250</td></tr>\n",
       "</tbody>\n",
       "</table>\n"
      ],
      "text/latex": [
       "A tibble: 6 × 26\n",
       "\\begin{tabular}{lllllllllllllllllllll}\n",
       " symb & normLoss & make & fuelType & aspiration & nDoors & bodyStyle & driveWheels & engineLocation & wheelBase & ⋯ & engineSize & fuelSystem & bore & stroke & compressionRatio & horsePower & peakRpm & cityMpg & highwayMpg & price\\\\\n",
       " <int> & <int> & <fct> & <fct> & <fct> & <fct> & <fct> & <fct> & <fct> & <dbl> & ⋯ & <int> & <fct> & <dbl> & <dbl> & <dbl> & <int> & <int> & <int> & <int> & <int>\\\\\n",
       "\\hline\n",
       "\t 3 &  NA & alfa-romero & gas & std & two  & convertible & rwd & front & 88.6 & ⋯ & 130 & mpfi & 3.47 & 2.68 &  9.0 & 111 & 5000 & 21 & 27 & 13495\\\\\n",
       "\t 3 &  NA & alfa-romero & gas & std & two  & convertible & rwd & front & 88.6 & ⋯ & 130 & mpfi & 3.47 & 2.68 &  9.0 & 111 & 5000 & 21 & 27 & 16500\\\\\n",
       "\t 1 &  NA & alfa-romero & gas & std & two  & hatchback   & rwd & front & 94.5 & ⋯ & 152 & mpfi & 2.68 & 3.47 &  9.0 & 154 & 5000 & 19 & 26 & 16500\\\\\n",
       "\t 2 & 164 & audi        & gas & std & four & sedan       & fwd & front & 99.8 & ⋯ & 109 & mpfi & 3.19 & 3.40 & 10.0 & 102 & 5500 & 24 & 30 & 13950\\\\\n",
       "\t 2 & 164 & audi        & gas & std & four & sedan       & 4wd & front & 99.4 & ⋯ & 136 & mpfi & 3.19 & 3.40 &  8.0 & 115 & 5500 & 18 & 22 & 17450\\\\\n",
       "\t 2 &  NA & audi        & gas & std & two  & sedan       & fwd & front & 99.8 & ⋯ & 136 & mpfi & 3.19 & 3.40 &  8.5 & 110 & 5500 & 19 & 25 & 15250\\\\\n",
       "\\end{tabular}\n"
      ],
      "text/markdown": [
       "\n",
       "A tibble: 6 × 26\n",
       "\n",
       "| symb &lt;int&gt; | normLoss &lt;int&gt; | make &lt;fct&gt; | fuelType &lt;fct&gt; | aspiration &lt;fct&gt; | nDoors &lt;fct&gt; | bodyStyle &lt;fct&gt; | driveWheels &lt;fct&gt; | engineLocation &lt;fct&gt; | wheelBase &lt;dbl&gt; | ⋯ ⋯ | engineSize &lt;int&gt; | fuelSystem &lt;fct&gt; | bore &lt;dbl&gt; | stroke &lt;dbl&gt; | compressionRatio &lt;dbl&gt; | horsePower &lt;int&gt; | peakRpm &lt;int&gt; | cityMpg &lt;int&gt; | highwayMpg &lt;int&gt; | price &lt;int&gt; |\n",
       "|---|---|---|---|---|---|---|---|---|---|---|---|---|---|---|---|---|---|---|---|---|\n",
       "| 3 |  NA | alfa-romero | gas | std | two  | convertible | rwd | front | 88.6 | ⋯ | 130 | mpfi | 3.47 | 2.68 |  9.0 | 111 | 5000 | 21 | 27 | 13495 |\n",
       "| 3 |  NA | alfa-romero | gas | std | two  | convertible | rwd | front | 88.6 | ⋯ | 130 | mpfi | 3.47 | 2.68 |  9.0 | 111 | 5000 | 21 | 27 | 16500 |\n",
       "| 1 |  NA | alfa-romero | gas | std | two  | hatchback   | rwd | front | 94.5 | ⋯ | 152 | mpfi | 2.68 | 3.47 |  9.0 | 154 | 5000 | 19 | 26 | 16500 |\n",
       "| 2 | 164 | audi        | gas | std | four | sedan       | fwd | front | 99.8 | ⋯ | 109 | mpfi | 3.19 | 3.40 | 10.0 | 102 | 5500 | 24 | 30 | 13950 |\n",
       "| 2 | 164 | audi        | gas | std | four | sedan       | 4wd | front | 99.4 | ⋯ | 136 | mpfi | 3.19 | 3.40 |  8.0 | 115 | 5500 | 18 | 22 | 17450 |\n",
       "| 2 |  NA | audi        | gas | std | two  | sedan       | fwd | front | 99.8 | ⋯ | 136 | mpfi | 3.19 | 3.40 |  8.5 | 110 | 5500 | 19 | 25 | 15250 |\n",
       "\n"
      ],
      "text/plain": [
       "  symb normLoss make        fuelType aspiration nDoors bodyStyle   driveWheels\n",
       "1 3     NA      alfa-romero gas      std        two    convertible rwd        \n",
       "2 3     NA      alfa-romero gas      std        two    convertible rwd        \n",
       "3 1     NA      alfa-romero gas      std        two    hatchback   rwd        \n",
       "4 2    164      audi        gas      std        four   sedan       fwd        \n",
       "5 2    164      audi        gas      std        four   sedan       4wd        \n",
       "6 2     NA      audi        gas      std        two    sedan       fwd        \n",
       "  engineLocation wheelBase ⋯ engineSize fuelSystem bore stroke compressionRatio\n",
       "1 front          88.6      ⋯ 130        mpfi       3.47 2.68    9.0            \n",
       "2 front          88.6      ⋯ 130        mpfi       3.47 2.68    9.0            \n",
       "3 front          94.5      ⋯ 152        mpfi       2.68 3.47    9.0            \n",
       "4 front          99.8      ⋯ 109        mpfi       3.19 3.40   10.0            \n",
       "5 front          99.4      ⋯ 136        mpfi       3.19 3.40    8.0            \n",
       "6 front          99.8      ⋯ 136        mpfi       3.19 3.40    8.5            \n",
       "  horsePower peakRpm cityMpg highwayMpg price\n",
       "1 111        5000    21      27         13495\n",
       "2 111        5000    21      27         16500\n",
       "3 154        5000    19      26         16500\n",
       "4 102        5500    24      30         13950\n",
       "5 115        5500    18      22         17450\n",
       "6 110        5500    19      25         15250"
      ]
     },
     "metadata": {},
     "output_type": "display_data"
    }
   ],
   "source": [
    "# Load the data from \"data.Rdata\"\n",
    "load(\"/kaggle/input/carinsurance/carInsurance.Rdata\") \n",
    "\n",
    "head(carIns)"
   ]
  },
  {
   "cell_type": "markdown",
   "id": "738531be",
   "metadata": {
    "papermill": {
     "duration": 0.012482,
     "end_time": "2023-06-09T23:35:14.179823",
     "exception": false,
     "start_time": "2023-06-09T23:35:14.167341",
     "status": "completed"
    },
    "tags": []
   },
   "source": [
    "(a) Check if there are any missing values.\n",
    "Tip: use the function any_na().\n"
   ]
  },
  {
   "cell_type": "code",
   "execution_count": 3,
   "id": "b2497de9",
   "metadata": {
    "execution": {
     "iopub.execute_input": "2023-06-09T23:35:14.208881Z",
     "iopub.status.busy": "2023-06-09T23:35:14.206931Z",
     "iopub.status.idle": "2023-06-09T23:35:14.227147Z",
     "shell.execute_reply": "2023-06-09T23:35:14.225100Z"
    },
    "papermill": {
     "duration": 0.037287,
     "end_time": "2023-06-09T23:35:14.229656",
     "exception": false,
     "start_time": "2023-06-09T23:35:14.192369",
     "status": "completed"
    },
    "tags": []
   },
   "outputs": [
    {
     "name": "stdout",
     "output_type": "stream",
     "text": [
      "The dataframe has missing values."
     ]
    }
   ],
   "source": [
    "# Check for missing values in the dataframe\n",
    "has_missing <- anyNA(carIns)\n",
    "\n",
    "# Print the result\n",
    "if (has_missing) {\n",
    "  cat(\"The dataframe has missing values.\")\n",
    "} else {\n",
    "  cat(\"The dataframe does not have any missing values.\")\n",
    "}"
   ]
  },
  {
   "cell_type": "markdown",
   "id": "eb192c9f",
   "metadata": {
    "papermill": {
     "duration": 0.012968,
     "end_time": "2023-06-09T23:35:14.255256",
     "exception": false,
     "start_time": "2023-06-09T23:35:14.242288",
     "status": "completed"
    },
    "tags": []
   },
   "source": [
    "(b) Count the number of cases that have, at least, one missing value.\n",
    "Tip: use the function filter_any_na() and then count().\n",
    "\n"
   ]
  },
  {
   "cell_type": "code",
   "execution_count": 4,
   "id": "fdc5ada1",
   "metadata": {
    "execution": {
     "iopub.execute_input": "2023-06-09T23:35:14.285240Z",
     "iopub.status.busy": "2023-06-09T23:35:14.283538Z",
     "iopub.status.idle": "2023-06-09T23:35:14.323613Z",
     "shell.execute_reply": "2023-06-09T23:35:14.321375Z"
    },
    "papermill": {
     "duration": 0.058322,
     "end_time": "2023-06-09T23:35:14.326664",
     "exception": false,
     "start_time": "2023-06-09T23:35:14.268342",
     "status": "completed"
    },
    "tags": []
   },
   "outputs": [
    {
     "name": "stdout",
     "output_type": "stream",
     "text": [
      "Number of cases with at least one missing value: 159\n",
      "Dataset length: 205"
     ]
    }
   ],
   "source": [
    "# Filter cases with at least one missing value and count the number of cases\n",
    "count_missing <- carIns %>%\n",
    "  filter_any_na() %>%\n",
    "  count()\n",
    "\n",
    "# Print the count\n",
    "cat(\"Number of cases with at least one missing value:\", count_missing$n)\n",
    "\n",
    "# Print the length of the dataset\n",
    "cat(\"\\nDataset length:\", nrow(carIns))"
   ]
  },
  {
   "cell_type": "markdown",
   "id": "4f5e5bac",
   "metadata": {
    "papermill": {
     "duration": 0.012832,
     "end_time": "2023-06-09T23:35:14.353812",
     "exception": false,
     "start_time": "2023-06-09T23:35:14.340980",
     "status": "completed"
    },
    "tags": []
   },
   "source": [
    "(c) Create a new data set by removing all the cases that have missing values.\n",
    "Tip: use the function drop_rows_any_na()\n"
   ]
  },
  {
   "cell_type": "code",
   "execution_count": 5,
   "id": "cc817c0f",
   "metadata": {
    "execution": {
     "iopub.execute_input": "2023-06-09T23:35:14.383744Z",
     "iopub.status.busy": "2023-06-09T23:35:14.381959Z",
     "iopub.status.idle": "2023-06-09T23:35:14.406619Z",
     "shell.execute_reply": "2023-06-09T23:35:14.404529Z"
    },
    "papermill": {
     "duration": 0.042526,
     "end_time": "2023-06-09T23:35:14.409377",
     "exception": false,
     "start_time": "2023-06-09T23:35:14.366851",
     "status": "completed"
    },
    "tags": []
   },
   "outputs": [
    {
     "name": "stdout",
     "output_type": "stream",
     "text": [
      "\n",
      "Dataset length: 159"
     ]
    }
   ],
   "source": [
    "# Create a new data set by removing cases with missing values\n",
    "imputed_drop_any <- drop_rows_any_na(carIns)\n",
    "\n",
    "# Print the length of the dataset\n",
    "cat(\"\\nDataset length:\", nrow(imputed_drop_any))"
   ]
  },
  {
   "cell_type": "markdown",
   "id": "3fdcf1ff",
   "metadata": {
    "papermill": {
     "duration": 0.013739,
     "end_time": "2023-06-09T23:35:14.436482",
     "exception": false,
     "start_time": "2023-06-09T23:35:14.422743",
     "status": "completed"
    },
    "tags": []
   },
   "source": [
    "(d) Create a new data set by imputing all the missing values with 0.\n",
    "Tip: explore the variants of the function impute()\n"
   ]
  },
  {
   "cell_type": "code",
   "execution_count": 6,
   "id": "e8566583",
   "metadata": {
    "execution": {
     "iopub.execute_input": "2023-06-09T23:35:14.466693Z",
     "iopub.status.busy": "2023-06-09T23:35:14.464977Z",
     "iopub.status.idle": "2023-06-09T23:35:14.508109Z",
     "shell.execute_reply": "2023-06-09T23:35:14.506200Z"
    },
    "papermill": {
     "duration": 0.061027,
     "end_time": "2023-06-09T23:35:14.510758",
     "exception": false,
     "start_time": "2023-06-09T23:35:14.449731",
     "status": "completed"
    },
    "tags": []
   },
   "outputs": [
    {
     "data": {
      "text/html": [
       "<table class=\"dataframe\">\n",
       "<caption>A tibble: 6 × 26</caption>\n",
       "<thead>\n",
       "\t<tr><th scope=col>symb</th><th scope=col>normLoss</th><th scope=col>make</th><th scope=col>fuelType</th><th scope=col>aspiration</th><th scope=col>nDoors</th><th scope=col>bodyStyle</th><th scope=col>driveWheels</th><th scope=col>engineLocation</th><th scope=col>wheelBase</th><th scope=col>⋯</th><th scope=col>engineSize</th><th scope=col>fuelSystem</th><th scope=col>bore</th><th scope=col>stroke</th><th scope=col>compressionRatio</th><th scope=col>horsePower</th><th scope=col>peakRpm</th><th scope=col>cityMpg</th><th scope=col>highwayMpg</th><th scope=col>price</th></tr>\n",
       "\t<tr><th scope=col>&lt;int&gt;</th><th scope=col>&lt;int&gt;</th><th scope=col>&lt;fct&gt;</th><th scope=col>&lt;fct&gt;</th><th scope=col>&lt;fct&gt;</th><th scope=col>&lt;fct&gt;</th><th scope=col>&lt;fct&gt;</th><th scope=col>&lt;fct&gt;</th><th scope=col>&lt;fct&gt;</th><th scope=col>&lt;dbl&gt;</th><th scope=col>⋯</th><th scope=col>&lt;int&gt;</th><th scope=col>&lt;fct&gt;</th><th scope=col>&lt;dbl&gt;</th><th scope=col>&lt;dbl&gt;</th><th scope=col>&lt;dbl&gt;</th><th scope=col>&lt;int&gt;</th><th scope=col>&lt;int&gt;</th><th scope=col>&lt;int&gt;</th><th scope=col>&lt;int&gt;</th><th scope=col>&lt;int&gt;</th></tr>\n",
       "</thead>\n",
       "<tbody>\n",
       "\t<tr><td>3</td><td> NA</td><td>alfa-romero</td><td>gas</td><td>std</td><td>two </td><td>convertible</td><td>rwd</td><td>front</td><td>88.6</td><td>⋯</td><td>130</td><td>mpfi</td><td>3.47</td><td>2.68</td><td> 9.0</td><td>111</td><td>5000</td><td>21</td><td>27</td><td>13495</td></tr>\n",
       "\t<tr><td>3</td><td> NA</td><td>alfa-romero</td><td>gas</td><td>std</td><td>two </td><td>convertible</td><td>rwd</td><td>front</td><td>88.6</td><td>⋯</td><td>130</td><td>mpfi</td><td>3.47</td><td>2.68</td><td> 9.0</td><td>111</td><td>5000</td><td>21</td><td>27</td><td>16500</td></tr>\n",
       "\t<tr><td>1</td><td> NA</td><td>alfa-romero</td><td>gas</td><td>std</td><td>two </td><td>hatchback  </td><td>rwd</td><td>front</td><td>94.5</td><td>⋯</td><td>152</td><td>mpfi</td><td>2.68</td><td>3.47</td><td> 9.0</td><td>154</td><td>5000</td><td>19</td><td>26</td><td>16500</td></tr>\n",
       "\t<tr><td>2</td><td>164</td><td>audi       </td><td>gas</td><td>std</td><td>four</td><td>sedan      </td><td>fwd</td><td>front</td><td>99.8</td><td>⋯</td><td>109</td><td>mpfi</td><td>3.19</td><td>3.40</td><td>10.0</td><td>102</td><td>5500</td><td>24</td><td>30</td><td>13950</td></tr>\n",
       "\t<tr><td>2</td><td>164</td><td>audi       </td><td>gas</td><td>std</td><td>four</td><td>sedan      </td><td>4wd</td><td>front</td><td>99.4</td><td>⋯</td><td>136</td><td>mpfi</td><td>3.19</td><td>3.40</td><td> 8.0</td><td>115</td><td>5500</td><td>18</td><td>22</td><td>17450</td></tr>\n",
       "\t<tr><td>2</td><td> NA</td><td>audi       </td><td>gas</td><td>std</td><td>two </td><td>sedan      </td><td>fwd</td><td>front</td><td>99.8</td><td>⋯</td><td>136</td><td>mpfi</td><td>3.19</td><td>3.40</td><td> 8.5</td><td>110</td><td>5500</td><td>19</td><td>25</td><td>15250</td></tr>\n",
       "</tbody>\n",
       "</table>\n"
      ],
      "text/latex": [
       "A tibble: 6 × 26\n",
       "\\begin{tabular}{lllllllllllllllllllll}\n",
       " symb & normLoss & make & fuelType & aspiration & nDoors & bodyStyle & driveWheels & engineLocation & wheelBase & ⋯ & engineSize & fuelSystem & bore & stroke & compressionRatio & horsePower & peakRpm & cityMpg & highwayMpg & price\\\\\n",
       " <int> & <int> & <fct> & <fct> & <fct> & <fct> & <fct> & <fct> & <fct> & <dbl> & ⋯ & <int> & <fct> & <dbl> & <dbl> & <dbl> & <int> & <int> & <int> & <int> & <int>\\\\\n",
       "\\hline\n",
       "\t 3 &  NA & alfa-romero & gas & std & two  & convertible & rwd & front & 88.6 & ⋯ & 130 & mpfi & 3.47 & 2.68 &  9.0 & 111 & 5000 & 21 & 27 & 13495\\\\\n",
       "\t 3 &  NA & alfa-romero & gas & std & two  & convertible & rwd & front & 88.6 & ⋯ & 130 & mpfi & 3.47 & 2.68 &  9.0 & 111 & 5000 & 21 & 27 & 16500\\\\\n",
       "\t 1 &  NA & alfa-romero & gas & std & two  & hatchback   & rwd & front & 94.5 & ⋯ & 152 & mpfi & 2.68 & 3.47 &  9.0 & 154 & 5000 & 19 & 26 & 16500\\\\\n",
       "\t 2 & 164 & audi        & gas & std & four & sedan       & fwd & front & 99.8 & ⋯ & 109 & mpfi & 3.19 & 3.40 & 10.0 & 102 & 5500 & 24 & 30 & 13950\\\\\n",
       "\t 2 & 164 & audi        & gas & std & four & sedan       & 4wd & front & 99.4 & ⋯ & 136 & mpfi & 3.19 & 3.40 &  8.0 & 115 & 5500 & 18 & 22 & 17450\\\\\n",
       "\t 2 &  NA & audi        & gas & std & two  & sedan       & fwd & front & 99.8 & ⋯ & 136 & mpfi & 3.19 & 3.40 &  8.5 & 110 & 5500 & 19 & 25 & 15250\\\\\n",
       "\\end{tabular}\n"
      ],
      "text/markdown": [
       "\n",
       "A tibble: 6 × 26\n",
       "\n",
       "| symb &lt;int&gt; | normLoss &lt;int&gt; | make &lt;fct&gt; | fuelType &lt;fct&gt; | aspiration &lt;fct&gt; | nDoors &lt;fct&gt; | bodyStyle &lt;fct&gt; | driveWheels &lt;fct&gt; | engineLocation &lt;fct&gt; | wheelBase &lt;dbl&gt; | ⋯ ⋯ | engineSize &lt;int&gt; | fuelSystem &lt;fct&gt; | bore &lt;dbl&gt; | stroke &lt;dbl&gt; | compressionRatio &lt;dbl&gt; | horsePower &lt;int&gt; | peakRpm &lt;int&gt; | cityMpg &lt;int&gt; | highwayMpg &lt;int&gt; | price &lt;int&gt; |\n",
       "|---|---|---|---|---|---|---|---|---|---|---|---|---|---|---|---|---|---|---|---|---|\n",
       "| 3 |  NA | alfa-romero | gas | std | two  | convertible | rwd | front | 88.6 | ⋯ | 130 | mpfi | 3.47 | 2.68 |  9.0 | 111 | 5000 | 21 | 27 | 13495 |\n",
       "| 3 |  NA | alfa-romero | gas | std | two  | convertible | rwd | front | 88.6 | ⋯ | 130 | mpfi | 3.47 | 2.68 |  9.0 | 111 | 5000 | 21 | 27 | 16500 |\n",
       "| 1 |  NA | alfa-romero | gas | std | two  | hatchback   | rwd | front | 94.5 | ⋯ | 152 | mpfi | 2.68 | 3.47 |  9.0 | 154 | 5000 | 19 | 26 | 16500 |\n",
       "| 2 | 164 | audi        | gas | std | four | sedan       | fwd | front | 99.8 | ⋯ | 109 | mpfi | 3.19 | 3.40 | 10.0 | 102 | 5500 | 24 | 30 | 13950 |\n",
       "| 2 | 164 | audi        | gas | std | four | sedan       | 4wd | front | 99.4 | ⋯ | 136 | mpfi | 3.19 | 3.40 |  8.0 | 115 | 5500 | 18 | 22 | 17450 |\n",
       "| 2 |  NA | audi        | gas | std | two  | sedan       | fwd | front | 99.8 | ⋯ | 136 | mpfi | 3.19 | 3.40 |  8.5 | 110 | 5500 | 19 | 25 | 15250 |\n",
       "\n"
      ],
      "text/plain": [
       "  symb normLoss make        fuelType aspiration nDoors bodyStyle   driveWheels\n",
       "1 3     NA      alfa-romero gas      std        two    convertible rwd        \n",
       "2 3     NA      alfa-romero gas      std        two    convertible rwd        \n",
       "3 1     NA      alfa-romero gas      std        two    hatchback   rwd        \n",
       "4 2    164      audi        gas      std        four   sedan       fwd        \n",
       "5 2    164      audi        gas      std        four   sedan       4wd        \n",
       "6 2     NA      audi        gas      std        two    sedan       fwd        \n",
       "  engineLocation wheelBase ⋯ engineSize fuelSystem bore stroke compressionRatio\n",
       "1 front          88.6      ⋯ 130        mpfi       3.47 2.68    9.0            \n",
       "2 front          88.6      ⋯ 130        mpfi       3.47 2.68    9.0            \n",
       "3 front          94.5      ⋯ 152        mpfi       2.68 3.47    9.0            \n",
       "4 front          99.8      ⋯ 109        mpfi       3.19 3.40   10.0            \n",
       "5 front          99.4      ⋯ 136        mpfi       3.19 3.40    8.0            \n",
       "6 front          99.8      ⋯ 136        mpfi       3.19 3.40    8.5            \n",
       "  horsePower peakRpm cityMpg highwayMpg price\n",
       "1 111        5000    21      27         13495\n",
       "2 111        5000    21      27         16500\n",
       "3 154        5000    19      26         16500\n",
       "4 102        5500    24      30         13950\n",
       "5 115        5500    18      22         17450\n",
       "6 110        5500    19      25         15250"
      ]
     },
     "metadata": {},
     "output_type": "display_data"
    }
   ],
   "source": [
    "# Create a new data set by imputing missing values with 0\n",
    "imputed_missing_values <- impute(carIns, method = \"fixed\", value = 0)\n",
    "head(imputed_missing_values)"
   ]
  },
  {
   "cell_type": "markdown",
   "id": "336af972",
   "metadata": {
    "papermill": {
     "duration": 0.013282,
     "end_time": "2023-06-09T23:35:14.537939",
     "exception": false,
     "start_time": "2023-06-09T23:35:14.524657",
     "status": "completed"
    },
    "tags": []
   },
   "source": [
    "(e) Create a new data set by imputing the mean in all the columns which have double type values.\n"
   ]
  },
  {
   "cell_type": "code",
   "execution_count": 7,
   "id": "809713c1",
   "metadata": {
    "execution": {
     "iopub.execute_input": "2023-06-09T23:35:14.568618Z",
     "iopub.status.busy": "2023-06-09T23:35:14.566801Z",
     "iopub.status.idle": "2023-06-09T23:35:14.637074Z",
     "shell.execute_reply": "2023-06-09T23:35:14.634441Z"
    },
    "papermill": {
     "duration": 0.088797,
     "end_time": "2023-06-09T23:35:14.640152",
     "exception": false,
     "start_time": "2023-06-09T23:35:14.551355",
     "status": "completed"
    },
    "tags": []
   },
   "outputs": [
    {
     "data": {
      "text/html": [
       "<table class=\"dataframe\">\n",
       "<caption>A tibble: 6 × 26</caption>\n",
       "<thead>\n",
       "\t<tr><th scope=col>symb</th><th scope=col>normLoss</th><th scope=col>make</th><th scope=col>fuelType</th><th scope=col>aspiration</th><th scope=col>nDoors</th><th scope=col>bodyStyle</th><th scope=col>driveWheels</th><th scope=col>engineLocation</th><th scope=col>wheelBase</th><th scope=col>⋯</th><th scope=col>engineSize</th><th scope=col>fuelSystem</th><th scope=col>bore</th><th scope=col>stroke</th><th scope=col>compressionRatio</th><th scope=col>horsePower</th><th scope=col>peakRpm</th><th scope=col>cityMpg</th><th scope=col>highwayMpg</th><th scope=col>price</th></tr>\n",
       "\t<tr><th scope=col>&lt;int&gt;</th><th scope=col>&lt;int&gt;</th><th scope=col>&lt;fct&gt;</th><th scope=col>&lt;fct&gt;</th><th scope=col>&lt;fct&gt;</th><th scope=col>&lt;fct&gt;</th><th scope=col>&lt;fct&gt;</th><th scope=col>&lt;fct&gt;</th><th scope=col>&lt;fct&gt;</th><th scope=col>&lt;dbl&gt;</th><th scope=col>⋯</th><th scope=col>&lt;int&gt;</th><th scope=col>&lt;fct&gt;</th><th scope=col>&lt;dbl&gt;</th><th scope=col>&lt;dbl&gt;</th><th scope=col>&lt;dbl&gt;</th><th scope=col>&lt;int&gt;</th><th scope=col>&lt;int&gt;</th><th scope=col>&lt;int&gt;</th><th scope=col>&lt;int&gt;</th><th scope=col>&lt;int&gt;</th></tr>\n",
       "</thead>\n",
       "<tbody>\n",
       "\t<tr><td>3</td><td> NA</td><td>alfa-romero</td><td>gas</td><td>std</td><td>two </td><td>convertible</td><td>rwd</td><td>front</td><td>88.6</td><td>⋯</td><td>130</td><td>mpfi</td><td>3.47</td><td>2.68</td><td> 9.0</td><td>111</td><td>5000</td><td>21</td><td>27</td><td>13495</td></tr>\n",
       "\t<tr><td>3</td><td> NA</td><td>alfa-romero</td><td>gas</td><td>std</td><td>two </td><td>convertible</td><td>rwd</td><td>front</td><td>88.6</td><td>⋯</td><td>130</td><td>mpfi</td><td>3.47</td><td>2.68</td><td> 9.0</td><td>111</td><td>5000</td><td>21</td><td>27</td><td>16500</td></tr>\n",
       "\t<tr><td>1</td><td> NA</td><td>alfa-romero</td><td>gas</td><td>std</td><td>two </td><td>hatchback  </td><td>rwd</td><td>front</td><td>94.5</td><td>⋯</td><td>152</td><td>mpfi</td><td>2.68</td><td>3.47</td><td> 9.0</td><td>154</td><td>5000</td><td>19</td><td>26</td><td>16500</td></tr>\n",
       "\t<tr><td>2</td><td>164</td><td>audi       </td><td>gas</td><td>std</td><td>four</td><td>sedan      </td><td>fwd</td><td>front</td><td>99.8</td><td>⋯</td><td>109</td><td>mpfi</td><td>3.19</td><td>3.40</td><td>10.0</td><td>102</td><td>5500</td><td>24</td><td>30</td><td>13950</td></tr>\n",
       "\t<tr><td>2</td><td>164</td><td>audi       </td><td>gas</td><td>std</td><td>four</td><td>sedan      </td><td>4wd</td><td>front</td><td>99.4</td><td>⋯</td><td>136</td><td>mpfi</td><td>3.19</td><td>3.40</td><td> 8.0</td><td>115</td><td>5500</td><td>18</td><td>22</td><td>17450</td></tr>\n",
       "\t<tr><td>2</td><td> NA</td><td>audi       </td><td>gas</td><td>std</td><td>two </td><td>sedan      </td><td>fwd</td><td>front</td><td>99.8</td><td>⋯</td><td>136</td><td>mpfi</td><td>3.19</td><td>3.40</td><td> 8.5</td><td>110</td><td>5500</td><td>19</td><td>25</td><td>15250</td></tr>\n",
       "</tbody>\n",
       "</table>\n"
      ],
      "text/latex": [
       "A tibble: 6 × 26\n",
       "\\begin{tabular}{lllllllllllllllllllll}\n",
       " symb & normLoss & make & fuelType & aspiration & nDoors & bodyStyle & driveWheels & engineLocation & wheelBase & ⋯ & engineSize & fuelSystem & bore & stroke & compressionRatio & horsePower & peakRpm & cityMpg & highwayMpg & price\\\\\n",
       " <int> & <int> & <fct> & <fct> & <fct> & <fct> & <fct> & <fct> & <fct> & <dbl> & ⋯ & <int> & <fct> & <dbl> & <dbl> & <dbl> & <int> & <int> & <int> & <int> & <int>\\\\\n",
       "\\hline\n",
       "\t 3 &  NA & alfa-romero & gas & std & two  & convertible & rwd & front & 88.6 & ⋯ & 130 & mpfi & 3.47 & 2.68 &  9.0 & 111 & 5000 & 21 & 27 & 13495\\\\\n",
       "\t 3 &  NA & alfa-romero & gas & std & two  & convertible & rwd & front & 88.6 & ⋯ & 130 & mpfi & 3.47 & 2.68 &  9.0 & 111 & 5000 & 21 & 27 & 16500\\\\\n",
       "\t 1 &  NA & alfa-romero & gas & std & two  & hatchback   & rwd & front & 94.5 & ⋯ & 152 & mpfi & 2.68 & 3.47 &  9.0 & 154 & 5000 & 19 & 26 & 16500\\\\\n",
       "\t 2 & 164 & audi        & gas & std & four & sedan       & fwd & front & 99.8 & ⋯ & 109 & mpfi & 3.19 & 3.40 & 10.0 & 102 & 5500 & 24 & 30 & 13950\\\\\n",
       "\t 2 & 164 & audi        & gas & std & four & sedan       & 4wd & front & 99.4 & ⋯ & 136 & mpfi & 3.19 & 3.40 &  8.0 & 115 & 5500 & 18 & 22 & 17450\\\\\n",
       "\t 2 &  NA & audi        & gas & std & two  & sedan       & fwd & front & 99.8 & ⋯ & 136 & mpfi & 3.19 & 3.40 &  8.5 & 110 & 5500 & 19 & 25 & 15250\\\\\n",
       "\\end{tabular}\n"
      ],
      "text/markdown": [
       "\n",
       "A tibble: 6 × 26\n",
       "\n",
       "| symb &lt;int&gt; | normLoss &lt;int&gt; | make &lt;fct&gt; | fuelType &lt;fct&gt; | aspiration &lt;fct&gt; | nDoors &lt;fct&gt; | bodyStyle &lt;fct&gt; | driveWheels &lt;fct&gt; | engineLocation &lt;fct&gt; | wheelBase &lt;dbl&gt; | ⋯ ⋯ | engineSize &lt;int&gt; | fuelSystem &lt;fct&gt; | bore &lt;dbl&gt; | stroke &lt;dbl&gt; | compressionRatio &lt;dbl&gt; | horsePower &lt;int&gt; | peakRpm &lt;int&gt; | cityMpg &lt;int&gt; | highwayMpg &lt;int&gt; | price &lt;int&gt; |\n",
       "|---|---|---|---|---|---|---|---|---|---|---|---|---|---|---|---|---|---|---|---|---|\n",
       "| 3 |  NA | alfa-romero | gas | std | two  | convertible | rwd | front | 88.6 | ⋯ | 130 | mpfi | 3.47 | 2.68 |  9.0 | 111 | 5000 | 21 | 27 | 13495 |\n",
       "| 3 |  NA | alfa-romero | gas | std | two  | convertible | rwd | front | 88.6 | ⋯ | 130 | mpfi | 3.47 | 2.68 |  9.0 | 111 | 5000 | 21 | 27 | 16500 |\n",
       "| 1 |  NA | alfa-romero | gas | std | two  | hatchback   | rwd | front | 94.5 | ⋯ | 152 | mpfi | 2.68 | 3.47 |  9.0 | 154 | 5000 | 19 | 26 | 16500 |\n",
       "| 2 | 164 | audi        | gas | std | four | sedan       | fwd | front | 99.8 | ⋯ | 109 | mpfi | 3.19 | 3.40 | 10.0 | 102 | 5500 | 24 | 30 | 13950 |\n",
       "| 2 | 164 | audi        | gas | std | four | sedan       | 4wd | front | 99.4 | ⋯ | 136 | mpfi | 3.19 | 3.40 |  8.0 | 115 | 5500 | 18 | 22 | 17450 |\n",
       "| 2 |  NA | audi        | gas | std | two  | sedan       | fwd | front | 99.8 | ⋯ | 136 | mpfi | 3.19 | 3.40 |  8.5 | 110 | 5500 | 19 | 25 | 15250 |\n",
       "\n"
      ],
      "text/plain": [
       "  symb normLoss make        fuelType aspiration nDoors bodyStyle   driveWheels\n",
       "1 3     NA      alfa-romero gas      std        two    convertible rwd        \n",
       "2 3     NA      alfa-romero gas      std        two    convertible rwd        \n",
       "3 1     NA      alfa-romero gas      std        two    hatchback   rwd        \n",
       "4 2    164      audi        gas      std        four   sedan       fwd        \n",
       "5 2    164      audi        gas      std        four   sedan       4wd        \n",
       "6 2     NA      audi        gas      std        two    sedan       fwd        \n",
       "  engineLocation wheelBase ⋯ engineSize fuelSystem bore stroke compressionRatio\n",
       "1 front          88.6      ⋯ 130        mpfi       3.47 2.68    9.0            \n",
       "2 front          88.6      ⋯ 130        mpfi       3.47 2.68    9.0            \n",
       "3 front          94.5      ⋯ 152        mpfi       2.68 3.47    9.0            \n",
       "4 front          99.8      ⋯ 109        mpfi       3.19 3.40   10.0            \n",
       "5 front          99.4      ⋯ 136        mpfi       3.19 3.40    8.0            \n",
       "6 front          99.8      ⋯ 136        mpfi       3.19 3.40    8.5            \n",
       "  horsePower peakRpm cityMpg highwayMpg price\n",
       "1 111        5000    21      27         13495\n",
       "2 111        5000    21      27         16500\n",
       "3 154        5000    19      26         16500\n",
       "4 102        5500    24      30         13950\n",
       "5 115        5500    18      22         17450\n",
       "6 110        5500    19      25         15250"
      ]
     },
     "metadata": {},
     "output_type": "display_data"
    }
   ],
   "source": [
    "# Impute mean in double-type columns\n",
    "imputed_mean <- carIns %>%\n",
    "  mutate(across(.cols = where(is.double), ~ if_else(is.na(.), mean(., na.rm = TRUE), .)))\n",
    "# Display the head of the imputed data\n",
    "head(imputed_mean)"
   ]
  },
  {
   "cell_type": "markdown",
   "id": "4599e39f",
   "metadata": {
    "papermill": {
     "duration": 0.013567,
     "end_time": "2023-06-09T23:35:14.667499",
     "exception": false,
     "start_time": "2023-06-09T23:35:14.653932",
     "status": "completed"
    },
    "tags": []
   },
   "source": [
    "(f) Create a new data set by imputing the mode in all the columns which have integer type values.\n"
   ]
  },
  {
   "cell_type": "code",
   "execution_count": 8,
   "id": "6d43876a",
   "metadata": {
    "execution": {
     "iopub.execute_input": "2023-06-09T23:35:14.713418Z",
     "iopub.status.busy": "2023-06-09T23:35:14.696858Z",
     "iopub.status.idle": "2023-06-09T23:35:14.763491Z",
     "shell.execute_reply": "2023-06-09T23:35:14.761003Z"
    },
    "papermill": {
     "duration": 0.085086,
     "end_time": "2023-06-09T23:35:14.766237",
     "exception": false,
     "start_time": "2023-06-09T23:35:14.681151",
     "status": "completed"
    },
    "tags": []
   },
   "outputs": [
    {
     "data": {
      "text/html": [
       "<table class=\"dataframe\">\n",
       "<caption>A tibble: 6 × 26</caption>\n",
       "<thead>\n",
       "\t<tr><th scope=col>symb</th><th scope=col>normLoss</th><th scope=col>make</th><th scope=col>fuelType</th><th scope=col>aspiration</th><th scope=col>nDoors</th><th scope=col>bodyStyle</th><th scope=col>driveWheels</th><th scope=col>engineLocation</th><th scope=col>wheelBase</th><th scope=col>⋯</th><th scope=col>engineSize</th><th scope=col>fuelSystem</th><th scope=col>bore</th><th scope=col>stroke</th><th scope=col>compressionRatio</th><th scope=col>horsePower</th><th scope=col>peakRpm</th><th scope=col>cityMpg</th><th scope=col>highwayMpg</th><th scope=col>price</th></tr>\n",
       "\t<tr><th scope=col>&lt;int&gt;</th><th scope=col>&lt;int&gt;</th><th scope=col>&lt;fct&gt;</th><th scope=col>&lt;fct&gt;</th><th scope=col>&lt;fct&gt;</th><th scope=col>&lt;fct&gt;</th><th scope=col>&lt;fct&gt;</th><th scope=col>&lt;fct&gt;</th><th scope=col>&lt;fct&gt;</th><th scope=col>&lt;dbl&gt;</th><th scope=col>⋯</th><th scope=col>&lt;int&gt;</th><th scope=col>&lt;fct&gt;</th><th scope=col>&lt;dbl&gt;</th><th scope=col>&lt;dbl&gt;</th><th scope=col>&lt;dbl&gt;</th><th scope=col>&lt;int&gt;</th><th scope=col>&lt;int&gt;</th><th scope=col>&lt;int&gt;</th><th scope=col>&lt;int&gt;</th><th scope=col>&lt;int&gt;</th></tr>\n",
       "</thead>\n",
       "<tbody>\n",
       "\t<tr><td>3</td><td>161</td><td>alfa-romero</td><td>gas</td><td>std</td><td>two </td><td>convertible</td><td>rwd</td><td>front</td><td>88.6</td><td>⋯</td><td>130</td><td>mpfi</td><td>3.47</td><td>2.68</td><td> 9.0</td><td>111</td><td>5000</td><td>21</td><td>27</td><td>13495</td></tr>\n",
       "\t<tr><td>3</td><td>161</td><td>alfa-romero</td><td>gas</td><td>std</td><td>two </td><td>convertible</td><td>rwd</td><td>front</td><td>88.6</td><td>⋯</td><td>130</td><td>mpfi</td><td>3.47</td><td>2.68</td><td> 9.0</td><td>111</td><td>5000</td><td>21</td><td>27</td><td>16500</td></tr>\n",
       "\t<tr><td>1</td><td>161</td><td>alfa-romero</td><td>gas</td><td>std</td><td>two </td><td>hatchback  </td><td>rwd</td><td>front</td><td>94.5</td><td>⋯</td><td>152</td><td>mpfi</td><td>2.68</td><td>3.47</td><td> 9.0</td><td>154</td><td>5000</td><td>19</td><td>26</td><td>16500</td></tr>\n",
       "\t<tr><td>2</td><td>164</td><td>audi       </td><td>gas</td><td>std</td><td>four</td><td>sedan      </td><td>fwd</td><td>front</td><td>99.8</td><td>⋯</td><td>109</td><td>mpfi</td><td>3.19</td><td>3.40</td><td>10.0</td><td>102</td><td>5500</td><td>24</td><td>30</td><td>13950</td></tr>\n",
       "\t<tr><td>2</td><td>164</td><td>audi       </td><td>gas</td><td>std</td><td>four</td><td>sedan      </td><td>4wd</td><td>front</td><td>99.4</td><td>⋯</td><td>136</td><td>mpfi</td><td>3.19</td><td>3.40</td><td> 8.0</td><td>115</td><td>5500</td><td>18</td><td>22</td><td>17450</td></tr>\n",
       "\t<tr><td>2</td><td>161</td><td>audi       </td><td>gas</td><td>std</td><td>two </td><td>sedan      </td><td>fwd</td><td>front</td><td>99.8</td><td>⋯</td><td>136</td><td>mpfi</td><td>3.19</td><td>3.40</td><td> 8.5</td><td>110</td><td>5500</td><td>19</td><td>25</td><td>15250</td></tr>\n",
       "</tbody>\n",
       "</table>\n"
      ],
      "text/latex": [
       "A tibble: 6 × 26\n",
       "\\begin{tabular}{lllllllllllllllllllll}\n",
       " symb & normLoss & make & fuelType & aspiration & nDoors & bodyStyle & driveWheels & engineLocation & wheelBase & ⋯ & engineSize & fuelSystem & bore & stroke & compressionRatio & horsePower & peakRpm & cityMpg & highwayMpg & price\\\\\n",
       " <int> & <int> & <fct> & <fct> & <fct> & <fct> & <fct> & <fct> & <fct> & <dbl> & ⋯ & <int> & <fct> & <dbl> & <dbl> & <dbl> & <int> & <int> & <int> & <int> & <int>\\\\\n",
       "\\hline\n",
       "\t 3 & 161 & alfa-romero & gas & std & two  & convertible & rwd & front & 88.6 & ⋯ & 130 & mpfi & 3.47 & 2.68 &  9.0 & 111 & 5000 & 21 & 27 & 13495\\\\\n",
       "\t 3 & 161 & alfa-romero & gas & std & two  & convertible & rwd & front & 88.6 & ⋯ & 130 & mpfi & 3.47 & 2.68 &  9.0 & 111 & 5000 & 21 & 27 & 16500\\\\\n",
       "\t 1 & 161 & alfa-romero & gas & std & two  & hatchback   & rwd & front & 94.5 & ⋯ & 152 & mpfi & 2.68 & 3.47 &  9.0 & 154 & 5000 & 19 & 26 & 16500\\\\\n",
       "\t 2 & 164 & audi        & gas & std & four & sedan       & fwd & front & 99.8 & ⋯ & 109 & mpfi & 3.19 & 3.40 & 10.0 & 102 & 5500 & 24 & 30 & 13950\\\\\n",
       "\t 2 & 164 & audi        & gas & std & four & sedan       & 4wd & front & 99.4 & ⋯ & 136 & mpfi & 3.19 & 3.40 &  8.0 & 115 & 5500 & 18 & 22 & 17450\\\\\n",
       "\t 2 & 161 & audi        & gas & std & two  & sedan       & fwd & front & 99.8 & ⋯ & 136 & mpfi & 3.19 & 3.40 &  8.5 & 110 & 5500 & 19 & 25 & 15250\\\\\n",
       "\\end{tabular}\n"
      ],
      "text/markdown": [
       "\n",
       "A tibble: 6 × 26\n",
       "\n",
       "| symb &lt;int&gt; | normLoss &lt;int&gt; | make &lt;fct&gt; | fuelType &lt;fct&gt; | aspiration &lt;fct&gt; | nDoors &lt;fct&gt; | bodyStyle &lt;fct&gt; | driveWheels &lt;fct&gt; | engineLocation &lt;fct&gt; | wheelBase &lt;dbl&gt; | ⋯ ⋯ | engineSize &lt;int&gt; | fuelSystem &lt;fct&gt; | bore &lt;dbl&gt; | stroke &lt;dbl&gt; | compressionRatio &lt;dbl&gt; | horsePower &lt;int&gt; | peakRpm &lt;int&gt; | cityMpg &lt;int&gt; | highwayMpg &lt;int&gt; | price &lt;int&gt; |\n",
       "|---|---|---|---|---|---|---|---|---|---|---|---|---|---|---|---|---|---|---|---|---|\n",
       "| 3 | 161 | alfa-romero | gas | std | two  | convertible | rwd | front | 88.6 | ⋯ | 130 | mpfi | 3.47 | 2.68 |  9.0 | 111 | 5000 | 21 | 27 | 13495 |\n",
       "| 3 | 161 | alfa-romero | gas | std | two  | convertible | rwd | front | 88.6 | ⋯ | 130 | mpfi | 3.47 | 2.68 |  9.0 | 111 | 5000 | 21 | 27 | 16500 |\n",
       "| 1 | 161 | alfa-romero | gas | std | two  | hatchback   | rwd | front | 94.5 | ⋯ | 152 | mpfi | 2.68 | 3.47 |  9.0 | 154 | 5000 | 19 | 26 | 16500 |\n",
       "| 2 | 164 | audi        | gas | std | four | sedan       | fwd | front | 99.8 | ⋯ | 109 | mpfi | 3.19 | 3.40 | 10.0 | 102 | 5500 | 24 | 30 | 13950 |\n",
       "| 2 | 164 | audi        | gas | std | four | sedan       | 4wd | front | 99.4 | ⋯ | 136 | mpfi | 3.19 | 3.40 |  8.0 | 115 | 5500 | 18 | 22 | 17450 |\n",
       "| 2 | 161 | audi        | gas | std | two  | sedan       | fwd | front | 99.8 | ⋯ | 136 | mpfi | 3.19 | 3.40 |  8.5 | 110 | 5500 | 19 | 25 | 15250 |\n",
       "\n"
      ],
      "text/plain": [
       "  symb normLoss make        fuelType aspiration nDoors bodyStyle   driveWheels\n",
       "1 3    161      alfa-romero gas      std        two    convertible rwd        \n",
       "2 3    161      alfa-romero gas      std        two    convertible rwd        \n",
       "3 1    161      alfa-romero gas      std        two    hatchback   rwd        \n",
       "4 2    164      audi        gas      std        four   sedan       fwd        \n",
       "5 2    164      audi        gas      std        four   sedan       4wd        \n",
       "6 2    161      audi        gas      std        two    sedan       fwd        \n",
       "  engineLocation wheelBase ⋯ engineSize fuelSystem bore stroke compressionRatio\n",
       "1 front          88.6      ⋯ 130        mpfi       3.47 2.68    9.0            \n",
       "2 front          88.6      ⋯ 130        mpfi       3.47 2.68    9.0            \n",
       "3 front          94.5      ⋯ 152        mpfi       2.68 3.47    9.0            \n",
       "4 front          99.8      ⋯ 109        mpfi       3.19 3.40   10.0            \n",
       "5 front          99.4      ⋯ 136        mpfi       3.19 3.40    8.0            \n",
       "6 front          99.8      ⋯ 136        mpfi       3.19 3.40    8.5            \n",
       "  horsePower peakRpm cityMpg highwayMpg price\n",
       "1 111        5000    21      27         13495\n",
       "2 111        5000    21      27         16500\n",
       "3 154        5000    19      26         16500\n",
       "4 102        5500    24      30         13950\n",
       "5 115        5500    18      22         17450\n",
       "6 110        5500    19      25         15250"
      ]
     },
     "metadata": {},
     "output_type": "display_data"
    }
   ],
   "source": [
    "# Impute mode in integer-type columns\n",
    "imputed_mode <- carIns %>%\n",
    "  mutate(across(.cols = where(is.integer), ~ ifelse(is.na(.), Mode(.[!is.na(.)]), .)))\n",
    "\n",
    "# Display the head of the imputed data\n",
    "head(imputed_mode)"
   ]
  },
  {
   "cell_type": "markdown",
   "id": "9a02cf21",
   "metadata": {
    "papermill": {
     "duration": 0.013918,
     "end_time": "2023-06-09T23:35:14.794531",
     "exception": false,
     "start_time": "2023-06-09T23:35:14.780613",
     "status": "completed"
    },
    "tags": []
   },
   "source": [
    "(g) Create a new data set by imputing the most frequent value to the column ”nDoors”.\n",
    "Tip: use the function impute_replace()\n"
   ]
  },
  {
   "cell_type": "code",
   "execution_count": 9,
   "id": "ee745cdc",
   "metadata": {
    "execution": {
     "iopub.execute_input": "2023-06-09T23:35:14.826246Z",
     "iopub.status.busy": "2023-06-09T23:35:14.824553Z",
     "iopub.status.idle": "2023-06-09T23:35:14.912588Z",
     "shell.execute_reply": "2023-06-09T23:35:14.910724Z"
    },
    "papermill": {
     "duration": 0.106618,
     "end_time": "2023-06-09T23:35:14.915148",
     "exception": false,
     "start_time": "2023-06-09T23:35:14.808530",
     "status": "completed"
    },
    "tags": []
   },
   "outputs": [
    {
     "data": {
      "text/html": [
       "<style>\n",
       ".dl-inline {width: auto; margin:0; padding: 0}\n",
       ".dl-inline>dt, .dl-inline>dd {float: none; width: auto; display: inline-block}\n",
       ".dl-inline>dt::after {content: \":\\0020\"; padding-right: .5ex}\n",
       ".dl-inline>dt:not(:first-of-type) {padding-left: .5ex}\n",
       "</style><dl class=dl-inline><dt>four</dt><dd>114</dd><dt>two</dt><dd>89</dd><dt>NA's</dt><dd>2</dd></dl>\n"
      ],
      "text/latex": [
       "\\begin{description*}\n",
       "\\item[four] 114\n",
       "\\item[two] 89\n",
       "\\item[NA's] 2\n",
       "\\end{description*}\n"
      ],
      "text/markdown": [
       "four\n",
       ":   114two\n",
       ":   89NA's\n",
       ":   2\n",
       "\n"
      ],
      "text/plain": [
       "four  two NA's \n",
       " 114   89    2 "
      ]
     },
     "metadata": {},
     "output_type": "display_data"
    },
    {
     "data": {
      "text/html": [
       "<style>\n",
       ".dl-inline {width: auto; margin:0; padding: 0}\n",
       ".dl-inline>dt, .dl-inline>dd {float: none; width: auto; display: inline-block}\n",
       ".dl-inline>dt::after {content: \":\\0020\"; padding-right: .5ex}\n",
       ".dl-inline>dt:not(:first-of-type) {padding-left: .5ex}\n",
       "</style><dl class=dl-inline><dt>four</dt><dd>205</dd><dt>two</dt><dd>0</dd></dl>\n"
      ],
      "text/latex": [
       "\\begin{description*}\n",
       "\\item[four] 205\n",
       "\\item[two] 0\n",
       "\\end{description*}\n"
      ],
      "text/markdown": [
       "four\n",
       ":   205two\n",
       ":   0\n",
       "\n"
      ],
      "text/plain": [
       "four  two \n",
       " 205    0 "
      ]
     },
     "metadata": {},
     "output_type": "display_data"
    },
    {
     "data": {
      "text/html": [
       "<table class=\"dataframe\">\n",
       "<caption>A tibble: 6 × 26</caption>\n",
       "<thead>\n",
       "\t<tr><th scope=col>symb</th><th scope=col>normLoss</th><th scope=col>make</th><th scope=col>fuelType</th><th scope=col>aspiration</th><th scope=col>nDoors</th><th scope=col>bodyStyle</th><th scope=col>driveWheels</th><th scope=col>engineLocation</th><th scope=col>wheelBase</th><th scope=col>⋯</th><th scope=col>engineSize</th><th scope=col>fuelSystem</th><th scope=col>bore</th><th scope=col>stroke</th><th scope=col>compressionRatio</th><th scope=col>horsePower</th><th scope=col>peakRpm</th><th scope=col>cityMpg</th><th scope=col>highwayMpg</th><th scope=col>price</th></tr>\n",
       "\t<tr><th scope=col>&lt;int&gt;</th><th scope=col>&lt;int&gt;</th><th scope=col>&lt;fct&gt;</th><th scope=col>&lt;fct&gt;</th><th scope=col>&lt;fct&gt;</th><th scope=col>&lt;fct&gt;</th><th scope=col>&lt;fct&gt;</th><th scope=col>&lt;fct&gt;</th><th scope=col>&lt;fct&gt;</th><th scope=col>&lt;dbl&gt;</th><th scope=col>⋯</th><th scope=col>&lt;int&gt;</th><th scope=col>&lt;fct&gt;</th><th scope=col>&lt;dbl&gt;</th><th scope=col>&lt;dbl&gt;</th><th scope=col>&lt;dbl&gt;</th><th scope=col>&lt;int&gt;</th><th scope=col>&lt;int&gt;</th><th scope=col>&lt;int&gt;</th><th scope=col>&lt;int&gt;</th><th scope=col>&lt;int&gt;</th></tr>\n",
       "</thead>\n",
       "<tbody>\n",
       "\t<tr><td>3</td><td> NA</td><td>alfa-romero</td><td>gas</td><td>std</td><td>four</td><td>convertible</td><td>rwd</td><td>front</td><td>88.6</td><td>⋯</td><td>130</td><td>mpfi</td><td>3.47</td><td>2.68</td><td> 9.0</td><td>111</td><td>5000</td><td>21</td><td>27</td><td>13495</td></tr>\n",
       "\t<tr><td>3</td><td> NA</td><td>alfa-romero</td><td>gas</td><td>std</td><td>four</td><td>convertible</td><td>rwd</td><td>front</td><td>88.6</td><td>⋯</td><td>130</td><td>mpfi</td><td>3.47</td><td>2.68</td><td> 9.0</td><td>111</td><td>5000</td><td>21</td><td>27</td><td>16500</td></tr>\n",
       "\t<tr><td>1</td><td> NA</td><td>alfa-romero</td><td>gas</td><td>std</td><td>four</td><td>hatchback  </td><td>rwd</td><td>front</td><td>94.5</td><td>⋯</td><td>152</td><td>mpfi</td><td>2.68</td><td>3.47</td><td> 9.0</td><td>154</td><td>5000</td><td>19</td><td>26</td><td>16500</td></tr>\n",
       "\t<tr><td>2</td><td>164</td><td>audi       </td><td>gas</td><td>std</td><td>four</td><td>sedan      </td><td>fwd</td><td>front</td><td>99.8</td><td>⋯</td><td>109</td><td>mpfi</td><td>3.19</td><td>3.40</td><td>10.0</td><td>102</td><td>5500</td><td>24</td><td>30</td><td>13950</td></tr>\n",
       "\t<tr><td>2</td><td>164</td><td>audi       </td><td>gas</td><td>std</td><td>four</td><td>sedan      </td><td>4wd</td><td>front</td><td>99.4</td><td>⋯</td><td>136</td><td>mpfi</td><td>3.19</td><td>3.40</td><td> 8.0</td><td>115</td><td>5500</td><td>18</td><td>22</td><td>17450</td></tr>\n",
       "\t<tr><td>2</td><td> NA</td><td>audi       </td><td>gas</td><td>std</td><td>four</td><td>sedan      </td><td>fwd</td><td>front</td><td>99.8</td><td>⋯</td><td>136</td><td>mpfi</td><td>3.19</td><td>3.40</td><td> 8.5</td><td>110</td><td>5500</td><td>19</td><td>25</td><td>15250</td></tr>\n",
       "</tbody>\n",
       "</table>\n"
      ],
      "text/latex": [
       "A tibble: 6 × 26\n",
       "\\begin{tabular}{lllllllllllllllllllll}\n",
       " symb & normLoss & make & fuelType & aspiration & nDoors & bodyStyle & driveWheels & engineLocation & wheelBase & ⋯ & engineSize & fuelSystem & bore & stroke & compressionRatio & horsePower & peakRpm & cityMpg & highwayMpg & price\\\\\n",
       " <int> & <int> & <fct> & <fct> & <fct> & <fct> & <fct> & <fct> & <fct> & <dbl> & ⋯ & <int> & <fct> & <dbl> & <dbl> & <dbl> & <int> & <int> & <int> & <int> & <int>\\\\\n",
       "\\hline\n",
       "\t 3 &  NA & alfa-romero & gas & std & four & convertible & rwd & front & 88.6 & ⋯ & 130 & mpfi & 3.47 & 2.68 &  9.0 & 111 & 5000 & 21 & 27 & 13495\\\\\n",
       "\t 3 &  NA & alfa-romero & gas & std & four & convertible & rwd & front & 88.6 & ⋯ & 130 & mpfi & 3.47 & 2.68 &  9.0 & 111 & 5000 & 21 & 27 & 16500\\\\\n",
       "\t 1 &  NA & alfa-romero & gas & std & four & hatchback   & rwd & front & 94.5 & ⋯ & 152 & mpfi & 2.68 & 3.47 &  9.0 & 154 & 5000 & 19 & 26 & 16500\\\\\n",
       "\t 2 & 164 & audi        & gas & std & four & sedan       & fwd & front & 99.8 & ⋯ & 109 & mpfi & 3.19 & 3.40 & 10.0 & 102 & 5500 & 24 & 30 & 13950\\\\\n",
       "\t 2 & 164 & audi        & gas & std & four & sedan       & 4wd & front & 99.4 & ⋯ & 136 & mpfi & 3.19 & 3.40 &  8.0 & 115 & 5500 & 18 & 22 & 17450\\\\\n",
       "\t 2 &  NA & audi        & gas & std & four & sedan       & fwd & front & 99.8 & ⋯ & 136 & mpfi & 3.19 & 3.40 &  8.5 & 110 & 5500 & 19 & 25 & 15250\\\\\n",
       "\\end{tabular}\n"
      ],
      "text/markdown": [
       "\n",
       "A tibble: 6 × 26\n",
       "\n",
       "| symb &lt;int&gt; | normLoss &lt;int&gt; | make &lt;fct&gt; | fuelType &lt;fct&gt; | aspiration &lt;fct&gt; | nDoors &lt;fct&gt; | bodyStyle &lt;fct&gt; | driveWheels &lt;fct&gt; | engineLocation &lt;fct&gt; | wheelBase &lt;dbl&gt; | ⋯ ⋯ | engineSize &lt;int&gt; | fuelSystem &lt;fct&gt; | bore &lt;dbl&gt; | stroke &lt;dbl&gt; | compressionRatio &lt;dbl&gt; | horsePower &lt;int&gt; | peakRpm &lt;int&gt; | cityMpg &lt;int&gt; | highwayMpg &lt;int&gt; | price &lt;int&gt; |\n",
       "|---|---|---|---|---|---|---|---|---|---|---|---|---|---|---|---|---|---|---|---|---|\n",
       "| 3 |  NA | alfa-romero | gas | std | four | convertible | rwd | front | 88.6 | ⋯ | 130 | mpfi | 3.47 | 2.68 |  9.0 | 111 | 5000 | 21 | 27 | 13495 |\n",
       "| 3 |  NA | alfa-romero | gas | std | four | convertible | rwd | front | 88.6 | ⋯ | 130 | mpfi | 3.47 | 2.68 |  9.0 | 111 | 5000 | 21 | 27 | 16500 |\n",
       "| 1 |  NA | alfa-romero | gas | std | four | hatchback   | rwd | front | 94.5 | ⋯ | 152 | mpfi | 2.68 | 3.47 |  9.0 | 154 | 5000 | 19 | 26 | 16500 |\n",
       "| 2 | 164 | audi        | gas | std | four | sedan       | fwd | front | 99.8 | ⋯ | 109 | mpfi | 3.19 | 3.40 | 10.0 | 102 | 5500 | 24 | 30 | 13950 |\n",
       "| 2 | 164 | audi        | gas | std | four | sedan       | 4wd | front | 99.4 | ⋯ | 136 | mpfi | 3.19 | 3.40 |  8.0 | 115 | 5500 | 18 | 22 | 17450 |\n",
       "| 2 |  NA | audi        | gas | std | four | sedan       | fwd | front | 99.8 | ⋯ | 136 | mpfi | 3.19 | 3.40 |  8.5 | 110 | 5500 | 19 | 25 | 15250 |\n",
       "\n"
      ],
      "text/plain": [
       "  symb normLoss make        fuelType aspiration nDoors bodyStyle   driveWheels\n",
       "1 3     NA      alfa-romero gas      std        four   convertible rwd        \n",
       "2 3     NA      alfa-romero gas      std        four   convertible rwd        \n",
       "3 1     NA      alfa-romero gas      std        four   hatchback   rwd        \n",
       "4 2    164      audi        gas      std        four   sedan       fwd        \n",
       "5 2    164      audi        gas      std        four   sedan       4wd        \n",
       "6 2     NA      audi        gas      std        four   sedan       fwd        \n",
       "  engineLocation wheelBase ⋯ engineSize fuelSystem bore stroke compressionRatio\n",
       "1 front          88.6      ⋯ 130        mpfi       3.47 2.68    9.0            \n",
       "2 front          88.6      ⋯ 130        mpfi       3.47 2.68    9.0            \n",
       "3 front          94.5      ⋯ 152        mpfi       2.68 3.47    9.0            \n",
       "4 front          99.8      ⋯ 109        mpfi       3.19 3.40   10.0            \n",
       "5 front          99.4      ⋯ 136        mpfi       3.19 3.40    8.0            \n",
       "6 front          99.8      ⋯ 136        mpfi       3.19 3.40    8.5            \n",
       "  horsePower peakRpm cityMpg highwayMpg price\n",
       "1 111        5000    21      27         13495\n",
       "2 111        5000    21      27         16500\n",
       "3 154        5000    19      26         16500\n",
       "4 102        5500    24      30         13950\n",
       "5 115        5500    18      22         17450\n",
       "6 110        5500    19      25         15250"
      ]
     },
     "metadata": {},
     "output_type": "display_data"
    }
   ],
   "source": [
    " # Copy carIns\n",
    "imputed_data_most_frequent <- carIns\n",
    "summary(carIns$nDoors)\n",
    "# Calculate the most frequent value\n",
    "most_frequent_value <- carIns %>%\n",
    "  count(nDoors) %>%\n",
    "  arrange(desc(n)) %>%\n",
    "  pull(nDoors) %>%\n",
    "  first()\n",
    "\n",
    "# Replace all values in \"nDoors\" column with the most frequent value\n",
    "imputed_data_most_frequent$nDoors <- most_frequent_value\n",
    "\n",
    "imputed_data_most_frequent$nDoors[is.na(imputed_data_most_frequent$nDoors)] <- most_frequent_value\n",
    "summary(imputed_data_most_frequent$nDoors)\n",
    "head(imputed_data_most_frequent)"
   ]
  },
  {
   "cell_type": "markdown",
   "id": "691bc45f",
   "metadata": {
    "papermill": {
     "duration": 0.014858,
     "end_time": "2023-06-09T23:35:14.945340",
     "exception": false,
     "start_time": "2023-06-09T23:35:14.930482",
     "status": "completed"
    },
    "tags": []
   },
   "source": [
    "(h) Combine the three last imputations to obtain a final dataset. Are there any duplicated cases?\n",
    "Tip: use the functions distinct() and count()"
   ]
  },
  {
   "cell_type": "code",
   "execution_count": 10,
   "id": "d3c93bb9",
   "metadata": {
    "execution": {
     "iopub.execute_input": "2023-06-09T23:35:14.978708Z",
     "iopub.status.busy": "2023-06-09T23:35:14.977060Z",
     "iopub.status.idle": "2023-06-09T23:35:15.076722Z",
     "shell.execute_reply": "2023-06-09T23:35:15.074831Z"
    },
    "papermill": {
     "duration": 0.11902,
     "end_time": "2023-06-09T23:35:15.079235",
     "exception": false,
     "start_time": "2023-06-09T23:35:14.960215",
     "status": "completed"
    },
    "tags": []
   },
   "outputs": [
    {
     "name": "stdout",
     "output_type": "stream",
     "text": [
      "[1] \"Duplicated\"\n",
      "    n\n",
      "1 205\n"
     ]
    },
    {
     "data": {
      "text/html": [
       "<table class=\"dataframe\">\n",
       "<caption>A data.frame: 6 × 26</caption>\n",
       "<thead>\n",
       "\t<tr><th></th><th scope=col>wheelBase</th><th scope=col>length</th><th scope=col>width</th><th scope=col>height</th><th scope=col>bore</th><th scope=col>stroke</th><th scope=col>compressionRatio</th><th scope=col>symb</th><th scope=col>normLoss</th><th scope=col>curbWeight</th><th scope=col>⋯</th><th scope=col>nDoors</th><th scope=col>make</th><th scope=col>fuelType</th><th scope=col>aspiration</th><th scope=col>bodyStyle</th><th scope=col>driveWheels</th><th scope=col>engineLocation</th><th scope=col>engineType</th><th scope=col>nrCylinds</th><th scope=col>fuelSystem</th></tr>\n",
       "\t<tr><th></th><th scope=col>&lt;dbl&gt;</th><th scope=col>&lt;dbl&gt;</th><th scope=col>&lt;dbl&gt;</th><th scope=col>&lt;dbl&gt;</th><th scope=col>&lt;dbl&gt;</th><th scope=col>&lt;dbl&gt;</th><th scope=col>&lt;dbl&gt;</th><th scope=col>&lt;int&gt;</th><th scope=col>&lt;int&gt;</th><th scope=col>&lt;int&gt;</th><th scope=col>⋯</th><th scope=col>&lt;fct&gt;</th><th scope=col>&lt;fct&gt;</th><th scope=col>&lt;fct&gt;</th><th scope=col>&lt;fct&gt;</th><th scope=col>&lt;fct&gt;</th><th scope=col>&lt;fct&gt;</th><th scope=col>&lt;fct&gt;</th><th scope=col>&lt;fct&gt;</th><th scope=col>&lt;fct&gt;</th><th scope=col>&lt;fct&gt;</th></tr>\n",
       "</thead>\n",
       "<tbody>\n",
       "\t<tr><th scope=row>1</th><td>88.6</td><td>168.8</td><td>64.1</td><td>48.8</td><td>3.47</td><td>2.68</td><td> 9.0</td><td>3</td><td>161</td><td>2548</td><td>⋯</td><td>four</td><td>alfa-romero</td><td>gas</td><td>std</td><td>convertible</td><td>rwd</td><td>front</td><td>dohc</td><td>four</td><td>mpfi</td></tr>\n",
       "\t<tr><th scope=row>2</th><td>88.6</td><td>168.8</td><td>64.1</td><td>48.8</td><td>3.47</td><td>2.68</td><td> 9.0</td><td>3</td><td>161</td><td>2548</td><td>⋯</td><td>four</td><td>alfa-romero</td><td>gas</td><td>std</td><td>convertible</td><td>rwd</td><td>front</td><td>dohc</td><td>four</td><td>mpfi</td></tr>\n",
       "\t<tr><th scope=row>3</th><td>94.5</td><td>171.2</td><td>65.5</td><td>52.4</td><td>2.68</td><td>3.47</td><td> 9.0</td><td>1</td><td>161</td><td>2823</td><td>⋯</td><td>four</td><td>alfa-romero</td><td>gas</td><td>std</td><td>hatchback  </td><td>rwd</td><td>front</td><td>ohcv</td><td>six </td><td>mpfi</td></tr>\n",
       "\t<tr><th scope=row>4</th><td>99.8</td><td>176.6</td><td>66.2</td><td>54.3</td><td>3.19</td><td>3.40</td><td>10.0</td><td>2</td><td>164</td><td>2337</td><td>⋯</td><td>four</td><td>audi       </td><td>gas</td><td>std</td><td>sedan      </td><td>fwd</td><td>front</td><td>ohc </td><td>four</td><td>mpfi</td></tr>\n",
       "\t<tr><th scope=row>5</th><td>99.4</td><td>176.6</td><td>66.4</td><td>54.3</td><td>3.19</td><td>3.40</td><td> 8.0</td><td>2</td><td>164</td><td>2824</td><td>⋯</td><td>four</td><td>audi       </td><td>gas</td><td>std</td><td>sedan      </td><td>4wd</td><td>front</td><td>ohc </td><td>five</td><td>mpfi</td></tr>\n",
       "\t<tr><th scope=row>6</th><td>99.8</td><td>177.3</td><td>66.3</td><td>53.1</td><td>3.19</td><td>3.40</td><td> 8.5</td><td>2</td><td>161</td><td>2507</td><td>⋯</td><td>four</td><td>audi       </td><td>gas</td><td>std</td><td>sedan      </td><td>fwd</td><td>front</td><td>ohc </td><td>five</td><td>mpfi</td></tr>\n",
       "</tbody>\n",
       "</table>\n"
      ],
      "text/latex": [
       "A data.frame: 6 × 26\n",
       "\\begin{tabular}{r|lllllllllllllllllllll}\n",
       "  & wheelBase & length & width & height & bore & stroke & compressionRatio & symb & normLoss & curbWeight & ⋯ & nDoors & make & fuelType & aspiration & bodyStyle & driveWheels & engineLocation & engineType & nrCylinds & fuelSystem\\\\\n",
       "  & <dbl> & <dbl> & <dbl> & <dbl> & <dbl> & <dbl> & <dbl> & <int> & <int> & <int> & ⋯ & <fct> & <fct> & <fct> & <fct> & <fct> & <fct> & <fct> & <fct> & <fct> & <fct>\\\\\n",
       "\\hline\n",
       "\t1 & 88.6 & 168.8 & 64.1 & 48.8 & 3.47 & 2.68 &  9.0 & 3 & 161 & 2548 & ⋯ & four & alfa-romero & gas & std & convertible & rwd & front & dohc & four & mpfi\\\\\n",
       "\t2 & 88.6 & 168.8 & 64.1 & 48.8 & 3.47 & 2.68 &  9.0 & 3 & 161 & 2548 & ⋯ & four & alfa-romero & gas & std & convertible & rwd & front & dohc & four & mpfi\\\\\n",
       "\t3 & 94.5 & 171.2 & 65.5 & 52.4 & 2.68 & 3.47 &  9.0 & 1 & 161 & 2823 & ⋯ & four & alfa-romero & gas & std & hatchback   & rwd & front & ohcv & six  & mpfi\\\\\n",
       "\t4 & 99.8 & 176.6 & 66.2 & 54.3 & 3.19 & 3.40 & 10.0 & 2 & 164 & 2337 & ⋯ & four & audi        & gas & std & sedan       & fwd & front & ohc  & four & mpfi\\\\\n",
       "\t5 & 99.4 & 176.6 & 66.4 & 54.3 & 3.19 & 3.40 &  8.0 & 2 & 164 & 2824 & ⋯ & four & audi        & gas & std & sedan       & 4wd & front & ohc  & five & mpfi\\\\\n",
       "\t6 & 99.8 & 177.3 & 66.3 & 53.1 & 3.19 & 3.40 &  8.5 & 2 & 161 & 2507 & ⋯ & four & audi        & gas & std & sedan       & fwd & front & ohc  & five & mpfi\\\\\n",
       "\\end{tabular}\n"
      ],
      "text/markdown": [
       "\n",
       "A data.frame: 6 × 26\n",
       "\n",
       "| <!--/--> | wheelBase &lt;dbl&gt; | length &lt;dbl&gt; | width &lt;dbl&gt; | height &lt;dbl&gt; | bore &lt;dbl&gt; | stroke &lt;dbl&gt; | compressionRatio &lt;dbl&gt; | symb &lt;int&gt; | normLoss &lt;int&gt; | curbWeight &lt;int&gt; | ⋯ ⋯ | nDoors &lt;fct&gt; | make &lt;fct&gt; | fuelType &lt;fct&gt; | aspiration &lt;fct&gt; | bodyStyle &lt;fct&gt; | driveWheels &lt;fct&gt; | engineLocation &lt;fct&gt; | engineType &lt;fct&gt; | nrCylinds &lt;fct&gt; | fuelSystem &lt;fct&gt; |\n",
       "|---|---|---|---|---|---|---|---|---|---|---|---|---|---|---|---|---|---|---|---|---|---|\n",
       "| 1 | 88.6 | 168.8 | 64.1 | 48.8 | 3.47 | 2.68 |  9.0 | 3 | 161 | 2548 | ⋯ | four | alfa-romero | gas | std | convertible | rwd | front | dohc | four | mpfi |\n",
       "| 2 | 88.6 | 168.8 | 64.1 | 48.8 | 3.47 | 2.68 |  9.0 | 3 | 161 | 2548 | ⋯ | four | alfa-romero | gas | std | convertible | rwd | front | dohc | four | mpfi |\n",
       "| 3 | 94.5 | 171.2 | 65.5 | 52.4 | 2.68 | 3.47 |  9.0 | 1 | 161 | 2823 | ⋯ | four | alfa-romero | gas | std | hatchback   | rwd | front | ohcv | six  | mpfi |\n",
       "| 4 | 99.8 | 176.6 | 66.2 | 54.3 | 3.19 | 3.40 | 10.0 | 2 | 164 | 2337 | ⋯ | four | audi        | gas | std | sedan       | fwd | front | ohc  | four | mpfi |\n",
       "| 5 | 99.4 | 176.6 | 66.4 | 54.3 | 3.19 | 3.40 |  8.0 | 2 | 164 | 2824 | ⋯ | four | audi        | gas | std | sedan       | 4wd | front | ohc  | five | mpfi |\n",
       "| 6 | 99.8 | 177.3 | 66.3 | 53.1 | 3.19 | 3.40 |  8.5 | 2 | 161 | 2507 | ⋯ | four | audi        | gas | std | sedan       | fwd | front | ohc  | five | mpfi |\n",
       "\n"
      ],
      "text/plain": [
       "  wheelBase length width height bore stroke compressionRatio symb normLoss\n",
       "1 88.6      168.8  64.1  48.8   3.47 2.68    9.0             3    161     \n",
       "2 88.6      168.8  64.1  48.8   3.47 2.68    9.0             3    161     \n",
       "3 94.5      171.2  65.5  52.4   2.68 3.47    9.0             1    161     \n",
       "4 99.8      176.6  66.2  54.3   3.19 3.40   10.0             2    164     \n",
       "5 99.4      176.6  66.4  54.3   3.19 3.40    8.0             2    164     \n",
       "6 99.8      177.3  66.3  53.1   3.19 3.40    8.5             2    161     \n",
       "  curbWeight ⋯ nDoors make        fuelType aspiration bodyStyle   driveWheels\n",
       "1 2548       ⋯ four   alfa-romero gas      std        convertible rwd        \n",
       "2 2548       ⋯ four   alfa-romero gas      std        convertible rwd        \n",
       "3 2823       ⋯ four   alfa-romero gas      std        hatchback   rwd        \n",
       "4 2337       ⋯ four   audi        gas      std        sedan       fwd        \n",
       "5 2824       ⋯ four   audi        gas      std        sedan       4wd        \n",
       "6 2507       ⋯ four   audi        gas      std        sedan       fwd        \n",
       "  engineLocation engineType nrCylinds fuelSystem\n",
       "1 front          dohc       four      mpfi      \n",
       "2 front          dohc       four      mpfi      \n",
       "3 front          ohcv       six       mpfi      \n",
       "4 front          ohc        four      mpfi      \n",
       "5 front          ohc        five      mpfi      \n",
       "6 front          ohc        five      mpfi      "
      ]
     },
     "metadata": {},
     "output_type": "display_data"
    },
    {
     "data": {
      "text/plain": [
       "   wheelBase          length          width           height     \n",
       " Min.   : 86.60   Min.   :141.1   Min.   :60.30   Min.   :47.80  \n",
       " 1st Qu.: 94.50   1st Qu.:166.3   1st Qu.:64.10   1st Qu.:52.00  \n",
       " Median : 97.00   Median :173.2   Median :65.50   Median :54.10  \n",
       " Mean   : 98.76   Mean   :174.0   Mean   :65.91   Mean   :53.72  \n",
       " 3rd Qu.:102.40   3rd Qu.:183.1   3rd Qu.:66.90   3rd Qu.:55.50  \n",
       " Max.   :120.90   Max.   :208.1   Max.   :72.30   Max.   :59.80  \n",
       "                                                                 \n",
       "      bore          stroke      compressionRatio      symb        \n",
       " Min.   :2.54   Min.   :2.070   Min.   : 7.00    Min.   :-2.0000  \n",
       " 1st Qu.:3.15   1st Qu.:3.110   1st Qu.: 8.60    1st Qu.: 0.0000  \n",
       " Median :3.31   Median :3.290   Median : 9.00    Median : 1.0000  \n",
       " Mean   :3.33   Mean   :3.255   Mean   :10.14    Mean   : 0.8341  \n",
       " 3rd Qu.:3.58   3rd Qu.:3.410   3rd Qu.: 9.40    3rd Qu.: 2.0000  \n",
       " Max.   :3.94   Max.   :4.170   Max.   :23.00    Max.   : 3.0000  \n",
       "                                                                  \n",
       "    normLoss       curbWeight     engineSize      horsePower       peakRpm    \n",
       " Min.   : 65.0   Min.   :1488   Min.   : 61.0   Min.   : 48.0   Min.   :4150  \n",
       " 1st Qu.:101.0   1st Qu.:2145   1st Qu.: 97.0   1st Qu.: 70.0   1st Qu.:4800  \n",
       " Median :128.0   Median :2414   Median :120.0   Median : 95.0   Median :5200  \n",
       " Mean   :129.8   Mean   :2556   Mean   :126.9   Mean   :103.9   Mean   :5129  \n",
       " 3rd Qu.:161.0   3rd Qu.:2935   3rd Qu.:141.0   3rd Qu.:116.0   3rd Qu.:5500  \n",
       " Max.   :256.0   Max.   :4066   Max.   :326.0   Max.   :288.0   Max.   :6600  \n",
       "                                                                              \n",
       "    cityMpg        highwayMpg        price        nDoors            make    \n",
       " Min.   :13.00   Min.   :16.00   Min.   : 5118   four:205   toyota    : 32  \n",
       " 1st Qu.:19.00   1st Qu.:25.00   1st Qu.: 7775   two :  0   nissan    : 18  \n",
       " Median :24.00   Median :30.00   Median :10245              mazda     : 17  \n",
       " Mean   :25.22   Mean   :30.75   Mean   :13151              honda     : 13  \n",
       " 3rd Qu.:30.00   3rd Qu.:34.00   3rd Qu.:16500              mitsubishi: 13  \n",
       " Max.   :49.00   Max.   :54.00   Max.   :45400              subaru    : 12  \n",
       "                                                            (Other)   :100  \n",
       "   fuelType   aspiration        bodyStyle  driveWheels engineLocation\n",
       " diesel: 20   std  :168   convertible: 6   4wd:  9     front:202     \n",
       " gas   :185   turbo: 37   hardtop    : 8   fwd:120     rear :  3     \n",
       "                          hatchback  :70   rwd: 76                   \n",
       "                          sedan      :96                             \n",
       "                          wagon      :25                             \n",
       "                                                                     \n",
       "                                                                     \n",
       " engineType   nrCylinds     fuelSystem\n",
       " dohc : 12   eight :  5   mpfi   :94  \n",
       " dohcv:  1   five  : 11   2bbl   :66  \n",
       " l    : 12   four  :159   idi    :20  \n",
       " ohc  :148   six   : 24   1bbl   :11  \n",
       " ohcf : 15   three :  1   spdi   : 9  \n",
       " ohcv : 13   twelve:  1   4bbl   : 3  \n",
       " rotor:  4   two   :  4   (Other): 2  "
      ]
     },
     "metadata": {},
     "output_type": "display_data"
    }
   ],
   "source": [
    "# Select columns from imputed_mean (double columns)\n",
    "imputed_mean_selected <- select(imputed_mean, where(is.double))\n",
    "\n",
    "# Select columns from impute_mode (integer columns)\n",
    "impute_mode_selected <- select(imputed_mode, where(is.integer))\n",
    "\n",
    "# Select nDoors column from imputed_data_most_frequent\n",
    "imputed_data_most_frequent_selected <- select(imputed_data_most_frequent, nDoors)\n",
    "\n",
    "# Select columns that are not double, not integer, and column name is not \"nDoors\"\n",
    "rest_columns <- select(carIns, -where(is.double), -where(is.integer), -nDoors)\n",
    "\n",
    "# Combine the selected columns into a single dataset\n",
    "final_data <- cbind(imputed_mean_selected, impute_mode_selected, imputed_data_most_frequent_selected,rest_columns)\n",
    "# Check for duplicated cases\n",
    "duplicated_cases <- final_data %>%\n",
    "  distinct() %>%\n",
    "  count() %>%\n",
    "  filter(n > 1)\n",
    "\n",
    "# Print the duplicated cases, if any\n",
    "if (nrow(duplicated_cases) > 0) {\n",
    "    print(\"Duplicated\")\n",
    "    print(duplicated_cases)\n",
    "} else {\n",
    "  print(\"No duplicated cases\")\n",
    "}\n",
    "\n",
    "head(final_data)\n",
    "summary(final_data)"
   ]
  },
  {
   "cell_type": "markdown",
   "id": "149599e1",
   "metadata": {
    "papermill": {
     "duration": 0.015598,
     "end_time": "2023-06-09T23:35:15.110608",
     "exception": false,
     "start_time": "2023-06-09T23:35:15.095010",
     "status": "completed"
    },
    "tags": []
   },
   "source": [
    "### 2. Data Pre-Processing\n",
    "2. Load the package dlookr. Use the same car insurance data set above and apply the following transformations to the price attribute. Be critical regarding the obtained results.\n"
   ]
  },
  {
   "cell_type": "code",
   "execution_count": 11,
   "id": "a70dece5",
   "metadata": {
    "execution": {
     "iopub.execute_input": "2023-06-09T23:35:15.145936Z",
     "iopub.status.busy": "2023-06-09T23:35:15.144228Z",
     "iopub.status.idle": "2023-06-09T23:36:01.206218Z",
     "shell.execute_reply": "2023-06-09T23:36:01.203436Z"
    },
    "papermill": {
     "duration": 46.09798,
     "end_time": "2023-06-09T23:36:01.224474",
     "exception": false,
     "start_time": "2023-06-09T23:35:15.126494",
     "status": "completed"
    },
    "tags": []
   },
   "outputs": [
    {
     "name": "stderr",
     "output_type": "stream",
     "text": [
      "Installing package into ‘/usr/local/lib/R/site-library’\n",
      "(as ‘lib’ is unspecified)\n",
      "\n",
      "also installing the dependency ‘pagedown’\n",
      "\n",
      "\n",
      "\n",
      "Attaching package: ‘dlookr’\n",
      "\n",
      "\n",
      "The following object is masked from ‘package:base’:\n",
      "\n",
      "    transform\n",
      "\n",
      "\n"
     ]
    }
   ],
   "source": [
    "install.packages(\"dlookr\")\n",
    "library(dlookr)\n"
   ]
  },
  {
   "cell_type": "code",
   "execution_count": 12,
   "id": "71bfd5b0",
   "metadata": {
    "execution": {
     "iopub.execute_input": "2023-06-09T23:36:01.260033Z",
     "iopub.status.busy": "2023-06-09T23:36:01.258371Z",
     "iopub.status.idle": "2023-06-09T23:36:01.310379Z",
     "shell.execute_reply": "2023-06-09T23:36:01.307800Z"
    },
    "papermill": {
     "duration": 0.073252,
     "end_time": "2023-06-09T23:36:01.313492",
     "exception": false,
     "start_time": "2023-06-09T23:36:01.240240",
     "status": "completed"
    },
    "tags": []
   },
   "outputs": [
    {
     "data": {
      "text/html": [
       "<table class=\"dataframe\">\n",
       "<caption>A tibble: 26 × 6</caption>\n",
       "<thead>\n",
       "\t<tr><th scope=col>variables</th><th scope=col>types</th><th scope=col>missing_count</th><th scope=col>missing_percent</th><th scope=col>unique_count</th><th scope=col>unique_rate</th></tr>\n",
       "\t<tr><th scope=col>&lt;chr&gt;</th><th scope=col>&lt;chr&gt;</th><th scope=col>&lt;int&gt;</th><th scope=col>&lt;dbl&gt;</th><th scope=col>&lt;int&gt;</th><th scope=col>&lt;dbl&gt;</th></tr>\n",
       "</thead>\n",
       "<tbody>\n",
       "\t<tr><td>wheelBase       </td><td>numeric</td><td>0</td><td>0</td><td> 53</td><td>0.258536585</td></tr>\n",
       "\t<tr><td>length          </td><td>numeric</td><td>0</td><td>0</td><td> 75</td><td>0.365853659</td></tr>\n",
       "\t<tr><td>width           </td><td>numeric</td><td>0</td><td>0</td><td> 44</td><td>0.214634146</td></tr>\n",
       "\t<tr><td>height          </td><td>numeric</td><td>0</td><td>0</td><td> 49</td><td>0.239024390</td></tr>\n",
       "\t<tr><td>bore            </td><td>numeric</td><td>0</td><td>0</td><td> 39</td><td>0.190243902</td></tr>\n",
       "\t<tr><td>stroke          </td><td>numeric</td><td>0</td><td>0</td><td> 37</td><td>0.180487805</td></tr>\n",
       "\t<tr><td>compressionRatio</td><td>numeric</td><td>0</td><td>0</td><td> 32</td><td>0.156097561</td></tr>\n",
       "\t<tr><td>symb            </td><td>integer</td><td>0</td><td>0</td><td>  6</td><td>0.029268293</td></tr>\n",
       "\t<tr><td>normLoss        </td><td>integer</td><td>0</td><td>0</td><td> 51</td><td>0.248780488</td></tr>\n",
       "\t<tr><td>curbWeight      </td><td>integer</td><td>0</td><td>0</td><td>171</td><td>0.834146341</td></tr>\n",
       "\t<tr><td>engineSize      </td><td>integer</td><td>0</td><td>0</td><td> 44</td><td>0.214634146</td></tr>\n",
       "\t<tr><td>horsePower      </td><td>integer</td><td>0</td><td>0</td><td> 59</td><td>0.287804878</td></tr>\n",
       "\t<tr><td>peakRpm         </td><td>integer</td><td>0</td><td>0</td><td> 23</td><td>0.112195122</td></tr>\n",
       "\t<tr><td>cityMpg         </td><td>integer</td><td>0</td><td>0</td><td> 29</td><td>0.141463415</td></tr>\n",
       "\t<tr><td>highwayMpg      </td><td>integer</td><td>0</td><td>0</td><td> 30</td><td>0.146341463</td></tr>\n",
       "\t<tr><td>price           </td><td>integer</td><td>0</td><td>0</td><td>186</td><td>0.907317073</td></tr>\n",
       "\t<tr><td>nDoors          </td><td>factor </td><td>0</td><td>0</td><td>  1</td><td>0.004878049</td></tr>\n",
       "\t<tr><td>make            </td><td>factor </td><td>0</td><td>0</td><td> 22</td><td>0.107317073</td></tr>\n",
       "\t<tr><td>fuelType        </td><td>factor </td><td>0</td><td>0</td><td>  2</td><td>0.009756098</td></tr>\n",
       "\t<tr><td>aspiration      </td><td>factor </td><td>0</td><td>0</td><td>  2</td><td>0.009756098</td></tr>\n",
       "\t<tr><td>bodyStyle       </td><td>factor </td><td>0</td><td>0</td><td>  5</td><td>0.024390244</td></tr>\n",
       "\t<tr><td>driveWheels     </td><td>factor </td><td>0</td><td>0</td><td>  3</td><td>0.014634146</td></tr>\n",
       "\t<tr><td>engineLocation  </td><td>factor </td><td>0</td><td>0</td><td>  2</td><td>0.009756098</td></tr>\n",
       "\t<tr><td>engineType      </td><td>factor </td><td>0</td><td>0</td><td>  7</td><td>0.034146341</td></tr>\n",
       "\t<tr><td>nrCylinds       </td><td>factor </td><td>0</td><td>0</td><td>  7</td><td>0.034146341</td></tr>\n",
       "\t<tr><td>fuelSystem      </td><td>factor </td><td>0</td><td>0</td><td>  8</td><td>0.039024390</td></tr>\n",
       "</tbody>\n",
       "</table>\n"
      ],
      "text/latex": [
       "A tibble: 26 × 6\n",
       "\\begin{tabular}{llllll}\n",
       " variables & types & missing\\_count & missing\\_percent & unique\\_count & unique\\_rate\\\\\n",
       " <chr> & <chr> & <int> & <dbl> & <int> & <dbl>\\\\\n",
       "\\hline\n",
       "\t wheelBase        & numeric & 0 & 0 &  53 & 0.258536585\\\\\n",
       "\t length           & numeric & 0 & 0 &  75 & 0.365853659\\\\\n",
       "\t width            & numeric & 0 & 0 &  44 & 0.214634146\\\\\n",
       "\t height           & numeric & 0 & 0 &  49 & 0.239024390\\\\\n",
       "\t bore             & numeric & 0 & 0 &  39 & 0.190243902\\\\\n",
       "\t stroke           & numeric & 0 & 0 &  37 & 0.180487805\\\\\n",
       "\t compressionRatio & numeric & 0 & 0 &  32 & 0.156097561\\\\\n",
       "\t symb             & integer & 0 & 0 &   6 & 0.029268293\\\\\n",
       "\t normLoss         & integer & 0 & 0 &  51 & 0.248780488\\\\\n",
       "\t curbWeight       & integer & 0 & 0 & 171 & 0.834146341\\\\\n",
       "\t engineSize       & integer & 0 & 0 &  44 & 0.214634146\\\\\n",
       "\t horsePower       & integer & 0 & 0 &  59 & 0.287804878\\\\\n",
       "\t peakRpm          & integer & 0 & 0 &  23 & 0.112195122\\\\\n",
       "\t cityMpg          & integer & 0 & 0 &  29 & 0.141463415\\\\\n",
       "\t highwayMpg       & integer & 0 & 0 &  30 & 0.146341463\\\\\n",
       "\t price            & integer & 0 & 0 & 186 & 0.907317073\\\\\n",
       "\t nDoors           & factor  & 0 & 0 &   1 & 0.004878049\\\\\n",
       "\t make             & factor  & 0 & 0 &  22 & 0.107317073\\\\\n",
       "\t fuelType         & factor  & 0 & 0 &   2 & 0.009756098\\\\\n",
       "\t aspiration       & factor  & 0 & 0 &   2 & 0.009756098\\\\\n",
       "\t bodyStyle        & factor  & 0 & 0 &   5 & 0.024390244\\\\\n",
       "\t driveWheels      & factor  & 0 & 0 &   3 & 0.014634146\\\\\n",
       "\t engineLocation   & factor  & 0 & 0 &   2 & 0.009756098\\\\\n",
       "\t engineType       & factor  & 0 & 0 &   7 & 0.034146341\\\\\n",
       "\t nrCylinds        & factor  & 0 & 0 &   7 & 0.034146341\\\\\n",
       "\t fuelSystem       & factor  & 0 & 0 &   8 & 0.039024390\\\\\n",
       "\\end{tabular}\n"
      ],
      "text/markdown": [
       "\n",
       "A tibble: 26 × 6\n",
       "\n",
       "| variables &lt;chr&gt; | types &lt;chr&gt; | missing_count &lt;int&gt; | missing_percent &lt;dbl&gt; | unique_count &lt;int&gt; | unique_rate &lt;dbl&gt; |\n",
       "|---|---|---|---|---|---|\n",
       "| wheelBase        | numeric | 0 | 0 |  53 | 0.258536585 |\n",
       "| length           | numeric | 0 | 0 |  75 | 0.365853659 |\n",
       "| width            | numeric | 0 | 0 |  44 | 0.214634146 |\n",
       "| height           | numeric | 0 | 0 |  49 | 0.239024390 |\n",
       "| bore             | numeric | 0 | 0 |  39 | 0.190243902 |\n",
       "| stroke           | numeric | 0 | 0 |  37 | 0.180487805 |\n",
       "| compressionRatio | numeric | 0 | 0 |  32 | 0.156097561 |\n",
       "| symb             | integer | 0 | 0 |   6 | 0.029268293 |\n",
       "| normLoss         | integer | 0 | 0 |  51 | 0.248780488 |\n",
       "| curbWeight       | integer | 0 | 0 | 171 | 0.834146341 |\n",
       "| engineSize       | integer | 0 | 0 |  44 | 0.214634146 |\n",
       "| horsePower       | integer | 0 | 0 |  59 | 0.287804878 |\n",
       "| peakRpm          | integer | 0 | 0 |  23 | 0.112195122 |\n",
       "| cityMpg          | integer | 0 | 0 |  29 | 0.141463415 |\n",
       "| highwayMpg       | integer | 0 | 0 |  30 | 0.146341463 |\n",
       "| price            | integer | 0 | 0 | 186 | 0.907317073 |\n",
       "| nDoors           | factor  | 0 | 0 |   1 | 0.004878049 |\n",
       "| make             | factor  | 0 | 0 |  22 | 0.107317073 |\n",
       "| fuelType         | factor  | 0 | 0 |   2 | 0.009756098 |\n",
       "| aspiration       | factor  | 0 | 0 |   2 | 0.009756098 |\n",
       "| bodyStyle        | factor  | 0 | 0 |   5 | 0.024390244 |\n",
       "| driveWheels      | factor  | 0 | 0 |   3 | 0.014634146 |\n",
       "| engineLocation   | factor  | 0 | 0 |   2 | 0.009756098 |\n",
       "| engineType       | factor  | 0 | 0 |   7 | 0.034146341 |\n",
       "| nrCylinds        | factor  | 0 | 0 |   7 | 0.034146341 |\n",
       "| fuelSystem       | factor  | 0 | 0 |   8 | 0.039024390 |\n",
       "\n"
      ],
      "text/plain": [
       "   variables        types   missing_count missing_percent unique_count\n",
       "1  wheelBase        numeric 0             0                53         \n",
       "2  length           numeric 0             0                75         \n",
       "3  width            numeric 0             0                44         \n",
       "4  height           numeric 0             0                49         \n",
       "5  bore             numeric 0             0                39         \n",
       "6  stroke           numeric 0             0                37         \n",
       "7  compressionRatio numeric 0             0                32         \n",
       "8  symb             integer 0             0                 6         \n",
       "9  normLoss         integer 0             0                51         \n",
       "10 curbWeight       integer 0             0               171         \n",
       "11 engineSize       integer 0             0                44         \n",
       "12 horsePower       integer 0             0                59         \n",
       "13 peakRpm          integer 0             0                23         \n",
       "14 cityMpg          integer 0             0                29         \n",
       "15 highwayMpg       integer 0             0                30         \n",
       "16 price            integer 0             0               186         \n",
       "17 nDoors           factor  0             0                 1         \n",
       "18 make             factor  0             0                22         \n",
       "19 fuelType         factor  0             0                 2         \n",
       "20 aspiration       factor  0             0                 2         \n",
       "21 bodyStyle        factor  0             0                 5         \n",
       "22 driveWheels      factor  0             0                 3         \n",
       "23 engineLocation   factor  0             0                 2         \n",
       "24 engineType       factor  0             0                 7         \n",
       "25 nrCylinds        factor  0             0                 7         \n",
       "26 fuelSystem       factor  0             0                 8         \n",
       "   unique_rate\n",
       "1  0.258536585\n",
       "2  0.365853659\n",
       "3  0.214634146\n",
       "4  0.239024390\n",
       "5  0.190243902\n",
       "6  0.180487805\n",
       "7  0.156097561\n",
       "8  0.029268293\n",
       "9  0.248780488\n",
       "10 0.834146341\n",
       "11 0.214634146\n",
       "12 0.287804878\n",
       "13 0.112195122\n",
       "14 0.141463415\n",
       "15 0.146341463\n",
       "16 0.907317073\n",
       "17 0.004878049\n",
       "18 0.107317073\n",
       "19 0.009756098\n",
       "20 0.009756098\n",
       "21 0.024390244\n",
       "22 0.014634146\n",
       "23 0.009756098\n",
       "24 0.034146341\n",
       "25 0.034146341\n",
       "26 0.039024390"
      ]
     },
     "metadata": {},
     "output_type": "display_data"
    }
   ],
   "source": [
    "car_insurance <- final_data\n",
    "diagnose(car_insurance)"
   ]
  },
  {
   "cell_type": "markdown",
   "id": "40d7e7b6",
   "metadata": {
    "papermill": {
     "duration": 0.01655,
     "end_time": "2023-06-09T23:36:01.346485",
     "exception": false,
     "start_time": "2023-06-09T23:36:01.329935",
     "status": "completed"
    },
    "tags": []
   },
   "source": [
    "(a) Apply range-based normalization and z-score normalization."
   ]
  },
  {
   "cell_type": "code",
   "execution_count": 13,
   "id": "eb0dfb1c",
   "metadata": {
    "execution": {
     "iopub.execute_input": "2023-06-09T23:36:01.382930Z",
     "iopub.status.busy": "2023-06-09T23:36:01.381277Z",
     "iopub.status.idle": "2023-06-09T23:36:01.497915Z",
     "shell.execute_reply": "2023-06-09T23:36:01.495992Z"
    },
    "papermill": {
     "duration": 0.137861,
     "end_time": "2023-06-09T23:36:01.500561",
     "exception": false,
     "start_time": "2023-06-09T23:36:01.362700",
     "status": "completed"
    },
    "tags": []
   },
   "outputs": [
    {
     "data": {
      "text/html": [
       "<table class=\"dataframe\">\n",
       "<caption>A tibble: 3 × 6</caption>\n",
       "<thead>\n",
       "\t<tr><th scope=col>variables</th><th scope=col>types</th><th scope=col>missing_count</th><th scope=col>missing_percent</th><th scope=col>unique_count</th><th scope=col>unique_rate</th></tr>\n",
       "\t<tr><th scope=col>&lt;chr&gt;</th><th scope=col>&lt;chr&gt;</th><th scope=col>&lt;int&gt;</th><th scope=col>&lt;dbl&gt;</th><th scope=col>&lt;int&gt;</th><th scope=col>&lt;dbl&gt;</th></tr>\n",
       "</thead>\n",
       "<tbody>\n",
       "\t<tr><td>price                  </td><td>integer</td><td>0</td><td>0</td><td>186</td><td>0.9073171</td></tr>\n",
       "\t<tr><td>price_range_normalized </td><td>numeric</td><td>0</td><td>0</td><td>186</td><td>0.9073171</td></tr>\n",
       "\t<tr><td>price_zscore_normalized</td><td>numeric</td><td>0</td><td>0</td><td>186</td><td>0.9073171</td></tr>\n",
       "</tbody>\n",
       "</table>\n"
      ],
      "text/latex": [
       "A tibble: 3 × 6\n",
       "\\begin{tabular}{llllll}\n",
       " variables & types & missing\\_count & missing\\_percent & unique\\_count & unique\\_rate\\\\\n",
       " <chr> & <chr> & <int> & <dbl> & <int> & <dbl>\\\\\n",
       "\\hline\n",
       "\t price                   & integer & 0 & 0 & 186 & 0.9073171\\\\\n",
       "\t price\\_range\\_normalized  & numeric & 0 & 0 & 186 & 0.9073171\\\\\n",
       "\t price\\_zscore\\_normalized & numeric & 0 & 0 & 186 & 0.9073171\\\\\n",
       "\\end{tabular}\n"
      ],
      "text/markdown": [
       "\n",
       "A tibble: 3 × 6\n",
       "\n",
       "| variables &lt;chr&gt; | types &lt;chr&gt; | missing_count &lt;int&gt; | missing_percent &lt;dbl&gt; | unique_count &lt;int&gt; | unique_rate &lt;dbl&gt; |\n",
       "|---|---|---|---|---|---|\n",
       "| price                   | integer | 0 | 0 | 186 | 0.9073171 |\n",
       "| price_range_normalized  | numeric | 0 | 0 | 186 | 0.9073171 |\n",
       "| price_zscore_normalized | numeric | 0 | 0 | 186 | 0.9073171 |\n",
       "\n"
      ],
      "text/plain": [
       "  variables               types   missing_count missing_percent unique_count\n",
       "1 price                   integer 0             0               186         \n",
       "2 price_range_normalized  numeric 0             0               186         \n",
       "3 price_zscore_normalized numeric 0             0               186         \n",
       "  unique_rate\n",
       "1 0.9073171  \n",
       "2 0.9073171  \n",
       "3 0.9073171  "
      ]
     },
     "metadata": {},
     "output_type": "display_data"
    },
    {
     "data": {
      "text/html": [
       "<table class=\"dataframe\">\n",
       "<caption>A data.frame: 6 × 28</caption>\n",
       "<thead>\n",
       "\t<tr><th></th><th scope=col>wheelBase</th><th scope=col>length</th><th scope=col>width</th><th scope=col>height</th><th scope=col>bore</th><th scope=col>stroke</th><th scope=col>compressionRatio</th><th scope=col>symb</th><th scope=col>normLoss</th><th scope=col>curbWeight</th><th scope=col>⋯</th><th scope=col>fuelType</th><th scope=col>aspiration</th><th scope=col>bodyStyle</th><th scope=col>driveWheels</th><th scope=col>engineLocation</th><th scope=col>engineType</th><th scope=col>nrCylinds</th><th scope=col>fuelSystem</th><th scope=col>price_range_normalized</th><th scope=col>price_zscore_normalized</th></tr>\n",
       "\t<tr><th></th><th scope=col>&lt;dbl&gt;</th><th scope=col>&lt;dbl&gt;</th><th scope=col>&lt;dbl&gt;</th><th scope=col>&lt;dbl&gt;</th><th scope=col>&lt;dbl&gt;</th><th scope=col>&lt;dbl&gt;</th><th scope=col>&lt;dbl&gt;</th><th scope=col>&lt;int&gt;</th><th scope=col>&lt;int&gt;</th><th scope=col>&lt;int&gt;</th><th scope=col>⋯</th><th scope=col>&lt;fct&gt;</th><th scope=col>&lt;fct&gt;</th><th scope=col>&lt;fct&gt;</th><th scope=col>&lt;fct&gt;</th><th scope=col>&lt;fct&gt;</th><th scope=col>&lt;fct&gt;</th><th scope=col>&lt;fct&gt;</th><th scope=col>&lt;fct&gt;</th><th scope=col>&lt;dbl[,1]&gt;</th><th scope=col>&lt;dbl[,1]&gt;</th></tr>\n",
       "</thead>\n",
       "<tbody>\n",
       "\t<tr><th scope=row>1</th><td>88.6</td><td>168.8</td><td>64.1</td><td>48.8</td><td>3.47</td><td>2.68</td><td> 9.0</td><td>3</td><td>161</td><td>2548</td><td>⋯</td><td>gas</td><td>std</td><td>convertible</td><td>rwd</td><td>front</td><td>dohc</td><td>four</td><td>mpfi</td><td>0.2079589</td><td>0.04345516</td></tr>\n",
       "\t<tr><th scope=row>2</th><td>88.6</td><td>168.8</td><td>64.1</td><td>48.8</td><td>3.47</td><td>2.68</td><td> 9.0</td><td>3</td><td>161</td><td>2548</td><td>⋯</td><td>gas</td><td>std</td><td>convertible</td><td>rwd</td><td>front</td><td>dohc</td><td>four</td><td>mpfi</td><td>0.2825580</td><td>0.42354125</td></tr>\n",
       "\t<tr><th scope=row>3</th><td>94.5</td><td>171.2</td><td>65.5</td><td>52.4</td><td>2.68</td><td>3.47</td><td> 9.0</td><td>1</td><td>161</td><td>2823</td><td>⋯</td><td>gas</td><td>std</td><td>hatchback  </td><td>rwd</td><td>front</td><td>ohcv</td><td>six </td><td>mpfi</td><td>0.2825580</td><td>0.42354125</td></tr>\n",
       "\t<tr><th scope=row>4</th><td>99.8</td><td>176.6</td><td>66.2</td><td>54.3</td><td>3.19</td><td>3.40</td><td>10.0</td><td>2</td><td>164</td><td>2337</td><td>⋯</td><td>gas</td><td>std</td><td>sedan      </td><td>fwd</td><td>front</td><td>ohc </td><td>four</td><td>mpfi</td><td>0.2192543</td><td>0.10100563</td></tr>\n",
       "\t<tr><th scope=row>5</th><td>99.4</td><td>176.6</td><td>66.4</td><td>54.3</td><td>3.19</td><td>3.40</td><td> 8.0</td><td>2</td><td>164</td><td>2824</td><td>⋯</td><td>gas</td><td>std</td><td>sedan      </td><td>4wd</td><td>front</td><td>ohc </td><td>five</td><td>mpfi</td><td>0.3061417</td><td>0.54370158</td></tr>\n",
       "\t<tr><th scope=row>6</th><td>99.8</td><td>177.3</td><td>66.3</td><td>53.1</td><td>3.19</td><td>3.40</td><td> 8.5</td><td>2</td><td>161</td><td>2507</td><td>⋯</td><td>gas</td><td>std</td><td>sedan      </td><td>fwd</td><td>front</td><td>ohc </td><td>five</td><td>mpfi</td><td>0.2515267</td><td>0.26543556</td></tr>\n",
       "</tbody>\n",
       "</table>\n"
      ],
      "text/latex": [
       "A data.frame: 6 × 28\n",
       "\\begin{tabular}{r|lllllllllllllllllllll}\n",
       "  & wheelBase & length & width & height & bore & stroke & compressionRatio & symb & normLoss & curbWeight & ⋯ & fuelType & aspiration & bodyStyle & driveWheels & engineLocation & engineType & nrCylinds & fuelSystem & price\\_range\\_normalized & price\\_zscore\\_normalized\\\\\n",
       "  & <dbl> & <dbl> & <dbl> & <dbl> & <dbl> & <dbl> & <dbl> & <int> & <int> & <int> & ⋯ & <fct> & <fct> & <fct> & <fct> & <fct> & <fct> & <fct> & <fct> & <dbl{[},1{]}> & <dbl{[},1{]}>\\\\\n",
       "\\hline\n",
       "\t1 & 88.6 & 168.8 & 64.1 & 48.8 & 3.47 & 2.68 &  9.0 & 3 & 161 & 2548 & ⋯ & gas & std & convertible & rwd & front & dohc & four & mpfi & 0.2079589 & 0.04345516\\\\\n",
       "\t2 & 88.6 & 168.8 & 64.1 & 48.8 & 3.47 & 2.68 &  9.0 & 3 & 161 & 2548 & ⋯ & gas & std & convertible & rwd & front & dohc & four & mpfi & 0.2825580 & 0.42354125\\\\\n",
       "\t3 & 94.5 & 171.2 & 65.5 & 52.4 & 2.68 & 3.47 &  9.0 & 1 & 161 & 2823 & ⋯ & gas & std & hatchback   & rwd & front & ohcv & six  & mpfi & 0.2825580 & 0.42354125\\\\\n",
       "\t4 & 99.8 & 176.6 & 66.2 & 54.3 & 3.19 & 3.40 & 10.0 & 2 & 164 & 2337 & ⋯ & gas & std & sedan       & fwd & front & ohc  & four & mpfi & 0.2192543 & 0.10100563\\\\\n",
       "\t5 & 99.4 & 176.6 & 66.4 & 54.3 & 3.19 & 3.40 &  8.0 & 2 & 164 & 2824 & ⋯ & gas & std & sedan       & 4wd & front & ohc  & five & mpfi & 0.3061417 & 0.54370158\\\\\n",
       "\t6 & 99.8 & 177.3 & 66.3 & 53.1 & 3.19 & 3.40 &  8.5 & 2 & 161 & 2507 & ⋯ & gas & std & sedan       & fwd & front & ohc  & five & mpfi & 0.2515267 & 0.26543556\\\\\n",
       "\\end{tabular}\n"
      ],
      "text/markdown": [
       "\n",
       "A data.frame: 6 × 28\n",
       "\n",
       "| <!--/--> | wheelBase &lt;dbl&gt; | length &lt;dbl&gt; | width &lt;dbl&gt; | height &lt;dbl&gt; | bore &lt;dbl&gt; | stroke &lt;dbl&gt; | compressionRatio &lt;dbl&gt; | symb &lt;int&gt; | normLoss &lt;int&gt; | curbWeight &lt;int&gt; | ⋯ ⋯ | fuelType &lt;fct&gt; | aspiration &lt;fct&gt; | bodyStyle &lt;fct&gt; | driveWheels &lt;fct&gt; | engineLocation &lt;fct&gt; | engineType &lt;fct&gt; | nrCylinds &lt;fct&gt; | fuelSystem &lt;fct&gt; | price_range_normalized &lt;dbl[,1]&gt; | price_zscore_normalized &lt;dbl[,1]&gt; |\n",
       "|---|---|---|---|---|---|---|---|---|---|---|---|---|---|---|---|---|---|---|---|---|---|\n",
       "| 1 | 88.6 | 168.8 | 64.1 | 48.8 | 3.47 | 2.68 |  9.0 | 3 | 161 | 2548 | ⋯ | gas | std | convertible | rwd | front | dohc | four | mpfi | 0.2079589 | 0.04345516 |\n",
       "| 2 | 88.6 | 168.8 | 64.1 | 48.8 | 3.47 | 2.68 |  9.0 | 3 | 161 | 2548 | ⋯ | gas | std | convertible | rwd | front | dohc | four | mpfi | 0.2825580 | 0.42354125 |\n",
       "| 3 | 94.5 | 171.2 | 65.5 | 52.4 | 2.68 | 3.47 |  9.0 | 1 | 161 | 2823 | ⋯ | gas | std | hatchback   | rwd | front | ohcv | six  | mpfi | 0.2825580 | 0.42354125 |\n",
       "| 4 | 99.8 | 176.6 | 66.2 | 54.3 | 3.19 | 3.40 | 10.0 | 2 | 164 | 2337 | ⋯ | gas | std | sedan       | fwd | front | ohc  | four | mpfi | 0.2192543 | 0.10100563 |\n",
       "| 5 | 99.4 | 176.6 | 66.4 | 54.3 | 3.19 | 3.40 |  8.0 | 2 | 164 | 2824 | ⋯ | gas | std | sedan       | 4wd | front | ohc  | five | mpfi | 0.3061417 | 0.54370158 |\n",
       "| 6 | 99.8 | 177.3 | 66.3 | 53.1 | 3.19 | 3.40 |  8.5 | 2 | 161 | 2507 | ⋯ | gas | std | sedan       | fwd | front | ohc  | five | mpfi | 0.2515267 | 0.26543556 |\n",
       "\n"
      ],
      "text/plain": [
       "  wheelBase length width height bore stroke compressionRatio symb normLoss\n",
       "1 88.6      168.8  64.1  48.8   3.47 2.68    9.0             3    161     \n",
       "2 88.6      168.8  64.1  48.8   3.47 2.68    9.0             3    161     \n",
       "3 94.5      171.2  65.5  52.4   2.68 3.47    9.0             1    161     \n",
       "4 99.8      176.6  66.2  54.3   3.19 3.40   10.0             2    164     \n",
       "5 99.4      176.6  66.4  54.3   3.19 3.40    8.0             2    164     \n",
       "6 99.8      177.3  66.3  53.1   3.19 3.40    8.5             2    161     \n",
       "  curbWeight ⋯ fuelType aspiration bodyStyle   driveWheels engineLocation\n",
       "1 2548       ⋯ gas      std        convertible rwd         front         \n",
       "2 2548       ⋯ gas      std        convertible rwd         front         \n",
       "3 2823       ⋯ gas      std        hatchback   rwd         front         \n",
       "4 2337       ⋯ gas      std        sedan       fwd         front         \n",
       "5 2824       ⋯ gas      std        sedan       4wd         front         \n",
       "6 2507       ⋯ gas      std        sedan       fwd         front         \n",
       "  engineType nrCylinds fuelSystem price_range_normalized\n",
       "1 dohc       four      mpfi       0.2079589             \n",
       "2 dohc       four      mpfi       0.2825580             \n",
       "3 ohcv       six       mpfi       0.2825580             \n",
       "4 ohc        four      mpfi       0.2192543             \n",
       "5 ohc        five      mpfi       0.3061417             \n",
       "6 ohc        five      mpfi       0.2515267             \n",
       "  price_zscore_normalized\n",
       "1 0.04345516             \n",
       "2 0.42354125             \n",
       "3 0.42354125             \n",
       "4 0.10100563             \n",
       "5 0.54370158             \n",
       "6 0.26543556             "
      ]
     },
     "metadata": {},
     "output_type": "display_data"
    },
    {
     "data": {
      "text/html": [
       "<table class=\"dataframe\">\n",
       "<caption>A data.frame: 6 × 28</caption>\n",
       "<thead>\n",
       "\t<tr><th></th><th scope=col>wheelBase</th><th scope=col>length</th><th scope=col>width</th><th scope=col>height</th><th scope=col>bore</th><th scope=col>stroke</th><th scope=col>compressionRatio</th><th scope=col>symb</th><th scope=col>normLoss</th><th scope=col>curbWeight</th><th scope=col>⋯</th><th scope=col>fuelType</th><th scope=col>aspiration</th><th scope=col>bodyStyle</th><th scope=col>driveWheels</th><th scope=col>engineLocation</th><th scope=col>engineType</th><th scope=col>nrCylinds</th><th scope=col>fuelSystem</th><th scope=col>price_range_normalized</th><th scope=col>price_zscore_normalized</th></tr>\n",
       "\t<tr><th></th><th scope=col>&lt;dbl&gt;</th><th scope=col>&lt;dbl&gt;</th><th scope=col>&lt;dbl&gt;</th><th scope=col>&lt;dbl&gt;</th><th scope=col>&lt;dbl&gt;</th><th scope=col>&lt;dbl&gt;</th><th scope=col>&lt;dbl&gt;</th><th scope=col>&lt;int&gt;</th><th scope=col>&lt;int&gt;</th><th scope=col>&lt;int&gt;</th><th scope=col>⋯</th><th scope=col>&lt;fct&gt;</th><th scope=col>&lt;fct&gt;</th><th scope=col>&lt;fct&gt;</th><th scope=col>&lt;fct&gt;</th><th scope=col>&lt;fct&gt;</th><th scope=col>&lt;fct&gt;</th><th scope=col>&lt;fct&gt;</th><th scope=col>&lt;fct&gt;</th><th scope=col>&lt;dbl[,1]&gt;</th><th scope=col>&lt;dbl[,1]&gt;</th></tr>\n",
       "</thead>\n",
       "<tbody>\n",
       "\t<tr><th scope=row>200</th><td>104.3</td><td>188.8</td><td>67.2</td><td>57.5</td><td>3.62</td><td>3.15</td><td> 7.5</td><td>-1</td><td>74</td><td>3157</td><td>⋯</td><td>gas   </td><td>turbo</td><td>wagon</td><td>rwd</td><td>front</td><td>ohc </td><td>four</td><td>mpfi</td><td>0.3433792</td><td>0.7334284</td></tr>\n",
       "\t<tr><th scope=row>201</th><td>109.1</td><td>188.8</td><td>68.9</td><td>55.5</td><td>3.78</td><td>3.15</td><td> 9.5</td><td>-1</td><td>95</td><td>2952</td><td>⋯</td><td>gas   </td><td>std  </td><td>sedan</td><td>rwd</td><td>front</td><td>ohc </td><td>four</td><td>mpfi</td><td>0.2911226</td><td>0.4671784</td></tr>\n",
       "\t<tr><th scope=row>202</th><td>109.1</td><td>188.8</td><td>68.8</td><td>55.5</td><td>3.78</td><td>3.15</td><td> 8.7</td><td>-1</td><td>95</td><td>3049</td><td>⋯</td><td>gas   </td><td>turbo</td><td>sedan</td><td>rwd</td><td>front</td><td>ohc </td><td>four</td><td>mpfi</td><td>0.3457376</td><td>0.7454444</td></tr>\n",
       "\t<tr><th scope=row>203</th><td>109.1</td><td>188.8</td><td>68.9</td><td>55.5</td><td>3.58</td><td>2.87</td><td> 8.8</td><td>-1</td><td>95</td><td>3012</td><td>⋯</td><td>gas   </td><td>std  </td><td>sedan</td><td>rwd</td><td>front</td><td>ohcv</td><td>six </td><td>mpfi</td><td>0.4063105</td><td>1.0540668</td></tr>\n",
       "\t<tr><th scope=row>204</th><td>109.1</td><td>188.8</td><td>68.9</td><td>55.5</td><td>3.01</td><td>3.40</td><td>23.0</td><td>-1</td><td>95</td><td>3217</td><td>⋯</td><td>diesel</td><td>turbo</td><td>sedan</td><td>rwd</td><td>front</td><td>ohc </td><td>six </td><td>idi </td><td>0.4307631</td><td>1.1786541</td></tr>\n",
       "\t<tr><th scope=row>205</th><td>109.1</td><td>188.8</td><td>68.9</td><td>55.5</td><td>3.78</td><td>3.15</td><td> 9.5</td><td>-1</td><td>95</td><td>3062</td><td>⋯</td><td>gas   </td><td>turbo</td><td>sedan</td><td>rwd</td><td>front</td><td>ohc </td><td>four</td><td>mpfi</td><td>0.4346110</td><td>1.1982592</td></tr>\n",
       "</tbody>\n",
       "</table>\n"
      ],
      "text/latex": [
       "A data.frame: 6 × 28\n",
       "\\begin{tabular}{r|lllllllllllllllllllll}\n",
       "  & wheelBase & length & width & height & bore & stroke & compressionRatio & symb & normLoss & curbWeight & ⋯ & fuelType & aspiration & bodyStyle & driveWheels & engineLocation & engineType & nrCylinds & fuelSystem & price\\_range\\_normalized & price\\_zscore\\_normalized\\\\\n",
       "  & <dbl> & <dbl> & <dbl> & <dbl> & <dbl> & <dbl> & <dbl> & <int> & <int> & <int> & ⋯ & <fct> & <fct> & <fct> & <fct> & <fct> & <fct> & <fct> & <fct> & <dbl{[},1{]}> & <dbl{[},1{]}>\\\\\n",
       "\\hline\n",
       "\t200 & 104.3 & 188.8 & 67.2 & 57.5 & 3.62 & 3.15 &  7.5 & -1 & 74 & 3157 & ⋯ & gas    & turbo & wagon & rwd & front & ohc  & four & mpfi & 0.3433792 & 0.7334284\\\\\n",
       "\t201 & 109.1 & 188.8 & 68.9 & 55.5 & 3.78 & 3.15 &  9.5 & -1 & 95 & 2952 & ⋯ & gas    & std   & sedan & rwd & front & ohc  & four & mpfi & 0.2911226 & 0.4671784\\\\\n",
       "\t202 & 109.1 & 188.8 & 68.8 & 55.5 & 3.78 & 3.15 &  8.7 & -1 & 95 & 3049 & ⋯ & gas    & turbo & sedan & rwd & front & ohc  & four & mpfi & 0.3457376 & 0.7454444\\\\\n",
       "\t203 & 109.1 & 188.8 & 68.9 & 55.5 & 3.58 & 2.87 &  8.8 & -1 & 95 & 3012 & ⋯ & gas    & std   & sedan & rwd & front & ohcv & six  & mpfi & 0.4063105 & 1.0540668\\\\\n",
       "\t204 & 109.1 & 188.8 & 68.9 & 55.5 & 3.01 & 3.40 & 23.0 & -1 & 95 & 3217 & ⋯ & diesel & turbo & sedan & rwd & front & ohc  & six  & idi  & 0.4307631 & 1.1786541\\\\\n",
       "\t205 & 109.1 & 188.8 & 68.9 & 55.5 & 3.78 & 3.15 &  9.5 & -1 & 95 & 3062 & ⋯ & gas    & turbo & sedan & rwd & front & ohc  & four & mpfi & 0.4346110 & 1.1982592\\\\\n",
       "\\end{tabular}\n"
      ],
      "text/markdown": [
       "\n",
       "A data.frame: 6 × 28\n",
       "\n",
       "| <!--/--> | wheelBase &lt;dbl&gt; | length &lt;dbl&gt; | width &lt;dbl&gt; | height &lt;dbl&gt; | bore &lt;dbl&gt; | stroke &lt;dbl&gt; | compressionRatio &lt;dbl&gt; | symb &lt;int&gt; | normLoss &lt;int&gt; | curbWeight &lt;int&gt; | ⋯ ⋯ | fuelType &lt;fct&gt; | aspiration &lt;fct&gt; | bodyStyle &lt;fct&gt; | driveWheels &lt;fct&gt; | engineLocation &lt;fct&gt; | engineType &lt;fct&gt; | nrCylinds &lt;fct&gt; | fuelSystem &lt;fct&gt; | price_range_normalized &lt;dbl[,1]&gt; | price_zscore_normalized &lt;dbl[,1]&gt; |\n",
       "|---|---|---|---|---|---|---|---|---|---|---|---|---|---|---|---|---|---|---|---|---|---|\n",
       "| 200 | 104.3 | 188.8 | 67.2 | 57.5 | 3.62 | 3.15 |  7.5 | -1 | 74 | 3157 | ⋯ | gas    | turbo | wagon | rwd | front | ohc  | four | mpfi | 0.3433792 | 0.7334284 |\n",
       "| 201 | 109.1 | 188.8 | 68.9 | 55.5 | 3.78 | 3.15 |  9.5 | -1 | 95 | 2952 | ⋯ | gas    | std   | sedan | rwd | front | ohc  | four | mpfi | 0.2911226 | 0.4671784 |\n",
       "| 202 | 109.1 | 188.8 | 68.8 | 55.5 | 3.78 | 3.15 |  8.7 | -1 | 95 | 3049 | ⋯ | gas    | turbo | sedan | rwd | front | ohc  | four | mpfi | 0.3457376 | 0.7454444 |\n",
       "| 203 | 109.1 | 188.8 | 68.9 | 55.5 | 3.58 | 2.87 |  8.8 | -1 | 95 | 3012 | ⋯ | gas    | std   | sedan | rwd | front | ohcv | six  | mpfi | 0.4063105 | 1.0540668 |\n",
       "| 204 | 109.1 | 188.8 | 68.9 | 55.5 | 3.01 | 3.40 | 23.0 | -1 | 95 | 3217 | ⋯ | diesel | turbo | sedan | rwd | front | ohc  | six  | idi  | 0.4307631 | 1.1786541 |\n",
       "| 205 | 109.1 | 188.8 | 68.9 | 55.5 | 3.78 | 3.15 |  9.5 | -1 | 95 | 3062 | ⋯ | gas    | turbo | sedan | rwd | front | ohc  | four | mpfi | 0.4346110 | 1.1982592 |\n",
       "\n"
      ],
      "text/plain": [
       "    wheelBase length width height bore stroke compressionRatio symb normLoss\n",
       "200 104.3     188.8  67.2  57.5   3.62 3.15    7.5             -1   74      \n",
       "201 109.1     188.8  68.9  55.5   3.78 3.15    9.5             -1   95      \n",
       "202 109.1     188.8  68.8  55.5   3.78 3.15    8.7             -1   95      \n",
       "203 109.1     188.8  68.9  55.5   3.58 2.87    8.8             -1   95      \n",
       "204 109.1     188.8  68.9  55.5   3.01 3.40   23.0             -1   95      \n",
       "205 109.1     188.8  68.9  55.5   3.78 3.15    9.5             -1   95      \n",
       "    curbWeight ⋯ fuelType aspiration bodyStyle driveWheels engineLocation\n",
       "200 3157       ⋯ gas      turbo      wagon     rwd         front         \n",
       "201 2952       ⋯ gas      std        sedan     rwd         front         \n",
       "202 3049       ⋯ gas      turbo      sedan     rwd         front         \n",
       "203 3012       ⋯ gas      std        sedan     rwd         front         \n",
       "204 3217       ⋯ diesel   turbo      sedan     rwd         front         \n",
       "205 3062       ⋯ gas      turbo      sedan     rwd         front         \n",
       "    engineType nrCylinds fuelSystem price_range_normalized\n",
       "200 ohc        four      mpfi       0.3433792             \n",
       "201 ohc        four      mpfi       0.2911226             \n",
       "202 ohc        four      mpfi       0.3457376             \n",
       "203 ohcv       six       mpfi       0.4063105             \n",
       "204 ohc        six       idi        0.4307631             \n",
       "205 ohc        four      mpfi       0.4346110             \n",
       "    price_zscore_normalized\n",
       "200 0.7334284              \n",
       "201 0.4671784              \n",
       "202 0.7454444              \n",
       "203 1.0540668              \n",
       "204 1.1786541              \n",
       "205 1.1982592              "
      ]
     },
     "metadata": {},
     "output_type": "display_data"
    }
   ],
   "source": [
    "# Extract the \"price\" column\n",
    "price <- car_insurance$price\n",
    "\n",
    "# Range-based normalization\n",
    "car_insurance$price_range_normalized <- scale(price, center = min(price), scale = max(price) - min(price))\n",
    "\n",
    "# Z-score normalization\n",
    "car_insurance$price_zscore_normalized <- scale(price)\n",
    "diagnose(car_insurance, price, price_range_normalized, price_zscore_normalized)\n",
    "head(car_insurance)\n",
    "tail(car_insurance)"
   ]
  },
  {
   "cell_type": "markdown",
   "id": "b1679d2a",
   "metadata": {
    "papermill": {
     "duration": 0.017631,
     "end_time": "2023-06-09T23:36:01.535801",
     "exception": false,
     "start_time": "2023-06-09T23:36:01.518170",
     "status": "completed"
    },
    "tags": []
   },
   "source": [
    "(b) Discretize it into 4 equal-frequency ranges an into 4 equal-width ranges."
   ]
  },
  {
   "cell_type": "code",
   "execution_count": 14,
   "id": "423c700e",
   "metadata": {
    "execution": {
     "iopub.execute_input": "2023-06-09T23:36:01.574819Z",
     "iopub.status.busy": "2023-06-09T23:36:01.573116Z",
     "iopub.status.idle": "2023-06-09T23:36:01.628426Z",
     "shell.execute_reply": "2023-06-09T23:36:01.625897Z"
    },
    "papermill": {
     "duration": 0.078303,
     "end_time": "2023-06-09T23:36:01.631584",
     "exception": false,
     "start_time": "2023-06-09T23:36:01.553281",
     "status": "completed"
    },
    "tags": []
   },
   "outputs": [
    {
     "data": {
      "text/html": [
       "<table class=\"dataframe\">\n",
       "<caption>A data.frame: 6 × 30</caption>\n",
       "<thead>\n",
       "\t<tr><th></th><th scope=col>wheelBase</th><th scope=col>length</th><th scope=col>width</th><th scope=col>height</th><th scope=col>bore</th><th scope=col>stroke</th><th scope=col>compressionRatio</th><th scope=col>symb</th><th scope=col>normLoss</th><th scope=col>curbWeight</th><th scope=col>⋯</th><th scope=col>bodyStyle</th><th scope=col>driveWheels</th><th scope=col>engineLocation</th><th scope=col>engineType</th><th scope=col>nrCylinds</th><th scope=col>fuelSystem</th><th scope=col>price_range_normalized</th><th scope=col>price_zscore_normalized</th><th scope=col>price_equal_frequency</th><th scope=col>price_equal_width</th></tr>\n",
       "\t<tr><th></th><th scope=col>&lt;dbl&gt;</th><th scope=col>&lt;dbl&gt;</th><th scope=col>&lt;dbl&gt;</th><th scope=col>&lt;dbl&gt;</th><th scope=col>&lt;dbl&gt;</th><th scope=col>&lt;dbl&gt;</th><th scope=col>&lt;dbl&gt;</th><th scope=col>&lt;int&gt;</th><th scope=col>&lt;int&gt;</th><th scope=col>&lt;int&gt;</th><th scope=col>⋯</th><th scope=col>&lt;fct&gt;</th><th scope=col>&lt;fct&gt;</th><th scope=col>&lt;fct&gt;</th><th scope=col>&lt;fct&gt;</th><th scope=col>&lt;fct&gt;</th><th scope=col>&lt;fct&gt;</th><th scope=col>&lt;dbl[,1]&gt;</th><th scope=col>&lt;dbl[,1]&gt;</th><th scope=col>&lt;bins&gt;</th><th scope=col>&lt;bins&gt;</th></tr>\n",
       "</thead>\n",
       "<tbody>\n",
       "\t<tr><th scope=row>1</th><td>88.6</td><td>168.8</td><td>64.1</td><td>48.8</td><td>3.47</td><td>2.68</td><td> 9.0</td><td>3</td><td>161</td><td>2548</td><td>⋯</td><td>convertible</td><td>rwd</td><td>front</td><td>dohc</td><td>four</td><td>mpfi</td><td>0.2079589</td><td>0.04345516</td><td>(10245,16501]</td><td>(10245,16501]</td></tr>\n",
       "\t<tr><th scope=row>2</th><td>88.6</td><td>168.8</td><td>64.1</td><td>48.8</td><td>3.47</td><td>2.68</td><td> 9.0</td><td>3</td><td>161</td><td>2548</td><td>⋯</td><td>convertible</td><td>rwd</td><td>front</td><td>dohc</td><td>four</td><td>mpfi</td><td>0.2825580</td><td>0.42354125</td><td>(10245,16501]</td><td>(10245,16501]</td></tr>\n",
       "\t<tr><th scope=row>3</th><td>94.5</td><td>171.2</td><td>65.5</td><td>52.4</td><td>2.68</td><td>3.47</td><td> 9.0</td><td>1</td><td>161</td><td>2823</td><td>⋯</td><td>hatchback  </td><td>rwd</td><td>front</td><td>ohcv</td><td>six </td><td>mpfi</td><td>0.2825580</td><td>0.42354125</td><td>(10245,16501]</td><td>(10245,16501]</td></tr>\n",
       "\t<tr><th scope=row>4</th><td>99.8</td><td>176.6</td><td>66.2</td><td>54.3</td><td>3.19</td><td>3.40</td><td>10.0</td><td>2</td><td>164</td><td>2337</td><td>⋯</td><td>sedan      </td><td>fwd</td><td>front</td><td>ohc </td><td>four</td><td>mpfi</td><td>0.2192543</td><td>0.10100563</td><td>(10245,16501]</td><td>(10245,16501]</td></tr>\n",
       "\t<tr><th scope=row>5</th><td>99.4</td><td>176.6</td><td>66.4</td><td>54.3</td><td>3.19</td><td>3.40</td><td> 8.0</td><td>2</td><td>164</td><td>2824</td><td>⋯</td><td>sedan      </td><td>4wd</td><td>front</td><td>ohc </td><td>five</td><td>mpfi</td><td>0.3061417</td><td>0.54370158</td><td>(16501,45400]</td><td>(16501,45400]</td></tr>\n",
       "\t<tr><th scope=row>6</th><td>99.8</td><td>177.3</td><td>66.3</td><td>53.1</td><td>3.19</td><td>3.40</td><td> 8.5</td><td>2</td><td>161</td><td>2507</td><td>⋯</td><td>sedan      </td><td>fwd</td><td>front</td><td>ohc </td><td>five</td><td>mpfi</td><td>0.2515267</td><td>0.26543556</td><td>(10245,16501]</td><td>(10245,16501]</td></tr>\n",
       "</tbody>\n",
       "</table>\n"
      ],
      "text/latex": [
       "A data.frame: 6 × 30\n",
       "\\begin{tabular}{r|lllllllllllllllllllll}\n",
       "  & wheelBase & length & width & height & bore & stroke & compressionRatio & symb & normLoss & curbWeight & ⋯ & bodyStyle & driveWheels & engineLocation & engineType & nrCylinds & fuelSystem & price\\_range\\_normalized & price\\_zscore\\_normalized & price\\_equal\\_frequency & price\\_equal\\_width\\\\\n",
       "  & <dbl> & <dbl> & <dbl> & <dbl> & <dbl> & <dbl> & <dbl> & <int> & <int> & <int> & ⋯ & <fct> & <fct> & <fct> & <fct> & <fct> & <fct> & <dbl{[},1{]}> & <dbl{[},1{]}> & <bins> & <bins>\\\\\n",
       "\\hline\n",
       "\t1 & 88.6 & 168.8 & 64.1 & 48.8 & 3.47 & 2.68 &  9.0 & 3 & 161 & 2548 & ⋯ & convertible & rwd & front & dohc & four & mpfi & 0.2079589 & 0.04345516 & (10245,16501{]} & (10245,16501{]}\\\\\n",
       "\t2 & 88.6 & 168.8 & 64.1 & 48.8 & 3.47 & 2.68 &  9.0 & 3 & 161 & 2548 & ⋯ & convertible & rwd & front & dohc & four & mpfi & 0.2825580 & 0.42354125 & (10245,16501{]} & (10245,16501{]}\\\\\n",
       "\t3 & 94.5 & 171.2 & 65.5 & 52.4 & 2.68 & 3.47 &  9.0 & 1 & 161 & 2823 & ⋯ & hatchback   & rwd & front & ohcv & six  & mpfi & 0.2825580 & 0.42354125 & (10245,16501{]} & (10245,16501{]}\\\\\n",
       "\t4 & 99.8 & 176.6 & 66.2 & 54.3 & 3.19 & 3.40 & 10.0 & 2 & 164 & 2337 & ⋯ & sedan       & fwd & front & ohc  & four & mpfi & 0.2192543 & 0.10100563 & (10245,16501{]} & (10245,16501{]}\\\\\n",
       "\t5 & 99.4 & 176.6 & 66.4 & 54.3 & 3.19 & 3.40 &  8.0 & 2 & 164 & 2824 & ⋯ & sedan       & 4wd & front & ohc  & five & mpfi & 0.3061417 & 0.54370158 & (16501,45400{]} & (16501,45400{]}\\\\\n",
       "\t6 & 99.8 & 177.3 & 66.3 & 53.1 & 3.19 & 3.40 &  8.5 & 2 & 161 & 2507 & ⋯ & sedan       & fwd & front & ohc  & five & mpfi & 0.2515267 & 0.26543556 & (10245,16501{]} & (10245,16501{]}\\\\\n",
       "\\end{tabular}\n"
      ],
      "text/markdown": [
       "\n",
       "A data.frame: 6 × 30\n",
       "\n",
       "| <!--/--> | wheelBase &lt;dbl&gt; | length &lt;dbl&gt; | width &lt;dbl&gt; | height &lt;dbl&gt; | bore &lt;dbl&gt; | stroke &lt;dbl&gt; | compressionRatio &lt;dbl&gt; | symb &lt;int&gt; | normLoss &lt;int&gt; | curbWeight &lt;int&gt; | ⋯ ⋯ | bodyStyle &lt;fct&gt; | driveWheels &lt;fct&gt; | engineLocation &lt;fct&gt; | engineType &lt;fct&gt; | nrCylinds &lt;fct&gt; | fuelSystem &lt;fct&gt; | price_range_normalized &lt;dbl[,1]&gt; | price_zscore_normalized &lt;dbl[,1]&gt; | price_equal_frequency &lt;bins&gt; | price_equal_width &lt;bins&gt; |\n",
       "|---|---|---|---|---|---|---|---|---|---|---|---|---|---|---|---|---|---|---|---|---|---|\n",
       "| 1 | 88.6 | 168.8 | 64.1 | 48.8 | 3.47 | 2.68 |  9.0 | 3 | 161 | 2548 | ⋯ | convertible | rwd | front | dohc | four | mpfi | 0.2079589 | 0.04345516 | (10245,16501] | (10245,16501] |\n",
       "| 2 | 88.6 | 168.8 | 64.1 | 48.8 | 3.47 | 2.68 |  9.0 | 3 | 161 | 2548 | ⋯ | convertible | rwd | front | dohc | four | mpfi | 0.2825580 | 0.42354125 | (10245,16501] | (10245,16501] |\n",
       "| 3 | 94.5 | 171.2 | 65.5 | 52.4 | 2.68 | 3.47 |  9.0 | 1 | 161 | 2823 | ⋯ | hatchback   | rwd | front | ohcv | six  | mpfi | 0.2825580 | 0.42354125 | (10245,16501] | (10245,16501] |\n",
       "| 4 | 99.8 | 176.6 | 66.2 | 54.3 | 3.19 | 3.40 | 10.0 | 2 | 164 | 2337 | ⋯ | sedan       | fwd | front | ohc  | four | mpfi | 0.2192543 | 0.10100563 | (10245,16501] | (10245,16501] |\n",
       "| 5 | 99.4 | 176.6 | 66.4 | 54.3 | 3.19 | 3.40 |  8.0 | 2 | 164 | 2824 | ⋯ | sedan       | 4wd | front | ohc  | five | mpfi | 0.3061417 | 0.54370158 | (16501,45400] | (16501,45400] |\n",
       "| 6 | 99.8 | 177.3 | 66.3 | 53.1 | 3.19 | 3.40 |  8.5 | 2 | 161 | 2507 | ⋯ | sedan       | fwd | front | ohc  | five | mpfi | 0.2515267 | 0.26543556 | (10245,16501] | (10245,16501] |\n",
       "\n"
      ],
      "text/plain": [
       "  wheelBase length width height bore stroke compressionRatio symb normLoss\n",
       "1 88.6      168.8  64.1  48.8   3.47 2.68    9.0             3    161     \n",
       "2 88.6      168.8  64.1  48.8   3.47 2.68    9.0             3    161     \n",
       "3 94.5      171.2  65.5  52.4   2.68 3.47    9.0             1    161     \n",
       "4 99.8      176.6  66.2  54.3   3.19 3.40   10.0             2    164     \n",
       "5 99.4      176.6  66.4  54.3   3.19 3.40    8.0             2    164     \n",
       "6 99.8      177.3  66.3  53.1   3.19 3.40    8.5             2    161     \n",
       "  curbWeight ⋯ bodyStyle   driveWheels engineLocation engineType nrCylinds\n",
       "1 2548       ⋯ convertible rwd         front          dohc       four     \n",
       "2 2548       ⋯ convertible rwd         front          dohc       four     \n",
       "3 2823       ⋯ hatchback   rwd         front          ohcv       six      \n",
       "4 2337       ⋯ sedan       fwd         front          ohc        four     \n",
       "5 2824       ⋯ sedan       4wd         front          ohc        five     \n",
       "6 2507       ⋯ sedan       fwd         front          ohc        five     \n",
       "  fuelSystem price_range_normalized price_zscore_normalized\n",
       "1 mpfi       0.2079589              0.04345516             \n",
       "2 mpfi       0.2825580              0.42354125             \n",
       "3 mpfi       0.2825580              0.42354125             \n",
       "4 mpfi       0.2192543              0.10100563             \n",
       "5 mpfi       0.3061417              0.54370158             \n",
       "6 mpfi       0.2515267              0.26543556             \n",
       "  price_equal_frequency price_equal_width\n",
       "1 (10245,16501]         (10245,16501]    \n",
       "2 (10245,16501]         (10245,16501]    \n",
       "3 (10245,16501]         (10245,16501]    \n",
       "4 (10245,16501]         (10245,16501]    \n",
       "5 (16501,45400]         (16501,45400]    \n",
       "6 (10245,16501]         (10245,16501]    "
      ]
     },
     "metadata": {},
     "output_type": "display_data"
    }
   ],
   "source": [
    "# Discretize into 4 equal-frequency ranges\n",
    "car_insurance$price_equal_frequency <- binning(car_insurance$price, n = 4)\n",
    "\n",
    "# Discretize into 4 equal-width ranges\n",
    "car_insurance$price_equal_width <- binning(car_insurance$price, n = 4)\n",
    "\n",
    "# View the discretized data set\n",
    "head(car_insurance)"
   ]
  },
  {
   "cell_type": "markdown",
   "id": "7c4e3a05",
   "metadata": {
    "papermill": {
     "duration": 0.017818,
     "end_time": "2023-06-09T23:36:01.667523",
     "exception": false,
     "start_time": "2023-06-09T23:36:01.649705",
     "status": "completed"
    },
    "tags": []
   },
   "source": [
    "### 3. With the seed 111019 obtain the following samples on the car insurance data set. \n",
    "Tip: use the function sample_frac().\n"
   ]
  },
  {
   "cell_type": "code",
   "execution_count": 15,
   "id": "65980b31",
   "metadata": {
    "execution": {
     "iopub.execute_input": "2023-06-09T23:36:01.707785Z",
     "iopub.status.busy": "2023-06-09T23:36:01.705914Z",
     "iopub.status.idle": "2023-06-09T23:36:01.806432Z",
     "shell.execute_reply": "2023-06-09T23:36:01.803790Z"
    },
    "papermill": {
     "duration": 0.124019,
     "end_time": "2023-06-09T23:36:01.809514",
     "exception": false,
     "start_time": "2023-06-09T23:36:01.685495",
     "status": "completed"
    },
    "tags": []
   },
   "outputs": [
    {
     "data": {
      "text/html": [
       "<table class=\"dataframe\">\n",
       "<caption>A data.frame: 6 × 30</caption>\n",
       "<thead>\n",
       "\t<tr><th></th><th scope=col>wheelBase</th><th scope=col>length</th><th scope=col>width</th><th scope=col>height</th><th scope=col>bore</th><th scope=col>stroke</th><th scope=col>compressionRatio</th><th scope=col>symb</th><th scope=col>normLoss</th><th scope=col>curbWeight</th><th scope=col>⋯</th><th scope=col>bodyStyle</th><th scope=col>driveWheels</th><th scope=col>engineLocation</th><th scope=col>engineType</th><th scope=col>nrCylinds</th><th scope=col>fuelSystem</th><th scope=col>price_range_normalized</th><th scope=col>price_zscore_normalized</th><th scope=col>price_equal_frequency</th><th scope=col>price_equal_width</th></tr>\n",
       "\t<tr><th></th><th scope=col>&lt;dbl&gt;</th><th scope=col>&lt;dbl&gt;</th><th scope=col>&lt;dbl&gt;</th><th scope=col>&lt;dbl&gt;</th><th scope=col>&lt;dbl&gt;</th><th scope=col>&lt;dbl&gt;</th><th scope=col>&lt;dbl&gt;</th><th scope=col>&lt;int&gt;</th><th scope=col>&lt;int&gt;</th><th scope=col>&lt;int&gt;</th><th scope=col>⋯</th><th scope=col>&lt;fct&gt;</th><th scope=col>&lt;fct&gt;</th><th scope=col>&lt;fct&gt;</th><th scope=col>&lt;fct&gt;</th><th scope=col>&lt;fct&gt;</th><th scope=col>&lt;fct&gt;</th><th scope=col>&lt;dbl[,1]&gt;</th><th scope=col>&lt;dbl[,1]&gt;</th><th scope=col>&lt;bins&gt;</th><th scope=col>&lt;bins&gt;</th></tr>\n",
       "</thead>\n",
       "<tbody>\n",
       "\t<tr><th scope=row>1</th><td>107.9</td><td>186.7</td><td>68.4</td><td>56.7</td><td>3.46</td><td>3.19</td><td> 8.4</td><td>0</td><td>161</td><td>3020</td><td>⋯</td><td>sedan    </td><td>rwd</td><td>front</td><td>l  </td><td>four</td><td>mpfi</td><td>0.168363041</td><td>-0.1582877</td><td>(10245,16501]</td><td>(10245,16501]</td></tr>\n",
       "\t<tr><th scope=row>2</th><td> 98.4</td><td>176.2</td><td>65.6</td><td>52.0</td><td>3.62</td><td>3.50</td><td> 9.3</td><td>2</td><td>134</td><td>2536</td><td>⋯</td><td>hardtop  </td><td>rwd</td><td>front</td><td>ohc</td><td>four</td><td>mpfi</td><td>0.112233752</td><td>-0.4442693</td><td>(7775,10245] </td><td>(7775,10245] </td></tr>\n",
       "\t<tr><th scope=row>3</th><td> 96.5</td><td>163.4</td><td>64.0</td><td>54.5</td><td>2.91</td><td>3.41</td><td> 9.2</td><td>0</td><td>110</td><td>2010</td><td>⋯</td><td>sedan    </td><td>fwd</td><td>front</td><td>ohc</td><td>four</td><td>1bbl</td><td>0.054043990</td><td>-0.7407491</td><td>[5118,7775]  </td><td>[5118,7775]  </td></tr>\n",
       "\t<tr><th scope=row>4</th><td> 97.3</td><td>171.7</td><td>65.5</td><td>55.7</td><td>3.01</td><td>3.40</td><td>23.0</td><td>2</td><td> 94</td><td>2264</td><td>⋯</td><td>sedan    </td><td>fwd</td><td>front</td><td>ohc</td><td>four</td><td>idi </td><td>0.071421479</td><td>-0.6522099</td><td>(7775,10245] </td><td>(7775,10245] </td></tr>\n",
       "\t<tr><th scope=row>5</th><td> 95.7</td><td>166.3</td><td>64.4</td><td>53.0</td><td>3.27</td><td>3.35</td><td>22.5</td><td>0</td><td> 91</td><td>2275</td><td>⋯</td><td>sedan    </td><td>fwd</td><td>front</td><td>ohc</td><td>four</td><td>idi </td><td>0.069013455</td><td>-0.6644789</td><td>(7775,10245] </td><td>(7775,10245] </td></tr>\n",
       "\t<tr><th scope=row>6</th><td> 93.7</td><td>157.3</td><td>64.4</td><td>50.8</td><td>2.97</td><td>3.23</td><td> 9.4</td><td>2</td><td>161</td><td>1918</td><td>⋯</td><td>hatchback</td><td>fwd</td><td>front</td><td>ohc</td><td>four</td><td>2bbl</td><td>0.006727571</td><td>-0.9818287</td><td>[5118,7775]  </td><td>[5118,7775]  </td></tr>\n",
       "</tbody>\n",
       "</table>\n"
      ],
      "text/latex": [
       "A data.frame: 6 × 30\n",
       "\\begin{tabular}{r|lllllllllllllllllllll}\n",
       "  & wheelBase & length & width & height & bore & stroke & compressionRatio & symb & normLoss & curbWeight & ⋯ & bodyStyle & driveWheels & engineLocation & engineType & nrCylinds & fuelSystem & price\\_range\\_normalized & price\\_zscore\\_normalized & price\\_equal\\_frequency & price\\_equal\\_width\\\\\n",
       "  & <dbl> & <dbl> & <dbl> & <dbl> & <dbl> & <dbl> & <dbl> & <int> & <int> & <int> & ⋯ & <fct> & <fct> & <fct> & <fct> & <fct> & <fct> & <dbl{[},1{]}> & <dbl{[},1{]}> & <bins> & <bins>\\\\\n",
       "\\hline\n",
       "\t1 & 107.9 & 186.7 & 68.4 & 56.7 & 3.46 & 3.19 &  8.4 & 0 & 161 & 3020 & ⋯ & sedan     & rwd & front & l   & four & mpfi & 0.168363041 & -0.1582877 & (10245,16501{]} & (10245,16501{]}\\\\\n",
       "\t2 &  98.4 & 176.2 & 65.6 & 52.0 & 3.62 & 3.50 &  9.3 & 2 & 134 & 2536 & ⋯ & hardtop   & rwd & front & ohc & four & mpfi & 0.112233752 & -0.4442693 & (7775,10245{]}  & (7775,10245{]} \\\\\n",
       "\t3 &  96.5 & 163.4 & 64.0 & 54.5 & 2.91 & 3.41 &  9.2 & 0 & 110 & 2010 & ⋯ & sedan     & fwd & front & ohc & four & 1bbl & 0.054043990 & -0.7407491 & {[}5118,7775{]}   & {[}5118,7775{]}  \\\\\n",
       "\t4 &  97.3 & 171.7 & 65.5 & 55.7 & 3.01 & 3.40 & 23.0 & 2 &  94 & 2264 & ⋯ & sedan     & fwd & front & ohc & four & idi  & 0.071421479 & -0.6522099 & (7775,10245{]}  & (7775,10245{]} \\\\\n",
       "\t5 &  95.7 & 166.3 & 64.4 & 53.0 & 3.27 & 3.35 & 22.5 & 0 &  91 & 2275 & ⋯ & sedan     & fwd & front & ohc & four & idi  & 0.069013455 & -0.6644789 & (7775,10245{]}  & (7775,10245{]} \\\\\n",
       "\t6 &  93.7 & 157.3 & 64.4 & 50.8 & 2.97 & 3.23 &  9.4 & 2 & 161 & 1918 & ⋯ & hatchback & fwd & front & ohc & four & 2bbl & 0.006727571 & -0.9818287 & {[}5118,7775{]}   & {[}5118,7775{]}  \\\\\n",
       "\\end{tabular}\n"
      ],
      "text/markdown": [
       "\n",
       "A data.frame: 6 × 30\n",
       "\n",
       "| <!--/--> | wheelBase &lt;dbl&gt; | length &lt;dbl&gt; | width &lt;dbl&gt; | height &lt;dbl&gt; | bore &lt;dbl&gt; | stroke &lt;dbl&gt; | compressionRatio &lt;dbl&gt; | symb &lt;int&gt; | normLoss &lt;int&gt; | curbWeight &lt;int&gt; | ⋯ ⋯ | bodyStyle &lt;fct&gt; | driveWheels &lt;fct&gt; | engineLocation &lt;fct&gt; | engineType &lt;fct&gt; | nrCylinds &lt;fct&gt; | fuelSystem &lt;fct&gt; | price_range_normalized &lt;dbl[,1]&gt; | price_zscore_normalized &lt;dbl[,1]&gt; | price_equal_frequency &lt;bins&gt; | price_equal_width &lt;bins&gt; |\n",
       "|---|---|---|---|---|---|---|---|---|---|---|---|---|---|---|---|---|---|---|---|---|---|\n",
       "| 1 | 107.9 | 186.7 | 68.4 | 56.7 | 3.46 | 3.19 |  8.4 | 0 | 161 | 3020 | ⋯ | sedan     | rwd | front | l   | four | mpfi | 0.168363041 | -0.1582877 | (10245,16501] | (10245,16501] |\n",
       "| 2 |  98.4 | 176.2 | 65.6 | 52.0 | 3.62 | 3.50 |  9.3 | 2 | 134 | 2536 | ⋯ | hardtop   | rwd | front | ohc | four | mpfi | 0.112233752 | -0.4442693 | (7775,10245]  | (7775,10245]  |\n",
       "| 3 |  96.5 | 163.4 | 64.0 | 54.5 | 2.91 | 3.41 |  9.2 | 0 | 110 | 2010 | ⋯ | sedan     | fwd | front | ohc | four | 1bbl | 0.054043990 | -0.7407491 | [5118,7775]   | [5118,7775]   |\n",
       "| 4 |  97.3 | 171.7 | 65.5 | 55.7 | 3.01 | 3.40 | 23.0 | 2 |  94 | 2264 | ⋯ | sedan     | fwd | front | ohc | four | idi  | 0.071421479 | -0.6522099 | (7775,10245]  | (7775,10245]  |\n",
       "| 5 |  95.7 | 166.3 | 64.4 | 53.0 | 3.27 | 3.35 | 22.5 | 0 |  91 | 2275 | ⋯ | sedan     | fwd | front | ohc | four | idi  | 0.069013455 | -0.6644789 | (7775,10245]  | (7775,10245]  |\n",
       "| 6 |  93.7 | 157.3 | 64.4 | 50.8 | 2.97 | 3.23 |  9.4 | 2 | 161 | 1918 | ⋯ | hatchback | fwd | front | ohc | four | 2bbl | 0.006727571 | -0.9818287 | [5118,7775]   | [5118,7775]   |\n",
       "\n"
      ],
      "text/plain": [
       "  wheelBase length width height bore stroke compressionRatio symb normLoss\n",
       "1 107.9     186.7  68.4  56.7   3.46 3.19    8.4             0    161     \n",
       "2  98.4     176.2  65.6  52.0   3.62 3.50    9.3             2    134     \n",
       "3  96.5     163.4  64.0  54.5   2.91 3.41    9.2             0    110     \n",
       "4  97.3     171.7  65.5  55.7   3.01 3.40   23.0             2     94     \n",
       "5  95.7     166.3  64.4  53.0   3.27 3.35   22.5             0     91     \n",
       "6  93.7     157.3  64.4  50.8   2.97 3.23    9.4             2    161     \n",
       "  curbWeight ⋯ bodyStyle driveWheels engineLocation engineType nrCylinds\n",
       "1 3020       ⋯ sedan     rwd         front          l          four     \n",
       "2 2536       ⋯ hardtop   rwd         front          ohc        four     \n",
       "3 2010       ⋯ sedan     fwd         front          ohc        four     \n",
       "4 2264       ⋯ sedan     fwd         front          ohc        four     \n",
       "5 2275       ⋯ sedan     fwd         front          ohc        four     \n",
       "6 1918       ⋯ hatchback fwd         front          ohc        four     \n",
       "  fuelSystem price_range_normalized price_zscore_normalized\n",
       "1 mpfi       0.168363041            -0.1582877             \n",
       "2 mpfi       0.112233752            -0.4442693             \n",
       "3 1bbl       0.054043990            -0.7407491             \n",
       "4 idi        0.071421479            -0.6522099             \n",
       "5 idi        0.069013455            -0.6644789             \n",
       "6 2bbl       0.006727571            -0.9818287             \n",
       "  price_equal_frequency price_equal_width\n",
       "1 (10245,16501]         (10245,16501]    \n",
       "2 (7775,10245]          (7775,10245]     \n",
       "3 [5118,7775]           [5118,7775]      \n",
       "4 (7775,10245]          (7775,10245]     \n",
       "5 (7775,10245]          (7775,10245]     \n",
       "6 [5118,7775]           [5118,7775]      "
      ]
     },
     "metadata": {},
     "output_type": "display_data"
    },
    {
     "data": {
      "text/html": [
       "<table class=\"dataframe\">\n",
       "<caption>A data.frame: 6 × 30</caption>\n",
       "<thead>\n",
       "\t<tr><th></th><th scope=col>wheelBase</th><th scope=col>length</th><th scope=col>width</th><th scope=col>height</th><th scope=col>bore</th><th scope=col>stroke</th><th scope=col>compressionRatio</th><th scope=col>symb</th><th scope=col>normLoss</th><th scope=col>curbWeight</th><th scope=col>⋯</th><th scope=col>bodyStyle</th><th scope=col>driveWheels</th><th scope=col>engineLocation</th><th scope=col>engineType</th><th scope=col>nrCylinds</th><th scope=col>fuelSystem</th><th scope=col>price_range_normalized</th><th scope=col>price_zscore_normalized</th><th scope=col>price_equal_frequency</th><th scope=col>price_equal_width</th></tr>\n",
       "\t<tr><th></th><th scope=col>&lt;dbl&gt;</th><th scope=col>&lt;dbl&gt;</th><th scope=col>&lt;dbl&gt;</th><th scope=col>&lt;dbl&gt;</th><th scope=col>&lt;dbl&gt;</th><th scope=col>&lt;dbl&gt;</th><th scope=col>&lt;dbl&gt;</th><th scope=col>&lt;int&gt;</th><th scope=col>&lt;int&gt;</th><th scope=col>&lt;int&gt;</th><th scope=col>⋯</th><th scope=col>&lt;fct&gt;</th><th scope=col>&lt;fct&gt;</th><th scope=col>&lt;fct&gt;</th><th scope=col>&lt;fct&gt;</th><th scope=col>&lt;fct&gt;</th><th scope=col>&lt;fct&gt;</th><th scope=col>&lt;dbl[,1]&gt;</th><th scope=col>&lt;dbl[,1]&gt;</th><th scope=col>&lt;bins&gt;</th><th scope=col>&lt;bins&gt;</th></tr>\n",
       "</thead>\n",
       "<tbody>\n",
       "\t<tr><th scope=row>1</th><td> 95.3</td><td>169.0</td><td>65.7</td><td>49.6</td><td>3.329751</td><td>3.255423</td><td>9.4</td><td> 3</td><td>150</td><td>2500</td><td>⋯</td><td>hatchback</td><td>rwd</td><td>front</td><td>rotor</td><td>two  </td><td>mpfi</td><td>0.26133261</td><td> 0.3153970</td><td>(10245,16501]</td><td>(10245,16501]</td></tr>\n",
       "\t<tr><th scope=row>2</th><td> 93.7</td><td>157.3</td><td>63.8</td><td>50.6</td><td>2.970000</td><td>3.230000</td><td>9.4</td><td> 1</td><td>148</td><td>1967</td><td>⋯</td><td>hatchback</td><td>fwd</td><td>front</td><td>ohc  </td><td>four </td><td>2bbl</td><td>0.02758056</td><td>-0.8755816</td><td>[5118,7775]  </td><td>[5118,7775]  </td></tr>\n",
       "\t<tr><th scope=row>3</th><td>115.6</td><td>202.6</td><td>71.7</td><td>56.5</td><td>3.460000</td><td>3.100000</td><td>8.3</td><td>-1</td><td>161</td><td>3740</td><td>⋯</td><td>sedan    </td><td>rwd</td><td>front</td><td>ohcv </td><td>eight</td><td>mpfi</td><td>0.72156298</td><td> 2.6602942</td><td>(16501,45400]</td><td>(16501,45400]</td></tr>\n",
       "\t<tr><th scope=row>4</th><td>100.4</td><td>184.6</td><td>66.5</td><td>56.1</td><td>3.430000</td><td>3.270000</td><td>9.0</td><td> 0</td><td>108</td><td>3296</td><td>⋯</td><td>wagon    </td><td>fwd</td><td>front</td><td>ohcv </td><td>six  </td><td>mpfi</td><td>0.23040068</td><td> 0.1577972</td><td>(10245,16501]</td><td>(10245,16501]</td></tr>\n",
       "\t<tr><th scope=row>5</th><td> 95.3</td><td>169.0</td><td>65.7</td><td>49.6</td><td>3.329751</td><td>3.255423</td><td>9.4</td><td> 3</td><td>150</td><td>2380</td><td>⋯</td><td>hatchback</td><td>rwd</td><td>front</td><td>rotor</td><td>two  </td><td>4bbl</td><td>0.14465518</td><td>-0.2790805</td><td>(10245,16501]</td><td>(10245,16501]</td></tr>\n",
       "\t<tr><th scope=row>6</th><td> 93.7</td><td>157.3</td><td>63.8</td><td>50.8</td><td>3.030000</td><td>3.390000</td><td>7.6</td><td> 1</td><td>118</td><td>2128</td><td>⋯</td><td>hatchback</td><td>fwd</td><td>front</td><td>ohc  </td><td>four </td><td>mpfi</td><td>0.07047813</td><td>-0.6570163</td><td>(7775,10245] </td><td>(7775,10245] </td></tr>\n",
       "</tbody>\n",
       "</table>\n"
      ],
      "text/latex": [
       "A data.frame: 6 × 30\n",
       "\\begin{tabular}{r|lllllllllllllllllllll}\n",
       "  & wheelBase & length & width & height & bore & stroke & compressionRatio & symb & normLoss & curbWeight & ⋯ & bodyStyle & driveWheels & engineLocation & engineType & nrCylinds & fuelSystem & price\\_range\\_normalized & price\\_zscore\\_normalized & price\\_equal\\_frequency & price\\_equal\\_width\\\\\n",
       "  & <dbl> & <dbl> & <dbl> & <dbl> & <dbl> & <dbl> & <dbl> & <int> & <int> & <int> & ⋯ & <fct> & <fct> & <fct> & <fct> & <fct> & <fct> & <dbl{[},1{]}> & <dbl{[},1{]}> & <bins> & <bins>\\\\\n",
       "\\hline\n",
       "\t1 &  95.3 & 169.0 & 65.7 & 49.6 & 3.329751 & 3.255423 & 9.4 &  3 & 150 & 2500 & ⋯ & hatchback & rwd & front & rotor & two   & mpfi & 0.26133261 &  0.3153970 & (10245,16501{]} & (10245,16501{]}\\\\\n",
       "\t2 &  93.7 & 157.3 & 63.8 & 50.6 & 2.970000 & 3.230000 & 9.4 &  1 & 148 & 1967 & ⋯ & hatchback & fwd & front & ohc   & four  & 2bbl & 0.02758056 & -0.8755816 & {[}5118,7775{]}   & {[}5118,7775{]}  \\\\\n",
       "\t3 & 115.6 & 202.6 & 71.7 & 56.5 & 3.460000 & 3.100000 & 8.3 & -1 & 161 & 3740 & ⋯ & sedan     & rwd & front & ohcv  & eight & mpfi & 0.72156298 &  2.6602942 & (16501,45400{]} & (16501,45400{]}\\\\\n",
       "\t4 & 100.4 & 184.6 & 66.5 & 56.1 & 3.430000 & 3.270000 & 9.0 &  0 & 108 & 3296 & ⋯ & wagon     & fwd & front & ohcv  & six   & mpfi & 0.23040068 &  0.1577972 & (10245,16501{]} & (10245,16501{]}\\\\\n",
       "\t5 &  95.3 & 169.0 & 65.7 & 49.6 & 3.329751 & 3.255423 & 9.4 &  3 & 150 & 2380 & ⋯ & hatchback & rwd & front & rotor & two   & 4bbl & 0.14465518 & -0.2790805 & (10245,16501{]} & (10245,16501{]}\\\\\n",
       "\t6 &  93.7 & 157.3 & 63.8 & 50.8 & 3.030000 & 3.390000 & 7.6 &  1 & 118 & 2128 & ⋯ & hatchback & fwd & front & ohc   & four  & mpfi & 0.07047813 & -0.6570163 & (7775,10245{]}  & (7775,10245{]} \\\\\n",
       "\\end{tabular}\n"
      ],
      "text/markdown": [
       "\n",
       "A data.frame: 6 × 30\n",
       "\n",
       "| <!--/--> | wheelBase &lt;dbl&gt; | length &lt;dbl&gt; | width &lt;dbl&gt; | height &lt;dbl&gt; | bore &lt;dbl&gt; | stroke &lt;dbl&gt; | compressionRatio &lt;dbl&gt; | symb &lt;int&gt; | normLoss &lt;int&gt; | curbWeight &lt;int&gt; | ⋯ ⋯ | bodyStyle &lt;fct&gt; | driveWheels &lt;fct&gt; | engineLocation &lt;fct&gt; | engineType &lt;fct&gt; | nrCylinds &lt;fct&gt; | fuelSystem &lt;fct&gt; | price_range_normalized &lt;dbl[,1]&gt; | price_zscore_normalized &lt;dbl[,1]&gt; | price_equal_frequency &lt;bins&gt; | price_equal_width &lt;bins&gt; |\n",
       "|---|---|---|---|---|---|---|---|---|---|---|---|---|---|---|---|---|---|---|---|---|---|\n",
       "| 1 |  95.3 | 169.0 | 65.7 | 49.6 | 3.329751 | 3.255423 | 9.4 |  3 | 150 | 2500 | ⋯ | hatchback | rwd | front | rotor | two   | mpfi | 0.26133261 |  0.3153970 | (10245,16501] | (10245,16501] |\n",
       "| 2 |  93.7 | 157.3 | 63.8 | 50.6 | 2.970000 | 3.230000 | 9.4 |  1 | 148 | 1967 | ⋯ | hatchback | fwd | front | ohc   | four  | 2bbl | 0.02758056 | -0.8755816 | [5118,7775]   | [5118,7775]   |\n",
       "| 3 | 115.6 | 202.6 | 71.7 | 56.5 | 3.460000 | 3.100000 | 8.3 | -1 | 161 | 3740 | ⋯ | sedan     | rwd | front | ohcv  | eight | mpfi | 0.72156298 |  2.6602942 | (16501,45400] | (16501,45400] |\n",
       "| 4 | 100.4 | 184.6 | 66.5 | 56.1 | 3.430000 | 3.270000 | 9.0 |  0 | 108 | 3296 | ⋯ | wagon     | fwd | front | ohcv  | six   | mpfi | 0.23040068 |  0.1577972 | (10245,16501] | (10245,16501] |\n",
       "| 5 |  95.3 | 169.0 | 65.7 | 49.6 | 3.329751 | 3.255423 | 9.4 |  3 | 150 | 2380 | ⋯ | hatchback | rwd | front | rotor | two   | 4bbl | 0.14465518 | -0.2790805 | (10245,16501] | (10245,16501] |\n",
       "| 6 |  93.7 | 157.3 | 63.8 | 50.8 | 3.030000 | 3.390000 | 7.6 |  1 | 118 | 2128 | ⋯ | hatchback | fwd | front | ohc   | four  | mpfi | 0.07047813 | -0.6570163 | (7775,10245]  | (7775,10245]  |\n",
       "\n"
      ],
      "text/plain": [
       "  wheelBase length width height bore     stroke   compressionRatio symb\n",
       "1  95.3     169.0  65.7  49.6   3.329751 3.255423 9.4               3  \n",
       "2  93.7     157.3  63.8  50.6   2.970000 3.230000 9.4               1  \n",
       "3 115.6     202.6  71.7  56.5   3.460000 3.100000 8.3              -1  \n",
       "4 100.4     184.6  66.5  56.1   3.430000 3.270000 9.0               0  \n",
       "5  95.3     169.0  65.7  49.6   3.329751 3.255423 9.4               3  \n",
       "6  93.7     157.3  63.8  50.8   3.030000 3.390000 7.6               1  \n",
       "  normLoss curbWeight ⋯ bodyStyle driveWheels engineLocation engineType\n",
       "1 150      2500       ⋯ hatchback rwd         front          rotor     \n",
       "2 148      1967       ⋯ hatchback fwd         front          ohc       \n",
       "3 161      3740       ⋯ sedan     rwd         front          ohcv      \n",
       "4 108      3296       ⋯ wagon     fwd         front          ohcv      \n",
       "5 150      2380       ⋯ hatchback rwd         front          rotor     \n",
       "6 118      2128       ⋯ hatchback fwd         front          ohc       \n",
       "  nrCylinds fuelSystem price_range_normalized price_zscore_normalized\n",
       "1 two       mpfi       0.26133261              0.3153970             \n",
       "2 four      2bbl       0.02758056             -0.8755816             \n",
       "3 eight     mpfi       0.72156298              2.6602942             \n",
       "4 six       mpfi       0.23040068              0.1577972             \n",
       "5 two       4bbl       0.14465518             -0.2790805             \n",
       "6 four      mpfi       0.07047813             -0.6570163             \n",
       "  price_equal_frequency price_equal_width\n",
       "1 (10245,16501]         (10245,16501]    \n",
       "2 [5118,7775]           [5118,7775]      \n",
       "3 (16501,45400]         (16501,45400]    \n",
       "4 (10245,16501]         (10245,16501]    \n",
       "5 (10245,16501]         (10245,16501]    \n",
       "6 (7775,10245]          (7775,10245]     "
      ]
     },
     "metadata": {},
     "output_type": "display_data"
    }
   ],
   "source": [
    "# Random sample of 60% of the cases, with replacement\n",
    "car_insurance_sample_60_replacement <- sample_frac(car_insurance, size = 0.6, replace = TRUE, seed = 111019)\n",
    "\n",
    "# Stratified sample of 60% of the cases of cars, according to the fuelType attribute\n",
    "car_insurance_sample_60_stratified <- sample_frac(car_insurance, size = 0.6, replace = FALSE, stratify = \"fuelType\", seed = 111019)\n",
    "\n",
    "# View the two samples\n",
    "head(car_insurance_sample_60_replacement)\n",
    "head(car_insurance_sample_60_stratified)"
   ]
  },
  {
   "cell_type": "markdown",
   "id": "8daf73a2",
   "metadata": {
    "papermill": {
     "duration": 0.018614,
     "end_time": "2023-06-09T23:36:01.847112",
     "exception": false,
     "start_time": "2023-06-09T23:36:01.828498",
     "status": "completed"
    },
    "tags": []
   },
   "source": [
    "### 4. Load the package corrplot and select the numeric attributes of the car insurance data set.\n",
    "\n",
    "(a) Using the function cor(), obtain the pearson correlation coefficient between each pair of variables.\n",
    "\n",
    "(b) Apply the function cor.mtest() to the previous result to calculate the p-values and confidence \n",
    "intervals of the correlation coefficient for each pair of variables.\n",
    "\n",
    "(c) Plot the all correlation information using the function corrplot. Explore some of its parameters."
   ]
  },
  {
   "cell_type": "code",
   "execution_count": 16,
   "id": "da6227de",
   "metadata": {
    "execution": {
     "iopub.execute_input": "2023-06-09T23:36:01.888977Z",
     "iopub.status.busy": "2023-06-09T23:36:01.887233Z",
     "iopub.status.idle": "2023-06-09T23:36:01.933983Z",
     "shell.execute_reply": "2023-06-09T23:36:01.931867Z"
    },
    "papermill": {
     "duration": 0.07095,
     "end_time": "2023-06-09T23:36:01.936938",
     "exception": false,
     "start_time": "2023-06-09T23:36:01.865988",
     "status": "completed"
    },
    "tags": []
   },
   "outputs": [
    {
     "name": "stderr",
     "output_type": "stream",
     "text": [
      "corrplot 0.92 loaded\n",
      "\n"
     ]
    }
   ],
   "source": [
    "# Load the corrplot package\n",
    "library(corrplot)"
   ]
  },
  {
   "cell_type": "code",
   "execution_count": 17,
   "id": "00d59109",
   "metadata": {
    "execution": {
     "iopub.execute_input": "2023-06-09T23:36:01.981497Z",
     "iopub.status.busy": "2023-06-09T23:36:01.979345Z",
     "iopub.status.idle": "2023-06-09T23:36:02.459114Z",
     "shell.execute_reply": "2023-06-09T23:36:02.457136Z"
    },
    "papermill": {
     "duration": 0.506931,
     "end_time": "2023-06-09T23:36:02.464247",
     "exception": false,
     "start_time": "2023-06-09T23:36:01.957316",
     "status": "completed"
    },
    "tags": []
   },
   "outputs": [
    {
     "data": {
      "image/png": "[encoded data removed]"
     },
     "metadata": {
      "image/png": {
       "height": 420,
       "width": 420
      }
     },
     "output_type": "display_data"
    }
   ],
   "source": [
    "# Select the numeric attributes\n",
    "numeric_attributes <- select_if(car_insurance, is.numeric)\n",
    "# Create a correlation matrix\n",
    "correlation_matrix <- cor(numeric_attributes)\n",
    "\n",
    "# Calculate the p-values and confidence intervals of the correlation coefficient for each pair of variables\n",
    "p_values <- cor.mtest(correlation_matrix)$p.value\n",
    "confidence_intervals <- cor.mtest(correlation_matrix)$conf.int\n",
    "\n",
    "# Plot the correlation matrix\n",
    "corrplot(correlation_matrix, method = \"circle\", p.mat = p_values, sig.level = 0.05, insig = \"blank\")"
   ]
  },
  {
   "cell_type": "markdown",
   "id": "f4f10478",
   "metadata": {
    "papermill": {
     "duration": 0.022639,
     "end_time": "2023-06-09T23:36:02.509911",
     "exception": false,
     "start_time": "2023-06-09T23:36:02.487272",
     "status": "completed"
    },
    "tags": []
   },
   "source": [
    "### 5. Load the data set USJudgeRatings, from the datasets package, containing lawyers’ ratings of state judges in the US Superior Court regarding a set of attributes."
   ]
  },
  {
   "cell_type": "code",
   "execution_count": 18,
   "id": "5d930245",
   "metadata": {
    "execution": {
     "iopub.execute_input": "2023-06-09T23:36:02.559793Z",
     "iopub.status.busy": "2023-06-09T23:36:02.558037Z",
     "iopub.status.idle": "2023-06-09T23:36:02.626849Z",
     "shell.execute_reply": "2023-06-09T23:36:02.624917Z"
    },
    "papermill": {
     "duration": 0.096391,
     "end_time": "2023-06-09T23:36:02.629432",
     "exception": false,
     "start_time": "2023-06-09T23:36:02.533041",
     "status": "completed"
    },
    "tags": []
   },
   "outputs": [
    {
     "data": {
      "text/html": [
       "<table class=\"dataframe\">\n",
       "<caption>A data.frame: 6 × 12</caption>\n",
       "<thead>\n",
       "\t<tr><th></th><th scope=col>CONT</th><th scope=col>INTG</th><th scope=col>DMNR</th><th scope=col>DILG</th><th scope=col>CFMG</th><th scope=col>DECI</th><th scope=col>PREP</th><th scope=col>FAMI</th><th scope=col>ORAL</th><th scope=col>WRIT</th><th scope=col>PHYS</th><th scope=col>RTEN</th></tr>\n",
       "\t<tr><th></th><th scope=col>&lt;dbl&gt;</th><th scope=col>&lt;dbl&gt;</th><th scope=col>&lt;dbl&gt;</th><th scope=col>&lt;dbl&gt;</th><th scope=col>&lt;dbl&gt;</th><th scope=col>&lt;dbl&gt;</th><th scope=col>&lt;dbl&gt;</th><th scope=col>&lt;dbl&gt;</th><th scope=col>&lt;dbl&gt;</th><th scope=col>&lt;dbl&gt;</th><th scope=col>&lt;dbl&gt;</th><th scope=col>&lt;dbl&gt;</th></tr>\n",
       "</thead>\n",
       "<tbody>\n",
       "\t<tr><th scope=row>AARONSON,L.H.</th><td>5.7</td><td>7.9</td><td>7.7</td><td>7.3</td><td>7.1</td><td>7.4</td><td>7.1</td><td>7.1</td><td>7.1</td><td>7.0</td><td>8.3</td><td>7.8</td></tr>\n",
       "\t<tr><th scope=row>ALEXANDER,J.M.</th><td>6.8</td><td>8.9</td><td>8.8</td><td>8.5</td><td>7.8</td><td>8.1</td><td>8.0</td><td>8.0</td><td>7.8</td><td>7.9</td><td>8.5</td><td>8.7</td></tr>\n",
       "\t<tr><th scope=row>ARMENTANO,A.J.</th><td>7.2</td><td>8.1</td><td>7.8</td><td>7.8</td><td>7.5</td><td>7.6</td><td>7.5</td><td>7.5</td><td>7.3</td><td>7.4</td><td>7.9</td><td>7.8</td></tr>\n",
       "\t<tr><th scope=row>BERDON,R.I.</th><td>6.8</td><td>8.8</td><td>8.5</td><td>8.8</td><td>8.3</td><td>8.5</td><td>8.7</td><td>8.7</td><td>8.4</td><td>8.5</td><td>8.8</td><td>8.7</td></tr>\n",
       "\t<tr><th scope=row>BRACKEN,J.J.</th><td>7.3</td><td>6.4</td><td>4.3</td><td>6.5</td><td>6.0</td><td>6.2</td><td>5.7</td><td>5.7</td><td>5.1</td><td>5.3</td><td>5.5</td><td>4.8</td></tr>\n",
       "\t<tr><th scope=row>BURNS,E.B.</th><td>6.2</td><td>8.8</td><td>8.7</td><td>8.5</td><td>7.9</td><td>8.0</td><td>8.1</td><td>8.0</td><td>8.0</td><td>8.0</td><td>8.6</td><td>8.6</td></tr>\n",
       "</tbody>\n",
       "</table>\n"
      ],
      "text/latex": [
       "A data.frame: 6 × 12\n",
       "\\begin{tabular}{r|llllllllllll}\n",
       "  & CONT & INTG & DMNR & DILG & CFMG & DECI & PREP & FAMI & ORAL & WRIT & PHYS & RTEN\\\\\n",
       "  & <dbl> & <dbl> & <dbl> & <dbl> & <dbl> & <dbl> & <dbl> & <dbl> & <dbl> & <dbl> & <dbl> & <dbl>\\\\\n",
       "\\hline\n",
       "\tAARONSON,L.H. & 5.7 & 7.9 & 7.7 & 7.3 & 7.1 & 7.4 & 7.1 & 7.1 & 7.1 & 7.0 & 8.3 & 7.8\\\\\n",
       "\tALEXANDER,J.M. & 6.8 & 8.9 & 8.8 & 8.5 & 7.8 & 8.1 & 8.0 & 8.0 & 7.8 & 7.9 & 8.5 & 8.7\\\\\n",
       "\tARMENTANO,A.J. & 7.2 & 8.1 & 7.8 & 7.8 & 7.5 & 7.6 & 7.5 & 7.5 & 7.3 & 7.4 & 7.9 & 7.8\\\\\n",
       "\tBERDON,R.I. & 6.8 & 8.8 & 8.5 & 8.8 & 8.3 & 8.5 & 8.7 & 8.7 & 8.4 & 8.5 & 8.8 & 8.7\\\\\n",
       "\tBRACKEN,J.J. & 7.3 & 6.4 & 4.3 & 6.5 & 6.0 & 6.2 & 5.7 & 5.7 & 5.1 & 5.3 & 5.5 & 4.8\\\\\n",
       "\tBURNS,E.B. & 6.2 & 8.8 & 8.7 & 8.5 & 7.9 & 8.0 & 8.1 & 8.0 & 8.0 & 8.0 & 8.6 & 8.6\\\\\n",
       "\\end{tabular}\n"
      ],
      "text/markdown": [
       "\n",
       "A data.frame: 6 × 12\n",
       "\n",
       "| <!--/--> | CONT &lt;dbl&gt; | INTG &lt;dbl&gt; | DMNR &lt;dbl&gt; | DILG &lt;dbl&gt; | CFMG &lt;dbl&gt; | DECI &lt;dbl&gt; | PREP &lt;dbl&gt; | FAMI &lt;dbl&gt; | ORAL &lt;dbl&gt; | WRIT &lt;dbl&gt; | PHYS &lt;dbl&gt; | RTEN &lt;dbl&gt; |\n",
       "|---|---|---|---|---|---|---|---|---|---|---|---|---|\n",
       "| AARONSON,L.H. | 5.7 | 7.9 | 7.7 | 7.3 | 7.1 | 7.4 | 7.1 | 7.1 | 7.1 | 7.0 | 8.3 | 7.8 |\n",
       "| ALEXANDER,J.M. | 6.8 | 8.9 | 8.8 | 8.5 | 7.8 | 8.1 | 8.0 | 8.0 | 7.8 | 7.9 | 8.5 | 8.7 |\n",
       "| ARMENTANO,A.J. | 7.2 | 8.1 | 7.8 | 7.8 | 7.5 | 7.6 | 7.5 | 7.5 | 7.3 | 7.4 | 7.9 | 7.8 |\n",
       "| BERDON,R.I. | 6.8 | 8.8 | 8.5 | 8.8 | 8.3 | 8.5 | 8.7 | 8.7 | 8.4 | 8.5 | 8.8 | 8.7 |\n",
       "| BRACKEN,J.J. | 7.3 | 6.4 | 4.3 | 6.5 | 6.0 | 6.2 | 5.7 | 5.7 | 5.1 | 5.3 | 5.5 | 4.8 |\n",
       "| BURNS,E.B. | 6.2 | 8.8 | 8.7 | 8.5 | 7.9 | 8.0 | 8.1 | 8.0 | 8.0 | 8.0 | 8.6 | 8.6 |\n",
       "\n"
      ],
      "text/plain": [
       "               CONT INTG DMNR DILG CFMG DECI PREP FAMI ORAL WRIT PHYS RTEN\n",
       "AARONSON,L.H.  5.7  7.9  7.7  7.3  7.1  7.4  7.1  7.1  7.1  7.0  8.3  7.8 \n",
       "ALEXANDER,J.M. 6.8  8.9  8.8  8.5  7.8  8.1  8.0  8.0  7.8  7.9  8.5  8.7 \n",
       "ARMENTANO,A.J. 7.2  8.1  7.8  7.8  7.5  7.6  7.5  7.5  7.3  7.4  7.9  7.8 \n",
       "BERDON,R.I.    6.8  8.8  8.5  8.8  8.3  8.5  8.7  8.7  8.4  8.5  8.8  8.7 \n",
       "BRACKEN,J.J.   7.3  6.4  4.3  6.5  6.0  6.2  5.7  5.7  5.1  5.3  5.5  4.8 \n",
       "BURNS,E.B.     6.2  8.8  8.7  8.5  7.9  8.0  8.1  8.0  8.0  8.0  8.6  8.6 "
      ]
     },
     "metadata": {},
     "output_type": "display_data"
    },
    {
     "data": {
      "text/html": [
       "<table class=\"dataframe\">\n",
       "<caption>A tibble: 12 × 6</caption>\n",
       "<thead>\n",
       "\t<tr><th scope=col>variables</th><th scope=col>types</th><th scope=col>missing_count</th><th scope=col>missing_percent</th><th scope=col>unique_count</th><th scope=col>unique_rate</th></tr>\n",
       "\t<tr><th scope=col>&lt;chr&gt;</th><th scope=col>&lt;chr&gt;</th><th scope=col>&lt;int&gt;</th><th scope=col>&lt;dbl&gt;</th><th scope=col>&lt;int&gt;</th><th scope=col>&lt;dbl&gt;</th></tr>\n",
       "</thead>\n",
       "<tbody>\n",
       "\t<tr><td>CONT</td><td>numeric</td><td>0</td><td>0</td><td>24</td><td>0.5581395</td></tr>\n",
       "\t<tr><td>INTG</td><td>numeric</td><td>0</td><td>0</td><td>23</td><td>0.5348837</td></tr>\n",
       "\t<tr><td>DMNR</td><td>numeric</td><td>0</td><td>0</td><td>26</td><td>0.6046512</td></tr>\n",
       "\t<tr><td>DILG</td><td>numeric</td><td>0</td><td>0</td><td>26</td><td>0.6046512</td></tr>\n",
       "\t<tr><td>CFMG</td><td>numeric</td><td>0</td><td>0</td><td>23</td><td>0.5348837</td></tr>\n",
       "\t<tr><td>DECI</td><td>numeric</td><td>0</td><td>0</td><td>24</td><td>0.5581395</td></tr>\n",
       "\t<tr><td>PREP</td><td>numeric</td><td>0</td><td>0</td><td>26</td><td>0.6046512</td></tr>\n",
       "\t<tr><td>FAMI</td><td>numeric</td><td>0</td><td>0</td><td>27</td><td>0.6279070</td></tr>\n",
       "\t<tr><td>ORAL</td><td>numeric</td><td>0</td><td>0</td><td>28</td><td>0.6511628</td></tr>\n",
       "\t<tr><td>WRIT</td><td>numeric</td><td>0</td><td>0</td><td>25</td><td>0.5813953</td></tr>\n",
       "\t<tr><td>PHYS</td><td>numeric</td><td>0</td><td>0</td><td>23</td><td>0.5348837</td></tr>\n",
       "\t<tr><td>RTEN</td><td>numeric</td><td>0</td><td>0</td><td>27</td><td>0.6279070</td></tr>\n",
       "</tbody>\n",
       "</table>\n"
      ],
      "text/latex": [
       "A tibble: 12 × 6\n",
       "\\begin{tabular}{llllll}\n",
       " variables & types & missing\\_count & missing\\_percent & unique\\_count & unique\\_rate\\\\\n",
       " <chr> & <chr> & <int> & <dbl> & <int> & <dbl>\\\\\n",
       "\\hline\n",
       "\t CONT & numeric & 0 & 0 & 24 & 0.5581395\\\\\n",
       "\t INTG & numeric & 0 & 0 & 23 & 0.5348837\\\\\n",
       "\t DMNR & numeric & 0 & 0 & 26 & 0.6046512\\\\\n",
       "\t DILG & numeric & 0 & 0 & 26 & 0.6046512\\\\\n",
       "\t CFMG & numeric & 0 & 0 & 23 & 0.5348837\\\\\n",
       "\t DECI & numeric & 0 & 0 & 24 & 0.5581395\\\\\n",
       "\t PREP & numeric & 0 & 0 & 26 & 0.6046512\\\\\n",
       "\t FAMI & numeric & 0 & 0 & 27 & 0.6279070\\\\\n",
       "\t ORAL & numeric & 0 & 0 & 28 & 0.6511628\\\\\n",
       "\t WRIT & numeric & 0 & 0 & 25 & 0.5813953\\\\\n",
       "\t PHYS & numeric & 0 & 0 & 23 & 0.5348837\\\\\n",
       "\t RTEN & numeric & 0 & 0 & 27 & 0.6279070\\\\\n",
       "\\end{tabular}\n"
      ],
      "text/markdown": [
       "\n",
       "A tibble: 12 × 6\n",
       "\n",
       "| variables &lt;chr&gt; | types &lt;chr&gt; | missing_count &lt;int&gt; | missing_percent &lt;dbl&gt; | unique_count &lt;int&gt; | unique_rate &lt;dbl&gt; |\n",
       "|---|---|---|---|---|---|\n",
       "| CONT | numeric | 0 | 0 | 24 | 0.5581395 |\n",
       "| INTG | numeric | 0 | 0 | 23 | 0.5348837 |\n",
       "| DMNR | numeric | 0 | 0 | 26 | 0.6046512 |\n",
       "| DILG | numeric | 0 | 0 | 26 | 0.6046512 |\n",
       "| CFMG | numeric | 0 | 0 | 23 | 0.5348837 |\n",
       "| DECI | numeric | 0 | 0 | 24 | 0.5581395 |\n",
       "| PREP | numeric | 0 | 0 | 26 | 0.6046512 |\n",
       "| FAMI | numeric | 0 | 0 | 27 | 0.6279070 |\n",
       "| ORAL | numeric | 0 | 0 | 28 | 0.6511628 |\n",
       "| WRIT | numeric | 0 | 0 | 25 | 0.5813953 |\n",
       "| PHYS | numeric | 0 | 0 | 23 | 0.5348837 |\n",
       "| RTEN | numeric | 0 | 0 | 27 | 0.6279070 |\n",
       "\n"
      ],
      "text/plain": [
       "   variables types   missing_count missing_percent unique_count unique_rate\n",
       "1  CONT      numeric 0             0               24           0.5581395  \n",
       "2  INTG      numeric 0             0               23           0.5348837  \n",
       "3  DMNR      numeric 0             0               26           0.6046512  \n",
       "4  DILG      numeric 0             0               26           0.6046512  \n",
       "5  CFMG      numeric 0             0               23           0.5348837  \n",
       "6  DECI      numeric 0             0               24           0.5581395  \n",
       "7  PREP      numeric 0             0               26           0.6046512  \n",
       "8  FAMI      numeric 0             0               27           0.6279070  \n",
       "9  ORAL      numeric 0             0               28           0.6511628  \n",
       "10 WRIT      numeric 0             0               25           0.5813953  \n",
       "11 PHYS      numeric 0             0               23           0.5348837  \n",
       "12 RTEN      numeric 0             0               27           0.6279070  "
      ]
     },
     "metadata": {},
     "output_type": "display_data"
    }
   ],
   "source": [
    "# Load the datasets package\n",
    "library(datasets)\n",
    "\n",
    "# Load the USJudgeRatings data set\n",
    "data(USJudgeRatings)\n",
    "head(USJudgeRatings)\n",
    "diagnose(USJudgeRatings)"
   ]
  },
  {
   "cell_type": "markdown",
   "id": "4aed16ee",
   "metadata": {
    "papermill": {
     "duration": 0.023039,
     "end_time": "2023-06-09T23:36:02.675197",
     "exception": false,
     "start_time": "2023-06-09T23:36:02.652158",
     "status": "completed"
    },
    "tags": []
   },
   "source": [
    "(a) Apply the function prcomp() to obtain the principal components. Inspect how each variable is \n",
    "obtained by the linear combination of each component."
   ]
  },
  {
   "cell_type": "code",
   "execution_count": 19,
   "id": "03f04cc8",
   "metadata": {
    "execution": {
     "iopub.execute_input": "2023-06-09T23:36:02.725282Z",
     "iopub.status.busy": "2023-06-09T23:36:02.723483Z",
     "iopub.status.idle": "2023-06-09T23:36:02.796474Z",
     "shell.execute_reply": "2023-06-09T23:36:02.794354Z"
    },
    "papermill": {
     "duration": 0.100765,
     "end_time": "2023-06-09T23:36:02.798904",
     "exception": false,
     "start_time": "2023-06-09T23:36:02.698139",
     "status": "completed"
    },
    "tags": []
   },
   "outputs": [
    {
     "data": {
      "text/html": [
       "<table class=\"dataframe\">\n",
       "<caption>A matrix: 12 × 12 of type dbl</caption>\n",
       "<thead>\n",
       "\t<tr><th></th><th scope=col>PC1</th><th scope=col>PC2</th><th scope=col>PC3</th><th scope=col>PC4</th><th scope=col>PC5</th><th scope=col>PC6</th><th scope=col>PC7</th><th scope=col>PC8</th><th scope=col>PC9</th><th scope=col>PC10</th><th scope=col>PC11</th><th scope=col>PC12</th></tr>\n",
       "</thead>\n",
       "<tbody>\n",
       "\t<tr><th scope=row>CONT</th><td> 0.003075143</td><td>-0.932890644</td><td> 0.334756548</td><td> 0.058576867</td><td> 0.093438368</td><td>-0.004064432</td><td> 0.005214784</td><td>-6.006597e-02</td><td> 0.02514533</td><td>-0.03038881</td><td> 0.0145329260</td><td>-0.007940919</td></tr>\n",
       "\t<tr><th scope=row>INTG</th><td>-0.288550775</td><td> 0.182040993</td><td> 0.549360126</td><td> 0.173977074</td><td>-0.014543880</td><td> 0.369937339</td><td>-0.449810741</td><td> 3.341645e-01</td><td> 0.27537794</td><td> 0.10897641</td><td>-0.1125535650</td><td> 0.009848658</td></tr>\n",
       "\t<tr><th scope=row>DMNR</th><td>-0.286884206</td><td> 0.197565743</td><td> 0.556490386</td><td>-0.124412022</td><td>-0.228832817</td><td>-0.394724667</td><td> 0.466747889</td><td>-2.470974e-01</td><td> 0.19910004</td><td>-0.07241282</td><td> 0.1343234234</td><td> 0.059121657</td></tr>\n",
       "\t<tr><th scope=row>DILG</th><td>-0.304354091</td><td>-0.036304667</td><td>-0.163629910</td><td> 0.321395544</td><td>-0.301936920</td><td> 0.598676072</td><td> 0.209710731</td><td>-3.548587e-01</td><td>-0.03977180</td><td>-0.38339165</td><td> 0.0709517642</td><td> 0.053790339</td></tr>\n",
       "\t<tr><th scope=row>CFMG</th><td>-0.302572733</td><td>-0.168393523</td><td>-0.207341904</td><td> 0.012949223</td><td>-0.448430522</td><td>-0.085728870</td><td> 0.246903359</td><td> 7.135261e-01</td><td>-0.14342471</td><td> 0.09850310</td><td> 0.1658680927</td><td> 0.025082947</td></tr>\n",
       "\t<tr><th scope=row>DECI</th><td>-0.301891969</td><td>-0.127877299</td><td>-0.297902771</td><td> 0.030491779</td><td>-0.424003128</td><td>-0.392609484</td><td>-0.536429933</td><td>-3.024227e-01</td><td> 0.25823773</td><td> 0.06743847</td><td>-0.1284999526</td><td> 0.044141604</td></tr>\n",
       "\t<tr><th scope=row>PREP</th><td>-0.309406446</td><td>-0.032230248</td><td>-0.151869345</td><td> 0.213656069</td><td> 0.202853400</td><td> 0.083216652</td><td> 0.335390036</td><td>-1.536754e-01</td><td> 0.10876864</td><td> 0.67986284</td><td>-0.3187612119</td><td>-0.273286884</td></tr>\n",
       "\t<tr><th scope=row>FAMI</th><td>-0.306679527</td><td> 0.001315183</td><td>-0.195290454</td><td> 0.200651140</td><td> 0.507470003</td><td>-0.101538704</td><td>-0.036378004</td><td> 2.038889e-02</td><td> 0.22306628</td><td> 0.04004599</td><td> 0.5733628652</td><td> 0.421739844</td></tr>\n",
       "\t<tr><th scope=row>ORAL</th><td>-0.312708348</td><td> 0.003625720</td><td>-0.002150634</td><td>-0.007441042</td><td> 0.246059421</td><td>-0.150272440</td><td> 0.057580177</td><td> 9.062990e-02</td><td>-0.29951714</td><td>-0.25599455</td><td>-0.6386061655</td><td> 0.494391025</td></tr>\n",
       "\t<tr><th scope=row>WRIT</th><td>-0.311061231</td><td> 0.031378756</td><td>-0.056045596</td><td> 0.137104995</td><td> 0.305562842</td><td>-0.238172386</td><td>-0.060899994</td><td> 1.261203e-01</td><td>-0.02497324</td><td>-0.47478254</td><td> 0.0004056397</td><td>-0.696107204</td></tr>\n",
       "\t<tr><th scope=row>PHYS</th><td>-0.280723624</td><td>-0.089037698</td><td>-0.154000444</td><td>-0.841266046</td><td> 0.118424976</td><td> 0.299281534</td><td> 0.024959951</td><td>-1.364511e-05</td><td> 0.26627286</td><td>-0.05900837</td><td>-0.0181381019</td><td>-0.053783960</td></tr>\n",
       "\t<tr><th scope=row>RTEN</th><td>-0.309790218</td><td> 0.039381306</td><td> 0.172869757</td><td>-0.184223629</td><td> 0.006717911</td><td> 0.036126847</td><td>-0.256194180</td><td>-2.213898e-01</td><td>-0.75645893</td><td> 0.24993250</td><td> 0.2855143026</td><td>-0.080267574</td></tr>\n",
       "</tbody>\n",
       "</table>\n"
      ],
      "text/latex": [
       "A matrix: 12 × 12 of type dbl\n",
       "\\begin{tabular}{r|llllllllllll}\n",
       "  & PC1 & PC2 & PC3 & PC4 & PC5 & PC6 & PC7 & PC8 & PC9 & PC10 & PC11 & PC12\\\\\n",
       "\\hline\n",
       "\tCONT &  0.003075143 & -0.932890644 &  0.334756548 &  0.058576867 &  0.093438368 & -0.004064432 &  0.005214784 & -6.006597e-02 &  0.02514533 & -0.03038881 &  0.0145329260 & -0.007940919\\\\\n",
       "\tINTG & -0.288550775 &  0.182040993 &  0.549360126 &  0.173977074 & -0.014543880 &  0.369937339 & -0.449810741 &  3.341645e-01 &  0.27537794 &  0.10897641 & -0.1125535650 &  0.009848658\\\\\n",
       "\tDMNR & -0.286884206 &  0.197565743 &  0.556490386 & -0.124412022 & -0.228832817 & -0.394724667 &  0.466747889 & -2.470974e-01 &  0.19910004 & -0.07241282 &  0.1343234234 &  0.059121657\\\\\n",
       "\tDILG & -0.304354091 & -0.036304667 & -0.163629910 &  0.321395544 & -0.301936920 &  0.598676072 &  0.209710731 & -3.548587e-01 & -0.03977180 & -0.38339165 &  0.0709517642 &  0.053790339\\\\\n",
       "\tCFMG & -0.302572733 & -0.168393523 & -0.207341904 &  0.012949223 & -0.448430522 & -0.085728870 &  0.246903359 &  7.135261e-01 & -0.14342471 &  0.09850310 &  0.1658680927 &  0.025082947\\\\\n",
       "\tDECI & -0.301891969 & -0.127877299 & -0.297902771 &  0.030491779 & -0.424003128 & -0.392609484 & -0.536429933 & -3.024227e-01 &  0.25823773 &  0.06743847 & -0.1284999526 &  0.044141604\\\\\n",
       "\tPREP & -0.309406446 & -0.032230248 & -0.151869345 &  0.213656069 &  0.202853400 &  0.083216652 &  0.335390036 & -1.536754e-01 &  0.10876864 &  0.67986284 & -0.3187612119 & -0.273286884\\\\\n",
       "\tFAMI & -0.306679527 &  0.001315183 & -0.195290454 &  0.200651140 &  0.507470003 & -0.101538704 & -0.036378004 &  2.038889e-02 &  0.22306628 &  0.04004599 &  0.5733628652 &  0.421739844\\\\\n",
       "\tORAL & -0.312708348 &  0.003625720 & -0.002150634 & -0.007441042 &  0.246059421 & -0.150272440 &  0.057580177 &  9.062990e-02 & -0.29951714 & -0.25599455 & -0.6386061655 &  0.494391025\\\\\n",
       "\tWRIT & -0.311061231 &  0.031378756 & -0.056045596 &  0.137104995 &  0.305562842 & -0.238172386 & -0.060899994 &  1.261203e-01 & -0.02497324 & -0.47478254 &  0.0004056397 & -0.696107204\\\\\n",
       "\tPHYS & -0.280723624 & -0.089037698 & -0.154000444 & -0.841266046 &  0.118424976 &  0.299281534 &  0.024959951 & -1.364511e-05 &  0.26627286 & -0.05900837 & -0.0181381019 & -0.053783960\\\\\n",
       "\tRTEN & -0.309790218 &  0.039381306 &  0.172869757 & -0.184223629 &  0.006717911 &  0.036126847 & -0.256194180 & -2.213898e-01 & -0.75645893 &  0.24993250 &  0.2855143026 & -0.080267574\\\\\n",
       "\\end{tabular}\n"
      ],
      "text/markdown": [
       "\n",
       "A matrix: 12 × 12 of type dbl\n",
       "\n",
       "| <!--/--> | PC1 | PC2 | PC3 | PC4 | PC5 | PC6 | PC7 | PC8 | PC9 | PC10 | PC11 | PC12 |\n",
       "|---|---|---|---|---|---|---|---|---|---|---|---|---|\n",
       "| CONT |  0.003075143 | -0.932890644 |  0.334756548 |  0.058576867 |  0.093438368 | -0.004064432 |  0.005214784 | -6.006597e-02 |  0.02514533 | -0.03038881 |  0.0145329260 | -0.007940919 |\n",
       "| INTG | -0.288550775 |  0.182040993 |  0.549360126 |  0.173977074 | -0.014543880 |  0.369937339 | -0.449810741 |  3.341645e-01 |  0.27537794 |  0.10897641 | -0.1125535650 |  0.009848658 |\n",
       "| DMNR | -0.286884206 |  0.197565743 |  0.556490386 | -0.124412022 | -0.228832817 | -0.394724667 |  0.466747889 | -2.470974e-01 |  0.19910004 | -0.07241282 |  0.1343234234 |  0.059121657 |\n",
       "| DILG | -0.304354091 | -0.036304667 | -0.163629910 |  0.321395544 | -0.301936920 |  0.598676072 |  0.209710731 | -3.548587e-01 | -0.03977180 | -0.38339165 |  0.0709517642 |  0.053790339 |\n",
       "| CFMG | -0.302572733 | -0.168393523 | -0.207341904 |  0.012949223 | -0.448430522 | -0.085728870 |  0.246903359 |  7.135261e-01 | -0.14342471 |  0.09850310 |  0.1658680927 |  0.025082947 |\n",
       "| DECI | -0.301891969 | -0.127877299 | -0.297902771 |  0.030491779 | -0.424003128 | -0.392609484 | -0.536429933 | -3.024227e-01 |  0.25823773 |  0.06743847 | -0.1284999526 |  0.044141604 |\n",
       "| PREP | -0.309406446 | -0.032230248 | -0.151869345 |  0.213656069 |  0.202853400 |  0.083216652 |  0.335390036 | -1.536754e-01 |  0.10876864 |  0.67986284 | -0.3187612119 | -0.273286884 |\n",
       "| FAMI | -0.306679527 |  0.001315183 | -0.195290454 |  0.200651140 |  0.507470003 | -0.101538704 | -0.036378004 |  2.038889e-02 |  0.22306628 |  0.04004599 |  0.5733628652 |  0.421739844 |\n",
       "| ORAL | -0.312708348 |  0.003625720 | -0.002150634 | -0.007441042 |  0.246059421 | -0.150272440 |  0.057580177 |  9.062990e-02 | -0.29951714 | -0.25599455 | -0.6386061655 |  0.494391025 |\n",
       "| WRIT | -0.311061231 |  0.031378756 | -0.056045596 |  0.137104995 |  0.305562842 | -0.238172386 | -0.060899994 |  1.261203e-01 | -0.02497324 | -0.47478254 |  0.0004056397 | -0.696107204 |\n",
       "| PHYS | -0.280723624 | -0.089037698 | -0.154000444 | -0.841266046 |  0.118424976 |  0.299281534 |  0.024959951 | -1.364511e-05 |  0.26627286 | -0.05900837 | -0.0181381019 | -0.053783960 |\n",
       "| RTEN | -0.309790218 |  0.039381306 |  0.172869757 | -0.184223629 |  0.006717911 |  0.036126847 | -0.256194180 | -2.213898e-01 | -0.75645893 |  0.24993250 |  0.2855143026 | -0.080267574 |\n",
       "\n"
      ],
      "text/plain": [
       "     PC1          PC2          PC3          PC4          PC5         \n",
       "CONT  0.003075143 -0.932890644  0.334756548  0.058576867  0.093438368\n",
       "INTG -0.288550775  0.182040993  0.549360126  0.173977074 -0.014543880\n",
       "DMNR -0.286884206  0.197565743  0.556490386 -0.124412022 -0.228832817\n",
       "DILG -0.304354091 -0.036304667 -0.163629910  0.321395544 -0.301936920\n",
       "CFMG -0.302572733 -0.168393523 -0.207341904  0.012949223 -0.448430522\n",
       "DECI -0.301891969 -0.127877299 -0.297902771  0.030491779 -0.424003128\n",
       "PREP -0.309406446 -0.032230248 -0.151869345  0.213656069  0.202853400\n",
       "FAMI -0.306679527  0.001315183 -0.195290454  0.200651140  0.507470003\n",
       "ORAL -0.312708348  0.003625720 -0.002150634 -0.007441042  0.246059421\n",
       "WRIT -0.311061231  0.031378756 -0.056045596  0.137104995  0.305562842\n",
       "PHYS -0.280723624 -0.089037698 -0.154000444 -0.841266046  0.118424976\n",
       "RTEN -0.309790218  0.039381306  0.172869757 -0.184223629  0.006717911\n",
       "     PC6          PC7          PC8           PC9         PC10       \n",
       "CONT -0.004064432  0.005214784 -6.006597e-02  0.02514533 -0.03038881\n",
       "INTG  0.369937339 -0.449810741  3.341645e-01  0.27537794  0.10897641\n",
       "DMNR -0.394724667  0.466747889 -2.470974e-01  0.19910004 -0.07241282\n",
       "DILG  0.598676072  0.209710731 -3.548587e-01 -0.03977180 -0.38339165\n",
       "CFMG -0.085728870  0.246903359  7.135261e-01 -0.14342471  0.09850310\n",
       "DECI -0.392609484 -0.536429933 -3.024227e-01  0.25823773  0.06743847\n",
       "PREP  0.083216652  0.335390036 -1.536754e-01  0.10876864  0.67986284\n",
       "FAMI -0.101538704 -0.036378004  2.038889e-02  0.22306628  0.04004599\n",
       "ORAL -0.150272440  0.057580177  9.062990e-02 -0.29951714 -0.25599455\n",
       "WRIT -0.238172386 -0.060899994  1.261203e-01 -0.02497324 -0.47478254\n",
       "PHYS  0.299281534  0.024959951 -1.364511e-05  0.26627286 -0.05900837\n",
       "RTEN  0.036126847 -0.256194180 -2.213898e-01 -0.75645893  0.24993250\n",
       "     PC11          PC12        \n",
       "CONT  0.0145329260 -0.007940919\n",
       "INTG -0.1125535650  0.009848658\n",
       "DMNR  0.1343234234  0.059121657\n",
       "DILG  0.0709517642  0.053790339\n",
       "CFMG  0.1658680927  0.025082947\n",
       "DECI -0.1284999526  0.044141604\n",
       "PREP -0.3187612119 -0.273286884\n",
       "FAMI  0.5733628652  0.421739844\n",
       "ORAL -0.6386061655  0.494391025\n",
       "WRIT  0.0004056397 -0.696107204\n",
       "PHYS -0.0181381019 -0.053783960\n",
       "RTEN  0.2855143026 -0.080267574"
      ]
     },
     "metadata": {},
     "output_type": "display_data"
    }
   ],
   "source": [
    "# Apply the prcomp() function to obtain the principal components\n",
    "pc <- prcomp(USJudgeRatings, scale = TRUE)\n",
    "\n",
    "# Inspect how each variable is obtained by the linear combination of each component\n",
    "pc$rotation"
   ]
  },
  {
   "cell_type": "markdown",
   "id": "06c28419",
   "metadata": {
    "papermill": {
     "duration": 0.025925,
     "end_time": "2023-06-09T23:36:02.848132",
     "exception": false,
     "start_time": "2023-06-09T23:36:02.822207",
     "status": "completed"
    },
    "tags": []
   },
   "source": [
    "(b) Load the package ggbiplot and plot the two first components with the function ggbiplot(). You can \n",
    "label each point with the lawyer’s name by setting the labels parameter"
   ]
  },
  {
   "cell_type": "code",
   "execution_count": 20,
   "id": "adf68a5a",
   "metadata": {
    "execution": {
     "iopub.execute_input": "2023-06-09T23:36:02.943473Z",
     "iopub.status.busy": "2023-06-09T23:36:02.941626Z",
     "iopub.status.idle": "2023-06-09T23:36:03.215220Z",
     "shell.execute_reply": "2023-06-09T23:36:03.213220Z"
    },
    "papermill": {
     "duration": 0.302568,
     "end_time": "2023-06-09T23:36:03.218340",
     "exception": false,
     "start_time": "2023-06-09T23:36:02.915772",
     "status": "completed"
    },
    "tags": []
   },
   "outputs": [
    {
     "name": "stderr",
     "output_type": "stream",
     "text": [
      "Warning message in plot.window(...):\n",
      "“\"var.col\" is not a graphical parameter”\n",
      "Warning message in plot.window(...):\n",
      "“\"var.cex\" is not a graphical parameter”\n",
      "Warning message in plot.window(...):\n",
      "“\"point.size\" is not a graphical parameter”\n",
      "Warning message in plot.window(...):\n",
      "“\"alpha\" is not a graphical parameter”\n",
      "Warning message in plot.xy(xy, type, ...):\n",
      "“\"var.col\" is not a graphical parameter”\n",
      "Warning message in plot.xy(xy, type, ...):\n",
      "“\"var.cex\" is not a graphical parameter”\n",
      "Warning message in plot.xy(xy, type, ...):\n",
      "“\"point.size\" is not a graphical parameter”\n",
      "Warning message in plot.xy(xy, type, ...):\n",
      "“\"alpha\" is not a graphical parameter”\n",
      "Warning message in axis(side = side, at = at, labels = labels, ...):\n",
      "“\"var.col\" is not a graphical parameter”\n",
      "Warning message in axis(side = side, at = at, labels = labels, ...):\n",
      "“\"var.cex\" is not a graphical parameter”\n",
      "Warning message in axis(side = side, at = at, labels = labels, ...):\n",
      "“\"point.size\" is not a graphical parameter”\n",
      "Warning message in axis(side = side, at = at, labels = labels, ...):\n",
      "“\"alpha\" is not a graphical parameter”\n",
      "Warning message in axis(side = side, at = at, labels = labels, ...):\n",
      "“\"var.col\" is not a graphical parameter”\n",
      "Warning message in axis(side = side, at = at, labels = labels, ...):\n",
      "“\"var.cex\" is not a graphical parameter”\n",
      "Warning message in axis(side = side, at = at, labels = labels, ...):\n",
      "“\"point.size\" is not a graphical parameter”\n",
      "Warning message in axis(side = side, at = at, labels = labels, ...):\n",
      "“\"alpha\" is not a graphical parameter”\n",
      "Warning message in box(...):\n",
      "“\"var.col\" is not a graphical parameter”\n",
      "Warning message in box(...):\n",
      "“\"var.cex\" is not a graphical parameter”\n",
      "Warning message in box(...):\n",
      "“\"point.size\" is not a graphical parameter”\n",
      "Warning message in box(...):\n",
      "“\"alpha\" is not a graphical parameter”\n",
      "Warning message in title(...):\n",
      "“\"var.col\" is not a graphical parameter”\n",
      "Warning message in title(...):\n",
      "“\"var.cex\" is not a graphical parameter”\n",
      "Warning message in title(...):\n",
      "“\"point.size\" is not a graphical parameter”\n",
      "Warning message in title(...):\n",
      "“\"alpha\" is not a graphical parameter”\n",
      "Warning message in text.default(x, xlabs, cex = cex[1L], col = col[1L], ...):\n",
      "“\"var.col\" is not a graphical parameter”\n",
      "Warning message in text.default(x, xlabs, cex = cex[1L], col = col[1L], ...):\n",
      "“\"var.cex\" is not a graphical parameter”\n",
      "Warning message in text.default(x, xlabs, cex = cex[1L], col = col[1L], ...):\n",
      "“\"point.size\" is not a graphical parameter”\n",
      "Warning message in text.default(x, xlabs, cex = cex[1L], col = col[1L], ...):\n",
      "“\"alpha\" is not a graphical parameter”\n",
      "Warning message in plot.window(...):\n",
      "“\"var.col\" is not a graphical parameter”\n",
      "Warning message in plot.window(...):\n",
      "“\"var.cex\" is not a graphical parameter”\n",
      "Warning message in plot.window(...):\n",
      "“\"point.size\" is not a graphical parameter”\n",
      "Warning message in plot.window(...):\n",
      "“\"alpha\" is not a graphical parameter”\n",
      "Warning message in plot.xy(xy, type, ...):\n",
      "“\"var.col\" is not a graphical parameter”\n",
      "Warning message in plot.xy(xy, type, ...):\n",
      "“\"var.cex\" is not a graphical parameter”\n",
      "Warning message in plot.xy(xy, type, ...):\n",
      "“\"point.size\" is not a graphical parameter”\n",
      "Warning message in plot.xy(xy, type, ...):\n",
      "“\"alpha\" is not a graphical parameter”\n",
      "Warning message in title(...):\n",
      "“\"var.col\" is not a graphical parameter”\n",
      "Warning message in title(...):\n",
      "“\"var.cex\" is not a graphical parameter”\n",
      "Warning message in title(...):\n",
      "“\"point.size\" is not a graphical parameter”\n",
      "Warning message in title(...):\n",
      "“\"alpha\" is not a graphical parameter”\n",
      "Warning message in axis(3, col = col[2L], ...):\n",
      "“\"var.col\" is not a graphical parameter”\n",
      "Warning message in axis(3, col = col[2L], ...):\n",
      "“\"var.cex\" is not a graphical parameter”\n",
      "Warning message in axis(3, col = col[2L], ...):\n",
      "“\"point.size\" is not a graphical parameter”\n",
      "Warning message in axis(3, col = col[2L], ...):\n",
      "“\"alpha\" is not a graphical parameter”\n",
      "Warning message in axis(4, col = col[2L], ...):\n",
      "“\"var.col\" is not a graphical parameter”\n",
      "Warning message in axis(4, col = col[2L], ...):\n",
      "“\"var.cex\" is not a graphical parameter”\n",
      "Warning message in axis(4, col = col[2L], ...):\n",
      "“\"point.size\" is not a graphical parameter”\n",
      "Warning message in axis(4, col = col[2L], ...):\n",
      "“\"alpha\" is not a graphical parameter”\n",
      "Warning message in text.default(y, labels = ylabs, cex = cex[2L], col = col[2L], :\n",
      "“\"var.col\" is not a graphical parameter”\n",
      "Warning message in text.default(y, labels = ylabs, cex = cex[2L], col = col[2L], :\n",
      "“\"var.cex\" is not a graphical parameter”\n",
      "Warning message in text.default(y, labels = ylabs, cex = cex[2L], col = col[2L], :\n",
      "“\"point.size\" is not a graphical parameter”\n",
      "Warning message in text.default(y, labels = ylabs, cex = cex[2L], col = col[2L], :\n",
      "“\"alpha\" is not a graphical parameter”\n"
     ]
    },
    {
     "data": {
      "image/png": "[encoded data removed]"
     },
     "metadata": {
      "image/png": {
       "height": 420,
       "width": 420
      }
     },
     "output_type": "display_data"
    }
   ],
   "source": [
    "# Load the package stats\n",
    "library(stats)\n",
    "\n",
    "# Plot the biplot\n",
    "biplot(pc, \n",
    "       expand = 3, \n",
    "       var.col = \"blue\", \n",
    "       var.cex = 0.7, \n",
    "       point.size = 2, \n",
    "       alpha = 0.5)"
   ]
  }
 ],
 "metadata": {
  "kernelspec": {
   "display_name": "R",
   "language": "R",
   "name": "ir"
  },
  "language_info": {
   "codemirror_mode": "r",
   "file_extension": ".r",
   "mimetype": "text/x-r-source",
   "name": "R",
   "pygments_lexer": "r",
   "version": "4.0.5"
  },
  "papermill": {
   "default_parameters": {},
   "duration": 159.586632,
   "end_time": "2023-06-09T23:36:03.371453",
   "environment_variables": {},
   "exception": null,
   "input_path": "__notebook__.ipynb",
   "output_path": "__notebook__.ipynb",
   "parameters": {},
   "start_time": "2023-06-09T23:33:23.784821",
   "version": "2.4.0"
  }
 },
 "nbformat": 4,
 "nbformat_minor": 5
}
